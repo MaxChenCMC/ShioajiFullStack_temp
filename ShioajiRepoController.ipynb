{
 "cells": [
  {
   "cell_type": "code",
   "execution_count": null,
   "metadata": {
    "dotnet_interactive": {
     "language": "csharp"
    },
    "polyglot_notebook": {
     "kernelName": "csharp"
    }
   },
   "outputs": [],
   "source": [
    "using System;\n",
    "using System.Collections.Generic;\n",
    "using System.IO;\n",
    "using System.Text.Json;\n",
    "using Sinopac.Shioaji;\n",
    "\n",
    "class SJCls\n",
    "{\n",
    "        private static Shioaji _api = new Shioaji();\n",
    "        public void Login()\n",
    "        {\n",
    "            string jsonString = File.ReadAllText(\"Sinopac.json\");\n",
    "            JsonElement root = JsonDocument.Parse(jsonString).RootElement;\n",
    "            _api.Login(root.GetProperty(\"API_Key\").GetString(), root.GetProperty(\"Secret_Key\").GetString());\n",
    "            _api.ca_activate(\"Sinopac.pfx\", root.GetProperty(\"ca_passwd\").GetString(), root.GetProperty(\"person_id\").GetString());\n",
    "        }\n",
    "\n",
    "        // public dynamic TbarTseTxfOtc()\n",
    "        // {\n",
    "        //     SJList res = _api.Snapshots(new List<IContract>() {\n",
    "        //     _api.Contracts.Futures[\"TXF\"][\"TXFR1\"],\n",
    "        //     _api.Contracts.Indexs[\"TSE\"][\"001\"],\n",
    "        //     _api.Contracts.Indexs[\"OTC\"][\"101\"]\n",
    "        //     });\n",
    "\n",
    "        //     List<Dictionary<string, List<object>>> combinedList = new List<Dictionary<string, List<object>>>();\n",
    "        //     for (int i = 0; i < res.ToArray().Length; i++)\n",
    "        //     {\n",
    "        //         Dictionary<string, List<object>> dict = new Dictionary<string, List<object>>();\n",
    "        //         List<object> values = new List<object>();\n",
    "        //         values.Add(res[0].close);\n",
    "        //         values.Add(res[0].change_price);\n",
    "        //         values.Add(res[0].change_rate);\n",
    "        //         dict.Add(res[i].code, values);\n",
    "        //         combinedList.Add(dict);\n",
    "        //     }\n",
    "        //     return combinedList;\n",
    "        // }\n",
    "\n",
    "        // public SJList AmountRank(int num)\n",
    "        // {\n",
    "        //     SJList res = _api.Scanners(date: \"2023-12-29\", scannerType: ScannerType.AmountRank, count: num);\n",
    "        //     return res;\n",
    "        // }\n",
    "\n",
    "        // public SJList ChangePercentRank(int num)\n",
    "        // {\n",
    "        //     SJList res = _api.Scanners(date: \"2023-12-29\", scannerType: ScannerType.ChangePercentRank, count: num);\n",
    "        //     return res;\n",
    "        // }\n",
    "\n",
    "        // public object TicksLastCount(int num)\n",
    "        // {\n",
    "        //     var TicksQuery = _api.Ticks(_api.Contracts.Futures[\"TXF\"][\"TXFR1\"], \"2023-12-29\", TicksQueryType.LastCount, last_cnt: num);\n",
    "\n",
    "        //     List<DateTimeOffset> generalTimes = new List<DateTimeOffset>();\n",
    "        //     foreach (long timestamp in TicksQuery.ts)\n",
    "        //     {\n",
    "        //         DateTime dateTime = DateTimeOffset.FromUnixTimeMilliseconds(timestamp / 1000000).UtcDateTime;\n",
    "        //         generalTimes.Add(new DateTimeOffset(dateTime, TimeSpan.Zero));\n",
    "        //     }\n",
    "        //     List<string> tsFormat = new List<string>();\n",
    "        //     foreach (var i in generalTimes) tsFormat.Add(i.ToString(\"HH:mm:ss\"));\n",
    "\n",
    "        //     List<Dictionary<string, object>> combinedList = new List<Dictionary<string, object>>();\n",
    "        //     for (int i = 0; i < tsFormat.ToArray().Length; i++)\n",
    "        //     {\n",
    "        //         Dictionary<string, object> dict = new Dictionary<string, object>();\n",
    "        //         dict.Add(tsFormat[i], TicksQuery.close[i]);\n",
    "        //         combinedList.Add(dict);\n",
    "        //     }\n",
    "        //     return combinedList;\n",
    "        // }\n",
    "\n",
    "\n",
    "        // public SJList BlueChips()\n",
    "        // {\n",
    "        //     List<string> tw50 = new List<string>(){\n",
    "        //         \"2330\", \"2454\", \"2317\", \"2412\", \"2382\", \"2881\", \"2308\", \"6505\", \"2882\", \"2303\",\n",
    "        //         \"3711\", \"2886\", \"2891\", \"1303\", \"1301\", \"2002\", \"1216\", \"2884\", \"2207\", \"5880\",\n",
    "        //         \"3008\", \"2892\", \"3045\", \"1326\", \"2357\", \"2885\", \"6669\", \"2395\", \"3034\", \"5871\",\n",
    "        //         \"2880\", \"2603\", \"2345\", \"3231\", \"4904\", \"2912\", \"2301\", \"3037\", \"1101\", \"2327\",\n",
    "        //         \"2890\", \"2379\", \"2408\", \"3661\", \"3443\", \"4938\", \"5876\", \"2887\", \"2883\", \"1590\"\n",
    "        //     };\n",
    "        //     var tw50_otc10 = new List<IContract>();\n",
    "        //     foreach (var i in tw50)\n",
    "        //     {\n",
    "        //         tw50_otc10.Add(_api.Contracts.Stocks[\"TSE\"][i]);\n",
    "        //     }\n",
    "        //     foreach (var i in new List<string> { \"6488\", \"8069\", \"3529\", \"5347\", \"5274\", \"6446\", \"5483\", \"8299\", \"3293\", \"4966\" })\n",
    "        //     {\n",
    "        //         tw50_otc10.Add(_api.Contracts.Stocks[\"OTC\"][i]);\n",
    "        //     }\n",
    "        //     return _api.Snapshots(tw50_otc10);\n",
    "        // }\n",
    "\n",
    "\n",
    "        public object Kline(int dayDiff)\n",
    "        {\n",
    "            Kbars res = _api.Kbars(_api.Contracts.Futures[\"TXF\"][\"TXFR1\"],\n",
    "                // DateTime.Now.AddDays(-dayDiff).ToString(\"yyyy-MM-dd\"),\n",
    "                // DateTime.Now.ToString(\"yyyy-MM-dd\")\n",
    "                \"2023-12-28\", \"2023-12-29\"\n",
    "                );\n",
    "\n",
    "            List<DateTimeOffset> generalTimes = new List<DateTimeOffset>();\n",
    "            foreach (long timestamp in res.ts)\n",
    "            {\n",
    "                DateTime dateTime = DateTimeOffset.FromUnixTimeMilliseconds(timestamp / 1000000).UtcDateTime;\n",
    "                generalTimes.Add(new DateTimeOffset(dateTime, TimeSpan.Zero));\n",
    "            }\n",
    "            List<string> tsFormat = new List<string>();\n",
    "            foreach (var i in generalTimes) tsFormat.Add(i.ToString(\"HH:mm:ss\"));\n",
    "\n",
    "            List<Dictionary<string, object>> combinedList = new List<Dictionary<string, object>>();\n",
    "            for (int i = 0; i < tsFormat.ToArray().Length; i++)\n",
    "            {\n",
    "                Dictionary<string, object> dict = new Dictionary<string, object>();\n",
    "                dict.Add(tsFormat[i], res.Close[i]);\n",
    "                combinedList.Add(dict);\n",
    "            }\n",
    "            return res;\n",
    "        }\n",
    "\n",
    "    // public SJList Focus()\n",
    "    // {\n",
    "    //     List<string> todayFocus = [\"2353\",\"3231\",\"2344\",\"2324\",\"2356\",\"5521\",\"2352\",\"2382\",\"3481\"];\n",
    "    //     List<string> yesterdayFocus = [\"3706\",\"2303\",\"2515\",\"3006\",\"2609\",\"2486\",\"1514\",\"2409\",\"6125\"];\n",
    "    //     List<string> daytradeFocus = [\"2382\",\"3231\",\"1519\",\"2353\",\"3017\",\"3661\",\"3006\",\"2356\",\"2376\"];\n",
    "\n",
    "    //     List<IContract> totalFocus = new List<IContract>();\n",
    "    //     // 九檔全列\n",
    "    //     foreach (var i in todayFocus){\n",
    "    //         totalFocus.Add(_api.Contracts.Stocks[\"TSE\"][i]);\n",
    "    //     }\n",
    "    //     // 希望重複的會忽略，9+9<=18\n",
    "    //     foreach (var i in yesterdayFocus){\n",
    "    //         totalFocus.Add(_api.Contracts.Stocks[\"TSE\"][i]);\n",
    "    //     }\n",
    "    //     // 反向取最後九檔，但有可能當沖上榜的跟熱門股重複\n",
    "    //     foreach (var i in daytradeFocus){\n",
    "    //         totalFocus.Add(_api.Contracts.Stocks[\"TSE\"][i]);\n",
    "    //     }\n",
    "    //     var res = _api.Snapshots(totalFocus);\n",
    "    //     return res;\n",
    "    // }    \n",
    "}\n",
    "\n",
    "SJCls SJ = new SJCls();\n",
    "SJ.Login();"
   ]
  },
  {
   "cell_type": "code",
   "execution_count": 6,
   "metadata": {
    "dotnet_interactive": {
     "language": "csharp"
    },
    "polyglot_notebook": {
     "kernelName": "csharp"
    }
   },
   "outputs": [
    {
     "ename": "Error",
     "evalue": "(14,1): error CS0103: 名稱 'api' 不存在於目前的內容中",
     "output_type": "error",
     "traceback": [
      "(14,1): error CS0103: 名稱 'api' 不存在於目前的內容中"
     ]
    }
   ],
   "source": [
    "// _api.Settlements()\n",
    "// _api.AccountBalance()\n",
    "// _api.Ticks(_api.Contracts.Stocks[\"TSE\"][\"2330\"], DateTime.Now.ToString(\"yyyy-MM-dd\"))\n",
    "\n",
    "// _api.ListPositions(_api.FutureAccount)\n",
    "// _api.Ticks(_api.Contracts.Futures[\"TXF\"][\"TXFR1\"], DateTime.Now.ToString(\"yyyy-MM-dd\"))\n",
    "// _api.Ticks(_api.Contracts.Futures[\"TXF\"][\"TXFR1\"], DateTime.Now.ToString(\"yyyy-MM-dd\"), TicksQueryType.RangeTime, time_start:\"22:40:00\",time_end:\"22:50:00\")\n",
    "// _api.Ticks(_api.Contracts.Futures[\"TXF\"][\"TXFR1\"], DateTime.Now.ToString(\"yyyy-MM-dd\"), TicksQueryType.LastCount, last_cnt:10)\n",
    "// _api.Kbars(_api.Contracts.Futures[\"TXF\"][\"TXFR1\"],DateTime.Now.AddDays(-1).ToString(\"yyyy-MM-dd\"), DateTime.Now.ToString(\"yyyy-MM-dd\") )\n",
    "// _api.Contracts.Options[\"TX1\"][\"TX120240117950C\"]\n",
    "// _api.ListProfitLossSummary(begin_date: \"2023-10-01\",end_date: \"2023-12-25\")\n",
    "// _api.ListPositions(_api.FutureAccount)\n",
    "// _api.ListPositionDetail()"
   ]
  },
  {
   "cell_type": "code",
   "execution_count": 3,
   "metadata": {
    "dotnet_interactive": {
     "language": "csharp"
    },
    "polyglot_notebook": {
     "kernelName": "csharp"
    }
   },
   "outputs": [
    {
     "data": {
      "text/html": [
       "<div><div></div><div></div><div><strong>Installed Packages</strong><ul><li><span>Shioaji, 1.1.8</span></li></ul></div></div>"
      ]
     },
     "metadata": {},
     "output_type": "display_data"
    }
   ],
   "source": [
    "// using System;\n",
    "// using System.Collections.Generic;\n",
    "// using System.Linq;\n",
    "// using System.Text;\n",
    "// using System.Collections;\n",
    "// using System.Threading;\n",
    "// using System.Threading.Tasks;"
   ]
  },
  {
   "cell_type": "code",
   "execution_count": 3,
   "metadata": {
    "dotnet_interactive": {
     "language": "csharp"
    },
    "polyglot_notebook": {
     "kernelName": "csharp"
    }
   },
   "outputs": [
    {
     "name": "stdout",
     "output_type": "stream",
     "text": [
      "Connecting as shioaji@sinopac on 203.66.91.161:80...\r\n"
     ]
    }
   ],
   "source": [
    "// #r \"nuget: Shioaji, 1.1.8\"\n",
    "using System.IO;\n",
    "using System.Text.Json;\n",
    "using Sinopac.Shioaji;\n",
    "using System.Linq;\n",
    "\n",
    "Shioaji _api = new Shioaji();\n",
    "string jsonString = File.ReadAllText(\"Sinopac.json\");\n",
    "JsonElement root = JsonDocument.Parse(jsonString).RootElement;\n",
    "_api.Login(root.GetProperty(\"API_Key\").GetString(), root.GetProperty(\"Secret_Key\").GetString());\n",
    "// _api.ca_activate(@\"Sinopac.pfx\", root.GetProperty(\"ca_passwd\").GetString(), root.GetProperty(\"person_id\").GetString());"
   ]
  },
  {
   "cell_type": "code",
   "execution_count": 93,
   "metadata": {
    "dotnet_interactive": {
     "language": "csharp"
    },
    "polyglot_notebook": {
     "kernelName": "csharp"
    }
   },
   "outputs": [
    {
     "data": {
      "text/html": [
       "<table><thead><tr><th><i>index</i></th><th>value</th></tr></thead><tbody><tr><td>0</td><td><table><thead><tr><th><i>key</i></th><th>value</th></tr></thead><tbody><tr><td><div class=\"dni-plaintext\"><pre>2609</pre></div></td><td><table><thead><tr><th><i>index</i></th><th><i>type</i></th><th>value</th></tr></thead><tbody><tr><td>0</td><td><span><a href=\"https://docs.microsoft.com/dotnet/api/system.double?view=net-7.0\">System.Double</a></span></td><td><div class=\"dni-plaintext\"><pre>1.57</pre></div></td></tr><tr><td>1</td><td><span><a href=\"https://docs.microsoft.com/dotnet/api/system.double?view=net-7.0\">System.Double</a></span></td><td><div class=\"dni-plaintext\"><pre>2.79</pre></div></td></tr><tr><td>2</td><td><span><a href=\"https://docs.microsoft.com/dotnet/api/system.double?view=net-7.0\">System.Double</a></span></td><td><div class=\"dni-plaintext\"><pre>-0.87</pre></div></td></tr><tr><td>3</td><td><span><a href=\"https://docs.microsoft.com/dotnet/api/system.double?view=net-7.0\">System.Double</a></span></td><td><div class=\"dni-plaintext\"><pre>1.22</pre></div></td></tr><tr><td>4</td><td><span><a href=\"https://docs.microsoft.com/dotnet/api/system.int64?view=net-7.0\">System.Int64</a></span></td><td><div class=\"dni-plaintext\"><pre>120</pre></div></td></tr></tbody></table></td></tr></tbody></table></td></tr><tr><td>1</td><td><table><thead><tr><th><i>key</i></th><th>value</th></tr></thead><tbody><tr><td><div class=\"dni-plaintext\"><pre>2330</pre></div></td><td><table><thead><tr><th><i>index</i></th><th><i>type</i></th><th>value</th></tr></thead><tbody><tr><td>0</td><td><span><a href=\"https://docs.microsoft.com/dotnet/api/system.double?view=net-7.0\">System.Double</a></span></td><td><div class=\"dni-plaintext\"><pre>-0.34</pre></div></td></tr><tr><td>1</td><td><span><a href=\"https://docs.microsoft.com/dotnet/api/system.double?view=net-7.0\">System.Double</a></span></td><td><div class=\"dni-plaintext\"><pre>0</pre></div></td></tr><tr><td>2</td><td><span><a href=\"https://docs.microsoft.com/dotnet/api/system.double?view=net-7.0\">System.Double</a></span></td><td><div class=\"dni-plaintext\"><pre>-1.03</pre></div></td></tr><tr><td>3</td><td><span><a href=\"https://docs.microsoft.com/dotnet/api/system.double?view=net-7.0\">System.Double</a></span></td><td><div class=\"dni-plaintext\"><pre>-0.69</pre></div></td></tr><tr><td>4</td><td><span><a href=\"https://docs.microsoft.com/dotnet/api/system.int64?view=net-7.0\">System.Int64</a></span></td><td><div class=\"dni-plaintext\"><pre>104</pre></div></td></tr></tbody></table></td></tr></tbody></table></td></tr><tr><td>2</td><td><table><thead><tr><th><i>key</i></th><th>value</th></tr></thead><tbody><tr><td><div class=\"dni-plaintext\"><pre>3035</pre></div></td><td><table><thead><tr><th><i>index</i></th><th><i>type</i></th><th>value</th></tr></thead><tbody><tr><td>0</td><td><span><a href=\"https://docs.microsoft.com/dotnet/api/system.double?view=net-7.0\">System.Double</a></span></td><td><div class=\"dni-plaintext\"><pre>-0.13</pre></div></td></tr><tr><td>1</td><td><span><a href=\"https://docs.microsoft.com/dotnet/api/system.double?view=net-7.0\">System.Double</a></span></td><td><div class=\"dni-plaintext\"><pre>3.49</pre></div></td></tr><tr><td>2</td><td><span><a href=\"https://docs.microsoft.com/dotnet/api/system.double?view=net-7.0\">System.Double</a></span></td><td><div class=\"dni-plaintext\"><pre>-0.54</pre></div></td></tr><tr><td>3</td><td><span><a href=\"https://docs.microsoft.com/dotnet/api/system.double?view=net-7.0\">System.Double</a></span></td><td><div class=\"dni-plaintext\"><pre>3.23</pre></div></td></tr><tr><td>4</td><td><span><a href=\"https://docs.microsoft.com/dotnet/api/system.int64?view=net-7.0\">System.Int64</a></span></td><td><div class=\"dni-plaintext\"><pre>102</pre></div></td></tr></tbody></table></td></tr></tbody></table></td></tr><tr><td>3</td><td><table><thead><tr><th><i>key</i></th><th>value</th></tr></thead><tbody><tr><td><div class=\"dni-plaintext\"><pre>2603</pre></div></td><td><table><thead><tr><th><i>index</i></th><th><i>type</i></th><th>value</th></tr></thead><tbody><tr><td>0</td><td><span><a href=\"https://docs.microsoft.com/dotnet/api/system.double?view=net-7.0\">System.Double</a></span></td><td><div class=\"dni-plaintext\"><pre>1.24</pre></div></td></tr><tr><td>1</td><td><span><a href=\"https://docs.microsoft.com/dotnet/api/system.double?view=net-7.0\">System.Double</a></span></td><td><div class=\"dni-plaintext\"><pre>1.86</pre></div></td></tr><tr><td>2</td><td><span><a href=\"https://docs.microsoft.com/dotnet/api/system.double?view=net-7.0\">System.Double</a></span></td><td><div class=\"dni-plaintext\"><pre>-0.62</pre></div></td></tr><tr><td>3</td><td><span><a href=\"https://docs.microsoft.com/dotnet/api/system.double?view=net-7.0\">System.Double</a></span></td><td><div class=\"dni-plaintext\"><pre>0.93</pre></div></td></tr><tr><td>4</td><td><span><a href=\"https://docs.microsoft.com/dotnet/api/system.int64?view=net-7.0\">System.Int64</a></span></td><td><div class=\"dni-plaintext\"><pre>82</pre></div></td></tr></tbody></table></td></tr></tbody></table></td></tr><tr><td>4</td><td><table><thead><tr><th><i>key</i></th><th>value</th></tr></thead><tbody><tr><td><div class=\"dni-plaintext\"><pre>2382</pre></div></td><td><table><thead><tr><th><i>index</i></th><th><i>type</i></th><th>value</th></tr></thead><tbody><tr><td>0</td><td><span><a href=\"https://docs.microsoft.com/dotnet/api/system.double?view=net-7.0\">System.Double</a></span></td><td><div class=\"dni-plaintext\"><pre>0.23</pre></div></td></tr><tr><td>1</td><td><span><a href=\"https://docs.microsoft.com/dotnet/api/system.double?view=net-7.0\">System.Double</a></span></td><td><div class=\"dni-plaintext\"><pre>1.14</pre></div></td></tr><tr><td>2</td><td><span><a href=\"https://docs.microsoft.com/dotnet/api/system.double?view=net-7.0\">System.Double</a></span></td><td><div class=\"dni-plaintext\"><pre>-1.6</pre></div></td></tr><tr><td>3</td><td><span><a href=\"https://docs.microsoft.com/dotnet/api/system.double?view=net-7.0\">System.Double</a></span></td><td><div class=\"dni-plaintext\"><pre>-1.6</pre></div></td></tr><tr><td>4</td><td><span><a href=\"https://docs.microsoft.com/dotnet/api/system.int64?view=net-7.0\">System.Int64</a></span></td><td><div class=\"dni-plaintext\"><pre>64</pre></div></td></tr></tbody></table></td></tr></tbody></table></td></tr></tbody></table><style>\r\n",
       ".dni-code-hint {\r\n",
       "    font-style: italic;\r\n",
       "    overflow: hidden;\r\n",
       "    white-space: nowrap;\r\n",
       "}\r\n",
       ".dni-treeview {\r\n",
       "    white-space: nowrap;\r\n",
       "}\r\n",
       ".dni-treeview td {\r\n",
       "    vertical-align: top;\r\n",
       "    text-align: start;\r\n",
       "}\r\n",
       "details.dni-treeview {\r\n",
       "    padding-left: 1em;\r\n",
       "}\r\n",
       "table td {\r\n",
       "    text-align: start;\r\n",
       "}\r\n",
       "table tr { \r\n",
       "    vertical-align: top; \r\n",
       "    margin: 0em 0px;\r\n",
       "}\r\n",
       "table tr td pre \r\n",
       "{ \r\n",
       "    vertical-align: top !important; \r\n",
       "    margin: 0em 0px !important;\r\n",
       "} \r\n",
       "table th {\r\n",
       "    text-align: start;\r\n",
       "}\r\n",
       "</style>"
      ]
     },
     "metadata": {},
     "output_type": "display_data"
    }
   ],
   "source": [
    "public List<Dictionary<string, List<object>>> AmountRank()\n",
    "{\n",
    "    var Scanners_AmountRank = _api.Scanners(scannerType:ScannerType.AmountRank, date:DateTime.Now.ToString(\"yyyy-MM-dd\"), count:20);\n",
    "    List<Dictionary<string, List<object>>> _AmountRanks = new List<Dictionary<string, List<object>>>();\n",
    "    for (int i = 0; i < Scanners_AmountRank.ToArray().Length ; i++)\n",
    "    {\n",
    "        Dictionary<string, List<object>> _AmountRank = new Dictionary<string, List<object>>();\n",
    "        List<object> _temp = new List<object>();\n",
    "        var _lastClose = Scanners_AmountRank[i].close - Scanners_AmountRank[i].change_price;\n",
    "        // _temp.Add(Scanners_AmountRank[i].name);\n",
    "        // _temp.Add(Math.Round(Scanners_AmountRank[i].change_price * 100 / _lastClose, 2));\n",
    "        // _temp.Add(Scanners_AmountRank[i].tick_type == \"1\" ? \"內\":\"外\");\n",
    "        _temp.Add(Math.Round(100 *(Scanners_AmountRank[i].open - _lastClose) / _lastClose, 2));\n",
    "        _temp.Add(Math.Round(100 *(Scanners_AmountRank[i].high - _lastClose) / _lastClose, 2));\n",
    "        _temp.Add(Math.Round(100 *(Scanners_AmountRank[i].low - _lastClose) / _lastClose, 2));\n",
    "        _temp.Add(Math.Round(100 *(Scanners_AmountRank[i].close - _lastClose)  /_lastClose, 2));\n",
    "        _temp.Add(Scanners_AmountRank[i].total_amount / 100_000_000);\n",
    "        _AmountRank.Add(Scanners_AmountRank[i].code, _temp);\n",
    "        _AmountRanks.Add(_AmountRank);\n",
    "    }\n",
    "    return _AmountRanks;      \n",
    "}\n",
    "AmountRank(5)    "
   ]
  },
  {
   "cell_type": "code",
   "execution_count": 46,
   "metadata": {
    "dotnet_interactive": {
     "language": "csharp"
    },
    "polyglot_notebook": {
     "kernelName": "csharp"
    }
   },
   "outputs": [
    {
     "data": {
      "text/html": [
       "<table><thead><tr><th><i>key</i></th><th>value</th></tr></thead><tbody><tr><td><div class=\"dni-plaintext\"><pre>000104</pre></div></td><td><table><thead><tr><th><i>key</i></th><th>value</th></tr></thead><tbody><tr><td><div class=\"dni-plaintext\"><pre>公司代號</pre></div></td><td><div class=\"dni-plaintext\"><pre>000104</pre></div></td></tr><tr><td><div class=\"dni-plaintext\"><pre>公司名稱</pre></div></td><td><div class=\"dni-plaintext\"><pre>臺銀證券</pre></div></td></tr><tr><td><div class=\"dni-plaintext\"><pre>累計營業收入-前期比較增減(%)</pre></div></td><td><div class=\"dni-plaintext\"><pre>46.80185794209853</pre></div></td></tr></tbody></table></td></tr><tr><td><div class=\"dni-plaintext\"><pre>000218</pre></div></td><td><table><thead><tr><th><i>key</i></th><th>value</th></tr></thead><tbody><tr><td><div class=\"dni-plaintext\"><pre>公司代號</pre></div></td><td><div class=\"dni-plaintext\"><pre>000218</pre></div></td></tr><tr><td><div class=\"dni-plaintext\"><pre>公司名稱</pre></div></td><td><div class=\"dni-plaintext\"><pre>亞東證券</pre></div></td></tr><tr><td><div class=\"dni-plaintext\"><pre>累計營業收入-前期比較增減(%)</pre></div></td><td><div class=\"dni-plaintext\"><pre>1244.8226521563886</pre></div></td></tr></tbody></table></td></tr><tr><td><div class=\"dni-plaintext\"><pre>000511</pre></div></td><td><table><thead><tr><th><i>key</i></th><th>value</th></tr></thead><tbody><tr><td><div class=\"dni-plaintext\"><pre>公司代號</pre></div></td><td><div class=\"dni-plaintext\"><pre>000511</pre></div></td></tr><tr><td><div class=\"dni-plaintext\"><pre>公司名稱</pre></div></td><td><div class=\"dni-plaintext\"><pre>富隆</pre></div></td></tr><tr><td><div class=\"dni-plaintext\"><pre>累計營業收入-前期比較增減(%)</pre></div></td><td><div class=\"dni-plaintext\"><pre>-68.97238449283059</pre></div></td></tr></tbody></table></td></tr><tr><td><div class=\"dni-plaintext\"><pre>000532</pre></div></td><td><table><thead><tr><th><i>key</i></th><th>value</th></tr></thead><tbody><tr><td><div class=\"dni-plaintext\"><pre>公司代號</pre></div></td><td><div class=\"dni-plaintext\"><pre>000532</pre></div></td></tr><tr><td><div class=\"dni-plaintext\"><pre>公司名稱</pre></div></td><td><div class=\"dni-plaintext\"><pre>高橋</pre></div></td></tr><tr><td><div class=\"dni-plaintext\"><pre>累計營業收入-前期比較增減(%)</pre></div></td><td><div class=\"dni-plaintext\"><pre>12.007031877165707</pre></div></td></tr></tbody></table></td></tr><tr><td><div class=\"dni-plaintext\"><pre>000538</pre></div></td><td><table><thead><tr><th><i>key</i></th><th>value</th></tr></thead><tbody><tr><td><div class=\"dni-plaintext\"><pre>公司代號</pre></div></td><td><div class=\"dni-plaintext\"><pre>000538</pre></div></td></tr><tr><td><div class=\"dni-plaintext\"><pre>公司名稱</pre></div></td><td><div class=\"dni-plaintext\"><pre>第一金證</pre></div></td></tr><tr><td><div class=\"dni-plaintext\"><pre>累計營業收入-前期比較增減(%)</pre></div></td><td><div class=\"dni-plaintext\"><pre>39.2423513429372</pre></div></td></tr></tbody></table></td></tr><tr><td><div class=\"dni-plaintext\"><pre>000546</pre></div></td><td><table><thead><tr><th><i>key</i></th><th>value</th></tr></thead><tbody><tr><td><div class=\"dni-plaintext\"><pre>公司代號</pre></div></td><td><div class=\"dni-plaintext\"><pre>000546</pre></div></td></tr><tr><td><div class=\"dni-plaintext\"><pre>公司名稱</pre></div></td><td><div class=\"dni-plaintext\"><pre>寶盛</pre></div></td></tr><tr><td><div class=\"dni-plaintext\"><pre>累計營業收入-前期比較增減(%)</pre></div></td><td><div class=\"dni-plaintext\"><pre>10.788783768380258</pre></div></td></tr></tbody></table></td></tr><tr><td><div class=\"dni-plaintext\"><pre>000560</pre></div></td><td><table><thead><tr><th><i>key</i></th><th>value</th></tr></thead><tbody><tr><td><div class=\"dni-plaintext\"><pre>公司代號</pre></div></td><td><div class=\"dni-plaintext\"><pre>000560</pre></div></td></tr><tr><td><div class=\"dni-plaintext\"><pre>公司名稱</pre></div></td><td><div class=\"dni-plaintext\"><pre>永興</pre></div></td></tr><tr><td><div class=\"dni-plaintext\"><pre>累計營業收入-前期比較增減(%)</pre></div></td><td><div class=\"dni-plaintext\"><pre>3.592147364014234</pre></div></td></tr></tbody></table></td></tr><tr><td><div class=\"dni-plaintext\"><pre>000596</pre></div></td><td><table><thead><tr><th><i>key</i></th><th>value</th></tr></thead><tbody><tr><td><div class=\"dni-plaintext\"><pre>公司代號</pre></div></td><td><div class=\"dni-plaintext\"><pre>000596</pre></div></td></tr><tr><td><div class=\"dni-plaintext\"><pre>公司名稱</pre></div></td><td><div class=\"dni-plaintext\"><pre>日茂</pre></div></td></tr><tr><td><div class=\"dni-plaintext\"><pre>累計營業收入-前期比較增減(%)</pre></div></td><td><div class=\"dni-plaintext\"><pre>18.202112599368398</pre></div></td></tr></tbody></table></td></tr><tr><td><div class=\"dni-plaintext\"><pre>000601</pre></div></td><td><table><thead><tr><th><i>key</i></th><th>value</th></tr></thead><tbody><tr><td><div class=\"dni-plaintext\"><pre>公司代號</pre></div></td><td><div class=\"dni-plaintext\"><pre>000601</pre></div></td></tr><tr><td><div class=\"dni-plaintext\"><pre>公司名稱</pre></div></td><td><div class=\"dni-plaintext\"><pre>牛牛牛亞</pre></div></td></tr><tr><td><div class=\"dni-plaintext\"><pre>累計營業收入-前期比較增減(%)</pre></div></td><td><div class=\"dni-plaintext\"><pre>18.291632145816074</pre></div></td></tr></tbody></table></td></tr><tr><td><div class=\"dni-plaintext\"><pre>000616</pre></div></td><td><table><thead><tr><th><i>key</i></th><th>value</th></tr></thead><tbody><tr><td><div class=\"dni-plaintext\"><pre>公司代號</pre></div></td><td><div class=\"dni-plaintext\"><pre>000616</pre></div></td></tr><tr><td><div class=\"dni-plaintext\"><pre>公司名稱</pre></div></td><td><div class=\"dni-plaintext\"><pre>中信證券</pre></div></td></tr><tr><td><div class=\"dni-plaintext\"><pre>累計營業收入-前期比較增減(%)</pre></div></td><td><div class=\"dni-plaintext\"><pre>71.85879324525692</pre></div></td></tr></tbody></table></td></tr><tr><td><div class=\"dni-plaintext\"><pre>000638</pre></div></td><td><table><thead><tr><th><i>key</i></th><th>value</th></tr></thead><tbody><tr><td><div class=\"dni-plaintext\"><pre>公司代號</pre></div></td><td><div class=\"dni-plaintext\"><pre>000638</pre></div></td></tr><tr><td><div class=\"dni-plaintext\"><pre>公司名稱</pre></div></td><td><div class=\"dni-plaintext\"><pre>光和</pre></div></td></tr><tr><td><div class=\"dni-plaintext\"><pre>累計營業收入-前期比較增減(%)</pre></div></td><td><div class=\"dni-plaintext\"><pre>8.216675578022976</pre></div></td></tr></tbody></table></td></tr><tr><td><div class=\"dni-plaintext\"><pre>000646</pre></div></td><td><table><thead><tr><th><i>key</i></th><th>value</th></tr></thead><tbody><tr><td><div class=\"dni-plaintext\"><pre>公司代號</pre></div></td><td><div class=\"dni-plaintext\"><pre>000646</pre></div></td></tr><tr><td><div class=\"dni-plaintext\"><pre>公司名稱</pre></div></td><td><div class=\"dni-plaintext\"><pre>大昌證券</pre></div></td></tr><tr><td><div class=\"dni-plaintext\"><pre>累計營業收入-前期比較增減(%)</pre></div></td><td><div class=\"dni-plaintext\"><pre>-1.6060990023105508</pre></div></td></tr></tbody></table></td></tr><tr><td><div class=\"dni-plaintext\"><pre>000662</pre></div></td><td><table><thead><tr><th><i>key</i></th><th>value</th></tr></thead><tbody><tr><td><div class=\"dni-plaintext\"><pre>公司代號</pre></div></td><td><div class=\"dni-plaintext\"><pre>000662</pre></div></td></tr><tr><td><div class=\"dni-plaintext\"><pre>公司名稱</pre></div></td><td><div class=\"dni-plaintext\"><pre>口袋證券</pre></div></td></tr><tr><td><div class=\"dni-plaintext\"><pre>累計營業收入-前期比較增減(%)</pre></div></td><td><div class=\"dni-plaintext\"><pre>335.4946996466431</pre></div></td></tr></tbody></table></td></tr><tr><td><div class=\"dni-plaintext\"><pre>000695</pre></div></td><td><table><thead><tr><th><i>key</i></th><th>value</th></tr></thead><tbody><tr><td><div class=\"dni-plaintext\"><pre>公司代號</pre></div></td><td><div class=\"dni-plaintext\"><pre>000695</pre></div></td></tr><tr><td><div class=\"dni-plaintext\"><pre>公司名稱</pre></div></td><td><div class=\"dni-plaintext\"><pre>福勝證券</pre></div></td></tr><tr><td><div class=\"dni-plaintext\"><pre>累計營業收入-前期比較增減(%)</pre></div></td><td><div class=\"dni-plaintext\"><pre>8.711876075731498</pre></div></td></tr></tbody></table></td></tr><tr><td><div class=\"dni-plaintext\"><pre>000700</pre></div></td><td><table><thead><tr><th><i>key</i></th><th>value</th></tr></thead><tbody><tr><td><div class=\"dni-plaintext\"><pre>公司代號</pre></div></td><td><div class=\"dni-plaintext\"><pre>000700</pre></div></td></tr><tr><td><div class=\"dni-plaintext\"><pre>公司名稱</pre></div></td><td><div class=\"dni-plaintext\"><pre>兆豐證券</pre></div></td></tr><tr><td><div class=\"dni-plaintext\"><pre>累計營業收入-前期比較增減(%)</pre></div></td><td><div class=\"dni-plaintext\"><pre>49.87296953618867</pre></div></td></tr></tbody></table></td></tr><tr><td><div class=\"dni-plaintext\"><pre>000708</pre></div></td><td><table><thead><tr><th><i>key</i></th><th>value</th></tr></thead><tbody><tr><td><div class=\"dni-plaintext\"><pre>公司代號</pre></div></td><td><div class=\"dni-plaintext\"><pre>000708</pre></div></td></tr><tr><td><div class=\"dni-plaintext\"><pre>公司名稱</pre></div></td><td><div class=\"dni-plaintext\"><pre>石橋</pre></div></td></tr><tr><td><div class=\"dni-plaintext\"><pre>累計營業收入-前期比較增減(%)</pre></div></td><td><div class=\"dni-plaintext\"><pre>-25.58570163432896</pre></div></td></tr></tbody></table></td></tr><tr><td><div class=\"dni-plaintext\"><pre>000775</pre></div></td><td><table><thead><tr><th><i>key</i></th><th>value</th></tr></thead><tbody><tr><td><div class=\"dni-plaintext\"><pre>公司代號</pre></div></td><td><div class=\"dni-plaintext\"><pre>000775</pre></div></td></tr><tr><td><div class=\"dni-plaintext\"><pre>公司名稱</pre></div></td><td><div class=\"dni-plaintext\"><pre>北城</pre></div></td></tr><tr><td><div class=\"dni-plaintext\"><pre>累計營業收入-前期比較增減(%)</pre></div></td><td><div class=\"dni-plaintext\"><pre>7.6310642643266355</pre></div></td></tr></tbody></table></td></tr><tr><td><div class=\"dni-plaintext\"><pre>000779</pre></div></td><td><table><thead><tr><th><i>key</i></th><th>value</th></tr></thead><tbody><tr><td><div class=\"dni-plaintext\"><pre>公司代號</pre></div></td><td><div class=\"dni-plaintext\"><pre>000779</pre></div></td></tr><tr><td><div class=\"dni-plaintext\"><pre>公司名稱</pre></div></td><td><div class=\"dni-plaintext\"><pre>國票綜合</pre></div></td></tr><tr><td><div class=\"dni-plaintext\"><pre>累計營業收入-前期比較增減(%)</pre></div></td><td><div class=\"dni-plaintext\"><pre>13.042875468869502</pre></div></td></tr></tbody></table></td></tr><tr><td><div class=\"dni-plaintext\"><pre>000815</pre></div></td><td><table><thead><tr><th><i>key</i></th><th>value</th></tr></thead><tbody><tr><td><div class=\"dni-plaintext\"><pre>公司代號</pre></div></td><td><div class=\"dni-plaintext\"><pre>000815</pre></div></td></tr><tr><td><div class=\"dni-plaintext\"><pre>公司名稱</pre></div></td><td><div class=\"dni-plaintext\"><pre>台新證券</pre></div></td></tr><tr><td><div class=\"dni-plaintext\"><pre>累計營業收入-前期比較增減(%)</pre></div></td><td><div class=\"dni-plaintext\"><pre>51.76866741759893</pre></div></td></tr></tbody></table></td></tr><tr><td><div class=\"dni-plaintext\"><pre>000838</pre></div></td><td><table><thead><tr><th><i>key</i></th><th>value</th></tr></thead><tbody><tr><td><div class=\"dni-plaintext\"><pre>公司代號</pre></div></td><td><div class=\"dni-plaintext\"><pre>000838</pre></div></td></tr><tr><td><div class=\"dni-plaintext\"><pre>公司名稱</pre></div></td><td><div class=\"dni-plaintext\"><pre>安泰證券</pre></div></td></tr><tr><td><div class=\"dni-plaintext\"><pre>累計營業收入-前期比較增減(%)</pre></div></td><td><div class=\"dni-plaintext\"><pre>2.694571400387992</pre></div></td></tr></tbody></table></td></tr><tr><td colspan=\"2\"><i>(319 more)</i></td></tr></tbody></table><style>\r\n",
       ".dni-code-hint {\r\n",
       "    font-style: italic;\r\n",
       "    overflow: hidden;\r\n",
       "    white-space: nowrap;\r\n",
       "}\r\n",
       ".dni-treeview {\r\n",
       "    white-space: nowrap;\r\n",
       "}\r\n",
       ".dni-treeview td {\r\n",
       "    vertical-align: top;\r\n",
       "    text-align: start;\r\n",
       "}\r\n",
       "details.dni-treeview {\r\n",
       "    padding-left: 1em;\r\n",
       "}\r\n",
       "table td {\r\n",
       "    text-align: start;\r\n",
       "}\r\n",
       "table tr { \r\n",
       "    vertical-align: top; \r\n",
       "    margin: 0em 0px;\r\n",
       "}\r\n",
       "table tr td pre \r\n",
       "{ \r\n",
       "    vertical-align: top !important; \r\n",
       "    margin: 0em 0px !important;\r\n",
       "} \r\n",
       "table th {\r\n",
       "    text-align: start;\r\n",
       "}\r\n",
       "</style>"
      ]
     },
     "metadata": {},
     "output_type": "display_data"
    }
   ],
   "source": [
    "using Newtonsoft.Json;\n",
    "using System;\n",
    "using System.Collections.Generic;\n",
    "using System.Net.Http;\n",
    "using System.Threading.Tasks;\n",
    "\n",
    "\n",
    "// Console.WriteLine($\"{i[\"出表日期\"]}。{i[\"公司代號\"]},{i[\"公司名稱\"]},{i[\"累計營業收入-前期比較增減(%)\"]}\");\n",
    "// _retDict\"s\" 最終回傳複式dict\n",
    "// _retDict 個股dict\n",
    "// _temp 個股逐值\n",
    "\n",
    "var client = new HttpClient();\n",
    "var response = await client.GetAsync(\"https://openapi.twse.com.tw/v1/\" + \n",
    "\"opendata/t187ap05_P\" // 公開發行公司每月營業收入彙總表\n",
    ");\n",
    "var json = await response.Content.ReadAsStringAsync();\n",
    "List<dynamic> src = JsonConvert.DeserializeObject<List<dynamic>>(json);\n",
    "\n",
    "Dictionary<string, Dictionary<string, object>> _retDict = new Dictionary<string, Dictionary<string, object>>();\n",
    "foreach (var i in src)\n",
    "{\n",
    "    _retDict[i[\"公司代號\"].ToString()] = new Dictionary<string, object>\n",
    "    {\n",
    "        { \"公司代號\", i[\"公司代號\"].ToString()},\n",
    "        { \"公司名稱\", i[\"公司名稱\"].ToString()},\n",
    "        { \"累計營業收入-前期比較增減(%)\", i[\"累計營業收入-前期比較增減(%)\"].ToString()},\n",
    "    };\n",
    "}\n",
    "\n",
    "_retDict"
   ]
  },
  {
   "cell_type": "code",
   "execution_count": null,
   "metadata": {
    "dotnet_interactive": {
     "language": "csharp"
    },
    "polyglot_notebook": {
     "kernelName": "csharp"
    }
   },
   "outputs": [],
   "source": [
    "var client = new HttpClient();\n",
    "var response = await client.GetAsync(\"https://openapi.twse.com.tw/v1/\" +\n",
    "\"exchangeReport/MI_INDEX20\" // 集中市場每日成交量前二十名證券(會含雜魚ETF)\n",
    ");\n",
    "var json = await response.Content.ReadAsStringAsync();\n",
    "List<dynamic> src = JsonConvert.DeserializeObject<List<dynamic>>(json);\n",
    "\n",
    "Dictionary<string, Dictionary<string, object>> src_new = new Dictionary<string, Dictionary<string, object>>();\n",
    "foreach (var item in src)\n",
    "{\n",
    "    src_new[item[\"Code\"].ToString()] = new Dictionary<string, object>\n",
    "    {\n",
    "        { \"Name\", item[\"Name\"].ToString()},\n",
    "        { \"ClosingPrice\", Convert.ToDouble(item[\"ClosingPrice\"])},\n",
    "        { \"Change\", Convert.ToString(item[\"Change\"])} // 平盤好像是空值 ☛ \" \"，故不能用double\n",
    "    };\n",
    "}\n",
    "\n",
    "src_new.Where(a=>a.Key.Length == 4)"
   ]
  },
  {
   "cell_type": "code",
   "execution_count": null,
   "metadata": {
    "dotnet_interactive": {
     "language": "csharp"
    },
    "polyglot_notebook": {
     "kernelName": "csharp"
    }
   },
   "outputs": [],
   "source": [
    "new List<string> tw50 = [\n",
    "\"2330\",\"2454\",\"2317\",\"2412\",\"2382\",\"2881\",\"2308\",\"6505\",\"2882\",\"2303\",\n",
    "\"3711\",\"2886\",\"2891\",\"1303\",\"1301\",\"2002\",\"1216\",\"2884\",\"2207\",\"5880\",\n",
    "\"3008\",\"2892\",\"3045\",\"1326\",\"2357\",\"2885\",\"6669\",\"2395\",\"3034\",\"5871\",\n",
    "\"2880\",\"2603\",\"2345\",\"3231\",\"4904\",\"2912\",\"2301\",\"3037\",\"1101\",\"2327\",\n",
    "\"2890\",\"2379\",\"2408\",\"3661\",\"3443\",\"4938\",\"5876\",\"2887\",\"2883\",\"1590\",\n",
    "];\n",
    "var tw50_otc10 = new List<IContract>();\n",
    "foreach (var i in tw50){\n",
    "    tw50_otc10.Add(_api.Contracts.Stocks[\"TSE\"][i]);\n",
    "}\n",
    "foreach (var i in new List<string>{\"6488\",\"8069\",\"3529\",\"5347\",\"5274\",\"6446\",\"5483\",\"8299\",\"3293\",\"4966\"}){\n",
    "    tw50_otc10.Add(_api.Contracts.Stocks[\"OTC\"][i]);\n",
    "}\n",
    "// tw50_otc10\n",
    "_api.Snapshots(tw50_otc10)"
   ]
  },
  {
   "cell_type": "code",
   "execution_count": 36,
   "metadata": {
    "dotnet_interactive": {
     "language": "csharp"
    },
    "polyglot_notebook": {
     "kernelName": "csharp"
    }
   },
   "outputs": [
    {
     "data": {
      "text/html": [
       "<details open=\"open\" class=\"dni-treeview\"><summary><span class=\"dni-code-hint\"><code>[1121229, System.Collections.Generic.Dictionary`2[System.String,System.Object]]</code></span></summary><div><table><thead><tr></tr></thead><tbody><tr><td>Key</td><td><div class=\"dni-plaintext\"><pre>1121229</pre></div></td></tr><tr><td>Value</td><td><table><thead><tr><th><i>key</i></th><th>value</th></tr></thead><tbody><tr><td><div class=\"dni-plaintext\"><pre>TradeVolume</pre></div></td><td><div class=\"dni-plaintext\"><pre>5813967380</pre></div></td></tr><tr><td><div class=\"dni-plaintext\"><pre>TradeValue</pre></div></td><td><div class=\"dni-plaintext\"><pre>272169082532</pre></div></td></tr><tr><td><div class=\"dni-plaintext\"><pre>Transaction</pre></div></td><td><div class=\"dni-plaintext\"><pre>1971190</pre></div></td></tr><tr><td><div class=\"dni-plaintext\"><pre>TAIEX</pre></div></td><td><div class=\"dni-plaintext\"><pre>17930.81</pre></div></td></tr><tr><td><div class=\"dni-plaintext\"><pre>Change</pre></div></td><td><div class=\"dni-plaintext\"><pre>20.44</pre></div></td></tr></tbody></table></td></tr></tbody></table></div></details><style>\r\n",
       ".dni-code-hint {\r\n",
       "    font-style: italic;\r\n",
       "    overflow: hidden;\r\n",
       "    white-space: nowrap;\r\n",
       "}\r\n",
       ".dni-treeview {\r\n",
       "    white-space: nowrap;\r\n",
       "}\r\n",
       ".dni-treeview td {\r\n",
       "    vertical-align: top;\r\n",
       "    text-align: start;\r\n",
       "}\r\n",
       "details.dni-treeview {\r\n",
       "    padding-left: 1em;\r\n",
       "}\r\n",
       "table td {\r\n",
       "    text-align: start;\r\n",
       "}\r\n",
       "table tr { \r\n",
       "    vertical-align: top; \r\n",
       "    margin: 0em 0px;\r\n",
       "}\r\n",
       "table tr td pre \r\n",
       "{ \r\n",
       "    vertical-align: top !important; \r\n",
       "    margin: 0em 0px !important;\r\n",
       "} \r\n",
       "table th {\r\n",
       "    text-align: start;\r\n",
       "}\r\n",
       "</style>"
      ]
     },
     "metadata": {},
     "output_type": "display_data"
    }
   ],
   "source": [
    "var client = new HttpClient();\n",
    "var response = await client.GetAsync(\"https://openapi.twse.com.tw/v1/\" + \n",
    "\"exchangeReport/FMTQIK\" //集中市場每日市場成交資訊\n",
    ");\n",
    "var json = await response.Content.ReadAsStringAsync();\n",
    "List<dynamic> src = JsonConvert.DeserializeObject<List<dynamic>>(json);\n",
    "\n",
    "// foreach(var i in src\n",
    "// .Where(x => x[\"Date\"]==\"1121229\")\n",
    "// ){Console.WriteLine(i);}\n",
    "\n",
    "Dictionary<string, Dictionary<string, object>> src_new = new Dictionary<string, Dictionary<string, object>>();\n",
    "foreach (var item in src)\n",
    "{\n",
    "    src_new[item[\"Date\"].ToString()] = new Dictionary<string, object>\n",
    "    {\n",
    "        { \"TradeVolume\", (Double)item[\"TradeVolume\"]},\n",
    "        { \"TradeValue\", (Double)item[\"TradeValue\"]},\n",
    "        { \"Transaction\", (Double)item[\"Transaction\"]},\n",
    "        { \"TAIEX\", (Double)item[\"TAIEX\"]},\n",
    "        { \"Change\", (Double)item[\"Change\"]},\n",
    "    };\n",
    "}\n",
    "src_new.Last()"
   ]
  },
  {
   "cell_type": "code",
   "execution_count": 10,
   "metadata": {
    "dotnet_interactive": {
     "language": "csharp"
    },
    "polyglot_notebook": {
     "kernelName": "csharp"
    }
   },
   "outputs": [
    {
     "data": {
      "text/html": [
       "<table><thead><tr><th><i>index</i></th><th>value</th></tr></thead><tbody><tr><td>0</td><td><details class=\"dni-treeview\"><summary><span class=\"dni-code-hint\"><code>[2330, System.Collections.Generic.Dictionary`2[System.String,System.Object]]</code></span></summary><div><table><thead><tr></tr></thead><tbody><tr><td>Key</td><td><div class=\"dni-plaintext\"><pre>2330</pre></div></td></tr><tr><td>Value</td><td><table><thead><tr><th><i>key</i></th><th>value</th></tr></thead><tbody><tr><td><div class=\"dni-plaintext\"><pre>Name</pre></div></td><td><div class=\"dni-plaintext\"><pre>台積電</pre></div></td></tr><tr><td><div class=\"dni-plaintext\"><pre>TodayOpeningRefPrice</pre></div></td><td><div class=\"dni-plaintext\"><pre>593</pre></div></td></tr><tr><td><div class=\"dni-plaintext\"><pre>PreviousDayOpeningRefPrice</pre></div></td><td><div class=\"dni-plaintext\"><pre>593</pre></div></td></tr><tr><td><div class=\"dni-plaintext\"><pre>PreviousDayPrice</pre></div></td><td><div class=\"dni-plaintext\"><pre>593</pre></div></td></tr><tr><td><div class=\"dni-plaintext\"><pre>LastTradingDay</pre></div></td><td><div class=\"dni-plaintext\"><pre>1121229</pre></div></td></tr></tbody></table></td></tr></tbody></table></div></details></td></tr><tr><td>1</td><td><details class=\"dni-treeview\"><summary><span class=\"dni-code-hint\"><code>[2454, System.Collections.Generic.Dictionary`2[System.String,System.Object]]</code></span></summary><div><table><thead><tr></tr></thead><tbody><tr><td>Key</td><td><div class=\"dni-plaintext\"><pre>2454</pre></div></td></tr><tr><td>Value</td><td><table><thead><tr><th><i>key</i></th><th>value</th></tr></thead><tbody><tr><td><div class=\"dni-plaintext\"><pre>Name</pre></div></td><td><div class=\"dni-plaintext\"><pre>聯發科</pre></div></td></tr><tr><td><div class=\"dni-plaintext\"><pre>TodayOpeningRefPrice</pre></div></td><td><div class=\"dni-plaintext\"><pre>1015</pre></div></td></tr><tr><td><div class=\"dni-plaintext\"><pre>PreviousDayOpeningRefPrice</pre></div></td><td><div class=\"dni-plaintext\"><pre>1025</pre></div></td></tr><tr><td><div class=\"dni-plaintext\"><pre>PreviousDayPrice</pre></div></td><td><div class=\"dni-plaintext\"><pre>1015</pre></div></td></tr><tr><td><div class=\"dni-plaintext\"><pre>LastTradingDay</pre></div></td><td><div class=\"dni-plaintext\"><pre>1121229</pre></div></td></tr></tbody></table></td></tr></tbody></table></div></details></td></tr></tbody></table><style>\r\n",
       ".dni-code-hint {\r\n",
       "    font-style: italic;\r\n",
       "    overflow: hidden;\r\n",
       "    white-space: nowrap;\r\n",
       "}\r\n",
       ".dni-treeview {\r\n",
       "    white-space: nowrap;\r\n",
       "}\r\n",
       ".dni-treeview td {\r\n",
       "    vertical-align: top;\r\n",
       "    text-align: start;\r\n",
       "}\r\n",
       "details.dni-treeview {\r\n",
       "    padding-left: 1em;\r\n",
       "}\r\n",
       "table td {\r\n",
       "    text-align: start;\r\n",
       "}\r\n",
       "table tr { \r\n",
       "    vertical-align: top; \r\n",
       "    margin: 0em 0px;\r\n",
       "}\r\n",
       "table tr td pre \r\n",
       "{ \r\n",
       "    vertical-align: top !important; \r\n",
       "    margin: 0em 0px !important;\r\n",
       "} \r\n",
       "table th {\r\n",
       "    text-align: start;\r\n",
       "}\r\n",
       "</style>"
      ]
     },
     "metadata": {},
     "output_type": "display_data"
    }
   ],
   "source": [
    "var client = new HttpClient();\n",
    "var response = await client.GetAsync(\"https://openapi.twse.com.tw/v1/\" + \n",
    "\"exchangeReport/TWT84U\" //上市個股股價升降幅度\n",
    ");\n",
    "var json = await response.Content.ReadAsStringAsync();\n",
    "List<dynamic> src = JsonConvert.DeserializeObject<List<dynamic>>(json);\n",
    "\n",
    "// foreach(var i in\n",
    "// src.Where(x => x.Code.Length == 4)\n",
    "// src.OrderBy(x => x.PreviousDayPrice).Take(3)\n",
    "// ){Console.WriteLine(i);}\n",
    "\n",
    "Dictionary<string, Dictionary<string, object>> src_new = new Dictionary<string, Dictionary<string, object>>();\n",
    "foreach (var item in src)\n",
    "{\n",
    "    src_new[item[\"Code\"].ToString()] = new Dictionary<string, object>\n",
    "    {\n",
    "        { \"Name\", item[\"Name\"].ToString()},\n",
    "        { \"TodayOpeningRefPrice\", item[\"TodayOpeningRefPrice\"].ToString()},\n",
    "        { \"PreviousDayOpeningRefPrice\", item[\"PreviousDayOpeningRefPrice\"].ToString()},\n",
    "        { \"PreviousDayPrice\", item[\"PreviousDayPrice\"].ToString()},\n",
    "        { \"LastTradingDay\", item[\"LastTradingDay\"].ToString()},\n",
    "    };\n",
    "}\n",
    "// src_new.ElementAt(5)\n",
    "src_new.Where(x=>x.Key==\"2330\" || x.Key==\"2454\")\n",
    "\n",
    "\n",
    "// src_new.Where(x=>x.Key==\"發行量加權股價指數\")\n",
    "src_new.Take(10)"
   ]
  },
  {
   "cell_type": "code",
   "execution_count": 17,
   "metadata": {
    "dotnet_interactive": {
     "language": "csharp"
    },
    "polyglot_notebook": {
     "kernelName": "csharp"
    }
   },
   "outputs": [
    {
     "data": {
      "text/html": [
       "<table><thead><tr><th><i>index</i></th><th>value</th></tr></thead><tbody><tr><td>0</td><td><details class=\"dni-treeview\"><summary><span class=\"dni-code-hint\"><code>[發行量加權股價指數, System.Collections.Generic.Dictionary`2[System.String,System.Object]]</code></span></summary><div><table><thead><tr></tr></thead><tbody><tr><td>Key</td><td><div class=\"dni-plaintext\"><pre>發行量加權股價指數</pre></div></td></tr><tr><td>Value</td><td><table><thead><tr><th><i>key</i></th><th>value</th></tr></thead><tbody><tr><td><div class=\"dni-plaintext\"><pre>收盤指數</pre></div></td><td><div class=\"dni-plaintext\"><pre>17931</pre></div></td></tr><tr><td><div class=\"dni-plaintext\"><pre>漲跌百分比</pre></div></td><td><div class=\"dni-plaintext\"><pre>0.11</pre></div></td></tr></tbody></table></td></tr></tbody></table></div></details></td></tr><tr><td>1</td><td><details class=\"dni-treeview\"><summary><span class=\"dni-code-hint\"><code>[上櫃ESG 30指數, System.Collections.Generic.Dictionary`2[System.String,System.Object]]</code></span></summary><div><table><thead><tr></tr></thead><tbody><tr><td>Key</td><td><div class=\"dni-plaintext\"><pre>上櫃ESG 30指數</pre></div></td></tr><tr><td>Value</td><td><table><thead><tr><th><i>key</i></th><th>value</th></tr></thead><tbody><tr><td><div class=\"dni-plaintext\"><pre>收盤指數</pre></div></td><td><div class=\"dni-plaintext\"><pre>6195</pre></div></td></tr><tr><td><div class=\"dni-plaintext\"><pre>漲跌百分比</pre></div></td><td><div class=\"dni-plaintext\"><pre>-0.63</pre></div></td></tr></tbody></table></td></tr></tbody></table></div></details></td></tr></tbody></table><style>\r\n",
       ".dni-code-hint {\r\n",
       "    font-style: italic;\r\n",
       "    overflow: hidden;\r\n",
       "    white-space: nowrap;\r\n",
       "}\r\n",
       ".dni-treeview {\r\n",
       "    white-space: nowrap;\r\n",
       "}\r\n",
       ".dni-treeview td {\r\n",
       "    vertical-align: top;\r\n",
       "    text-align: start;\r\n",
       "}\r\n",
       "details.dni-treeview {\r\n",
       "    padding-left: 1em;\r\n",
       "}\r\n",
       "table td {\r\n",
       "    text-align: start;\r\n",
       "}\r\n",
       "table tr { \r\n",
       "    vertical-align: top; \r\n",
       "    margin: 0em 0px;\r\n",
       "}\r\n",
       "table tr td pre \r\n",
       "{ \r\n",
       "    vertical-align: top !important; \r\n",
       "    margin: 0em 0px !important;\r\n",
       "} \r\n",
       "table th {\r\n",
       "    text-align: start;\r\n",
       "}\r\n",
       "</style>"
      ]
     },
     "metadata": {},
     "output_type": "display_data"
    }
   ],
   "source": [
    "var client = new HttpClient();\n",
    "var response = await client.GetAsync(\"https://openapi.twse.com.tw/v1/\" + \n",
    "\"exchangeReport/MI_INDEX\" //每日收盤行情-大盤統計資訊\n",
    ");\n",
    "var json = await response.Content.ReadAsStringAsync();\n",
    "List<dynamic> src = JsonConvert.DeserializeObject<List<dynamic>>(json);\n",
    "\n",
    "// foreach(var i in src\n",
    "// .OrderByDescending(x => x.Percentage)\n",
    "// .Where(x => x.指數 == \"發行量加權股價指數\")\n",
    "// ){Console.WriteLine(i);}\n",
    "\n",
    "Dictionary<string, Dictionary<string, object>> src_new = new Dictionary<string, Dictionary<string, object>>();\n",
    "foreach (var item in src)\n",
    "{\n",
    "    src_new[item[\"指數\"].ToString()] = new Dictionary<string, object>\n",
    "    {\n",
    "        { \"收盤指數\", item[\"收盤指數\"].ToString()},\n",
    "        // { \"漲跌\", item[\"漲跌\"].ToString()},\n",
    "        // { \"漲跌點數\", item[\"漲跌點數\"].ToString()},\n",
    "        { \"漲跌百分比\", item[\"漲跌百分比\"].ToString()},\n",
    "        // { \"特殊處理註記\", item[\"特殊處理註記\"].ToString()},\n",
    "    };\n",
    "}\n",
    "src_new.Where( x=> x.Key==\"發行量加權股價指數\" || x.Key.Contains(\"上櫃ESG 30指數\"))"
   ]
  },
  {
   "cell_type": "code",
   "execution_count": null,
   "metadata": {
    "dotnet_interactive": {
     "language": "csharp"
    },
    "polyglot_notebook": {
     "kernelName": "csharp"
    }
   },
   "outputs": [],
   "source": [
    "var client = new HttpClient();\n",
    "var response = await client.GetAsync(\"https://openapi.twse.com.tw/v1/\" + \n",
    "\"exchangeReport/STOCK_DAY_ALL\" //上市個股日成交資訊\n",
    ");\n",
    "var json = await response.Content.ReadAsStringAsync();\n",
    "List<dynamic> src = JsonConvert.DeserializeObject<List<dynamic>>(json);\n",
    "\n",
    "// foreach(var i in src\n",
    "// .Where(x=> x.Code == \"3027\" || x.Code == \"2454\")\n",
    "// ){Console.WriteLine(i);}\n",
    "\n",
    "Dictionary<string, Dictionary<string, object>> src_new = new Dictionary<string, Dictionary<string, object>>();\n",
    "foreach (var item in src)\n",
    "{\n",
    "    src_new[item[\"Code\"].ToString()] = new Dictionary<string, object>\n",
    "    {\n",
    "        { \"Name\", item[\"Name\"].ToString()},\n",
    "        { \"OpeningPrice\", item[\"OpeningPrice\"].ToString()},\n",
    "        { \"HighestPrice\", item[\"HighestPrice\"].ToString()},\n",
    "        { \"LowestPrice\", item[\"LowestPrice\"].ToString()},\n",
    "        { \"ClosingPrice\", item[\"ClosingPrice\"].ToString()},\n",
    "        { \"Change\", item[\"Change\"].ToString()},\n",
    "        { \"TradeValue\", item[\"TradeValue\"].ToString()},\n",
    "    };\n",
    "}\n",
    "src_new.Where(x=> x.Key == \"2609\" || x.Key == \"2603\")"
   ]
  },
  {
   "cell_type": "code",
   "execution_count": 252,
   "metadata": {
    "dotnet_interactive": {
     "language": "csharp"
    },
    "polyglot_notebook": {
     "kernelName": "csharp"
    }
   },
   "outputs": [
    {
     "ename": "Error",
     "evalue": "System.ObjectDisposedException: Cannot access a disposed object.\r\nObject name: 'Cannot Subscribe with an already disposed session'.\r\n   at SolaceSystems.Solclient.Messaging.Native.SessionImpl.Subscribe(ISubscription subscription, Boolean waitForConfirm)\r\n   at CallSite.Target(Closure, CallSite, Shioaji, Object, QuoteType)\r\n   at System.Dynamic.UpdateDelegates.UpdateAndExecuteVoid3[T0,T1,T2](CallSite site, T0 arg0, T1 arg1, T2 arg2)\r\n   at Submission#252.<<Initialize>>d__0.MoveNext()\r\n--- End of stack trace from previous location ---\r\n   at Microsoft.CodeAnalysis.Scripting.ScriptExecutionState.RunSubmissionsAsync[TResult](ImmutableArray`1 precedingExecutors, Func`2 currentExecutor, StrongBox`1 exceptionHolderOpt, Func`2 catchExceptionOpt, CancellationToken cancellationToken)",
     "output_type": "error",
     "traceback": [
      "System.ObjectDisposedException: Cannot access a disposed object.\r\n",
      "Object name: 'Cannot Subscribe with an already disposed session'.\r\n",
      "   at SolaceSystems.Solclient.Messaging.Native.SessionImpl.Subscribe(ISubscription subscription, Boolean waitForConfirm)\r\n",
      "   at CallSite.Target(Closure, CallSite, Shioaji, Object, QuoteType)\r\n",
      "   at System.Dynamic.UpdateDelegates.UpdateAndExecuteVoid3[T0,T1,T2](CallSite site, T0 arg0, T1 arg1, T2 arg2)\r\n",
      "   at Submission#252.<<Initialize>>d__0.MoveNext()\r\n",
      "--- End of stack trace from previous location ---\r\n",
      "   at Microsoft.CodeAnalysis.Scripting.ScriptExecutionState.RunSubmissionsAsync[TResult](ImmutableArray`1 precedingExecutors, Func`2 currentExecutor, StrongBox`1 exceptionHolderOpt, Func`2 catchExceptionOpt, CancellationToken cancellationToken)"
     ]
    }
   ],
   "source": [
    "// _api.Subscribe(contract:_api.Contracts.Stocks[\"TSE\"][\"2330\"], quoteType:QuoteType.tick);\n",
    "_api.Subscribe(_api.Contracts.Stocks[\"TSE\"][\"2330\"], QuoteType.tick);\n",
    "\n",
    "List<Dictionary<string, object>> combinedList = new List<Dictionary<string, object>>();\n",
    "private void myQuoteCB_v1(Exchange exchange, dynamic quote)\n",
    "{\n",
    "    Dictionary<string, object> dict = new Dictionary<string, object>();\n",
    "    dict.Add(quote.GetType().Name, quote);\n",
    "    combinedList.Add(dict);\n",
    "}\n",
    "\n",
    "_api.SetQuoteCallback_v1(myQuoteCB_v1);"
   ]
  },
  {
   "cell_type": "code",
   "execution_count": null,
   "metadata": {
    "dotnet_interactive": {
     "language": "csharp"
    },
    "polyglot_notebook": {
     "kernelName": "csharp"
    }
   },
   "outputs": [],
   "source": [
    "var _contract = _api.Contracts.Futures[\"MXF\"][\"MXF202401\"];    \n",
    "var _futOptOrder = new FutOptOrder()\n",
    "{\n",
    "    // action = (positions[0].direction == \"Buy\") ? \"Sell\" : positions[0].direction,\n",
    "    action = \"Buy\",\n",
    "    price = Convert.ToDouble(16800),\n",
    "    quantity = 1, price_type = \"LMT\", order_type = \"ROD\", octype = OCType.DayTrade\n",
    "};\n",
    "\n",
    "var _trade = _api.PlaceOrder(_contract, _futOptOrder);\n",
    "Console.WriteLine(_trade);"
   ]
  },
  {
   "cell_type": "code",
   "execution_count": null,
   "metadata": {
    "dotnet_interactive": {
     "language": "csharp"
    },
    "polyglot_notebook": {
     "kernelName": "csharp"
    }
   },
   "outputs": [],
   "source": [
    "/*今年有訊號時平均O-L為65，猜今低出現，V彈3根就出手的無腦多的策略*/\n",
    "Kbars kbars = _api.Kbars( _api.Contracts.Futures[\"TXF\"][\"TXFR1\"],\n",
    "                          DateTime.Now.AddDays(-1).ToString(\"yyyy-MM-dd\"),\n",
    "                          DateTime.Now.ToString(\"yyyy-MM-dd\"));\n",
    "\n",
    "List<DateTimeOffset> generalTimes = new List<DateTimeOffset>();\n",
    "foreach (long timestamp in kbars.ts)\n",
    "{\n",
    "    DateTime dateTime = DateTimeOffset.FromUnixTimeMilliseconds(timestamp / 1000000).UtcDateTime;\n",
    "    generalTimes.Add(new DateTimeOffset(dateTime, TimeSpan.Zero));\n",
    "}\n",
    "\n",
    "DataFrame df = new DataFrame(\n",
    "    new PrimitiveDataFrameColumn<DateTimeOffset>(\"Time\", generalTimes),\n",
    "    new PrimitiveDataFrameColumn<double>(\"Open\", kbars.Open.ToList()),\n",
    "    new PrimitiveDataFrameColumn<double>(\"High\", kbars.High.ToList()),\n",
    "    new PrimitiveDataFrameColumn<double>(\"Low\", kbars.Low.ToList()),\n",
    "    new PrimitiveDataFrameColumn<double>(\"Close\", kbars.Close.ToList()),\n",
    "    new PrimitiveDataFrameColumn<long>(\"Volume\", kbars.Volume.ToList())\n",
    "    );\n",
    "// df.Tail(16).Display();\n",
    "Console.WriteLine(df.Rows.Cast<DataFrameRow>().ElementAtOrDefault(^1)[0]);\n",
    "Convert.ToDateTime(df.Rows.Cast<DataFrameRow>().ElementAtOrDefault(^1)[0].ToString())\n",
    "/*\n",
    "try\n",
    "{\n",
    "    // var smc1 = df.Rows.Cast<DataFrameRow>().ElementAstOrDefault[4];\n",
    "    Console.WriteLine(df.Rows.Cast<DataFrameRow>().ElementAtOrDefault(^16)[4]);\n",
    "    Console.WriteLine(df.Rows.Cast<DataFrameRow>().ElementAtOrDefault(^11)[4]);\n",
    "    Console.WriteLine(df.Rows.Cast<DataFrameRow>().ElementAtOrDefault(^6)[4]);\n",
    "    Console.WriteLine(df.Rows.Cast<DataFrameRow>().ElementAtOrDefault(^1)[4]);\n",
    "} \n",
    "catch(Exception e1)\n",
    "{\n",
    "    Console.WriteLine($\"なに？___{e1.Message}\");\n",
    "}\n",
    "// df[\"Close\"]\n",
    "// df[\"Close\"].Max()\n",
    "// df[\"Close\"].GetType()\n",
    "// PrimitiveDataFrameColumn<double> closePriceColumn =  as PrimitiveDataFrameColumn<double>;\n",
    "// List<double> closePriceList = closePriceColumn.ToList();\n",
    "// closePriceList\n",
    "*/\n"
   ]
  },
  {
   "cell_type": "code",
   "execution_count": null,
   "metadata": {
    "dotnet_interactive": {
     "language": "csharp"
    },
    "polyglot_notebook": {
     "kernelName": "csharp"
    }
   },
   "outputs": [],
   "source": [
    "var positions = _api.ListPositions(account:_api.FutureAccount);\n",
    "var _contract = _api.Contracts.Futures[\"MXF\"][\"MXF202308\"];    \n",
    "var _futOptOrder = new FutOptOrder()\n",
    "{\n",
    "    action = \"Sell\",\n",
    "    price = 16365,\n",
    "    quantity = 1, price_type = \"LMT\", order_type = \"ROD\"//, octype = OCType.DayTrade\n",
    "};\n",
    "var _trade = _api.PlaceOrder(_contract, _futOptOrder);"
   ]
  },
  {
   "cell_type": "code",
   "execution_count": null,
   "metadata": {
    "dotnet_interactive": {
     "language": "csharp"
    },
    "polyglot_notebook": {
     "kernelName": "csharp"
    }
   },
   "outputs": [],
   "source": [
    "var res = _api.ListProfitLossSummary( DateTime.Now.AddMonths(-1).ToString(\"yyyy-MM-dd\"),\n",
    "                                      DateTime.Now.ToString(\"yyyy-MM-dd\"),\n",
    "                                      _api.FutureAccount).profitloss_summary;\n",
    "\n",
    "foreach (var i in (List<FutureProfitLossSummary>)res)\n",
    "Console.WriteLine($\"歷史損益：{i.code.PadRight(10)}、{i.direction.PadRight(4)}、{i.entry_price.ToString().PadLeft(8)}、{i.cover_price.ToString().PadLeft(8)}、{i.pnl.ToString().PadLeft(8)}\");\n",
    "\n",
    "// var positions = _api.ListPositions(_api.FutureAccount);  //TX216850H3\n",
    "// foreach (var i in (List<FuturePosition>)positions) \n",
    "// Console.WriteLine($\"商品{i.code}、損益{i.pnl}\");"
   ]
  },
  {
   "cell_type": "code",
   "execution_count": null,
   "metadata": {
    "dotnet_interactive": {
     "language": "csharp"
    },
    "polyglot_notebook": {
     "kernelName": "csharp"
    }
   },
   "outputs": [],
   "source": [
    "var res = _api.ListPositions(_api.FutureAccount);\n",
    "foreach (var i in (List<FuturePosition>)res)\n",
    "Console.WriteLine(i);\n",
    "// Console.WriteLine($\"PositionDetail ☛ {i.code}、{i.direction}、{i.price}、{i.last_price}、{i.pnl}\");\n",
    "\n",
    "\n",
    "var res1 = _api.ListPositionDetail(_api.FutureAccount);\n",
    "foreach (var i in (List<FuturePositionDetail>)res1)\n",
    "Console.WriteLine(i);\n",
    "// Console.WriteLine($\"PositionDetail ☛ {i.code}、{i.direction}、{i.price}、{i.last_price}、{i.pnl}、{i.date}\\n\");"
   ]
  },
  {
   "cell_type": "code",
   "execution_count": null,
   "metadata": {
    "dotnet_interactive": {
     "language": "csharp"
    },
    "polyglot_notebook": {
     "kernelName": "csharp"
    }
   },
   "outputs": [],
   "source": [
    "// var StopTime = DateTime.Now.AddMinutes(0.5);\n",
    "var StopTime = new DateTime(2023,8,3,5,0,0);\n",
    "var positions = _api.ListPositions(_api.FutureAccount);\n",
    "// while (true) \n",
    "while (!string.IsNullOrEmpty(positions[0].code)) \n",
    "{\n",
    "    Decimal _price = 999;  // 這裡Decimal 下面再 Convert.ToDouble(_price) 是可下單的；試別種\n",
    "    \n",
    "\n",
    "    if (positions[0].pnl >= 50 )\n",
    "    {\n",
    "        // ===========行情價=============\n",
    "        _price = positions[0].last_price + 1;\n",
    "    }\n",
    "    else if (positions[0].pnl < -10000)\n",
    "    {\n",
    "        // =========成本價==========\n",
    "        _price = positions[0].price;\n",
    "    }\n",
    "\n",
    "\n",
    "    if (_price != 999)\n",
    "    {\n",
    "        var sym1 =  _api.ListPositions(account:_api.FutureAccount)[0].code.ToString().Substring(0,3);  // TX2\n",
    "        var sym2 =  _api.ListPositions(account:_api.FutureAccount)[0].code.ToString().Substring(3,5);  // 16850\n",
    "        // var sym3 = (P ? C : P)  // 畢竟下面\"P\"目前寫死\n",
    "        var _contract = _api.Contracts.Options[sym1][sym1 + \"202308\" + sym2 + \"C\"];                    // opt_code[\"TX220230816850C\"];\n",
    "        var _futOptOrder = new FutOptOrder()\n",
    "        {\n",
    "            action = \"Sell\",  // 只會把買權平倉，應該不必考慮先賣後買 action = (positions[0].direction == \"Buy\") ? \"Sell\" : positions[0].direction,\n",
    "            price = Convert.ToDouble(_price),\n",
    "            quantity = 1, price_type = \"LMT\", order_type = \"ROD\", octype = \"Cover\"\n",
    "        };\n",
    "        var _trade = _api.PlaceOrder(_contract, _futOptOrder);\n",
    "        break;\n",
    "    }\n",
    "    else if (DateTime.Now >= StopTime)\n",
    "    {\n",
    "        break;\n",
    "    }\n",
    "    else\n",
    "    {\n",
    "        Thread.Sleep(10_000);\n",
    "    }\n",
    "}"
   ]
  },
  {
   "cell_type": "code",
   "execution_count": null,
   "metadata": {
    "dotnet_interactive": {
     "language": "csharp"
    },
    "polyglot_notebook": {
     "kernelName": "csharp"
    }
   },
   "outputs": [],
   "source": [
    "/*\n",
    "小單平倉每X秒移價\n",
    "*/\n",
    "var StopTime = DateTime.Now.AddMinutes(0.5);   // var StopTime = new DateTime(2023,7,27,5,0,0);\n",
    "while (true) \n",
    "{\n",
    "    var positions = _api.ListPositions(account:_api.FutureAccount);\n",
    "    Decimal _price = 0;  // 這裡Decimal 下面再 Convert.ToDouble(_price) 是可下單的；試別種\n",
    "    if (positions[0].code == \"MXF\" && positions[0].pnl > 100)\n",
    "    {\n",
    "        // ===========行情價=============\n",
    "        _price = positions[0].last_price;\n",
    "    }\n",
    "    else if (positions[0].code == \"MXF\" && positions[0].pnl < -1000)\n",
    "    {\n",
    "        // =========成本價==========\n",
    "        _price = positions[0].price;\n",
    "    }\n",
    "    var _contract = _api.Contracts.Futures[\"MXF\"][\"MXF202308\"];    \n",
    "    var _futOptOrder = new FutOptOrder()\n",
    "    {\n",
    "        action = (positions[0].direction == \"Buy\") ? \"Sell\" : positions[0].direction,\n",
    "        price = Convert.ToDouble(_price),\n",
    "        quantity = 1, price_type = \"LMT\", order_type = \"ROD\", octype = OCType.DayTrade\n",
    "    };\n",
    "    var _trade = _api.PlaceOrder(_contract, _futOptOrder);\n",
    "\n",
    "\n",
    "    Thread.Sleep(10_000);\n",
    "    if (DateTime.Now >= StopTime) // (DateTime.Now >= DateTime(2023,7,15,5,0,0))\n",
    "    {\n",
    "        break;\n",
    "    }\n",
    "}"
   ]
  },
  {
   "cell_type": "markdown",
   "metadata": {},
   "source": [
    "# Concat\n",
    "\n",
    "var abc = ScannersAmountRank.Concat(ScannersChangePercentRank);"
   ]
  },
  {
   "cell_type": "code",
   "execution_count": null,
   "metadata": {
    "dotnet_interactive": {
     "language": "csharp"
    },
    "polyglot_notebook": {
     "kernelName": "csharp"
    }
   },
   "outputs": [],
   "source": [
    "SJList ScannersAmountRank = _api.Scanners(date: DateTime.Now.ToString(\"yyyy-MM-dd\") , scannerType: ScannerType.AmountRank, count: 10);\n",
    "SJList ScannersChangePercentRank = _api.Scanners(date: DateTime.Now.ToString(\"yyyy-MM-dd\") , scannerType: ScannerType.ChangePercentRank, count: 5);\n",
    "\n",
    "for (int i = 0; i < ScannersAmountRank.Count; i++)\n",
    "{\n",
    "    var kbar_body = 100 * (ScannersAmountRank[i].close - ScannersAmountRank[i].open) / ScannersAmountRank[i].open;\n",
    "    var updn_pct = Math.Round(ScannersAmountRank[i].change_price * 100 / ScannersAmountRank[i].open, 2);\n",
    "    // Console.WriteLine($\"{ScannersAmountRank[i].name} K棒%數{a*100:F2}\");\n",
    "    Console.WriteLine( string.Join(\"\\t\",\n",
    "                       ScannersAmountRank[i].name,\n",
    "                       ScannersAmountRank[i].code,\n",
    "                       Math.Round(kbar_body, 2).ToString().PadLeft(5).PadLeft(1),\n",
    "                       (ScannersAmountRank[i].total_amount / 100_000_000).ToString().PadLeft(3),\n",
    "                       (ScannersAmountRank[i].close > ScannersAmountRank[i].open)? \"↑\" : \"↓\",\n",
    "                       updn_pct.ToString().PadLeft(5).PadLeft(1)\n",
    "                       ));\n",
    "}\n",
    "\n",
    "for (int i = 0; i < ScannersChangePercentRank.Count; i++)\n",
    "{\n",
    "    var kbar_body = 100 * (ScannersChangePercentRank[i].close - ScannersChangePercentRank[i].open) / ScannersChangePercentRank[i].open;\n",
    "    //漲幅排行肯定紅K，感覺不必再看C-O的符號 與 chg/O\n",
    "    Console.WriteLine( string.Join(\"\\t\",\n",
    "                       ScannersChangePercentRank[i].name,\n",
    "                       ScannersChangePercentRank[i].code,\n",
    "                       Math.Round(kbar_body, 2).ToString().PadLeft(5).PadLeft(1),\n",
    "                       (ScannersChangePercentRank[i].total_amount / 100_000_000).ToString().PadLeft(3)\n",
    "                       ));\n",
    "}\n",
    "\n",
    "\n",
    "var abc = ScannersAmountRank.Concat(ScannersChangePercentRank);  // ,☛ System.Linq.Enumerable+Concat2Iterator<System.Object>\n",
    "foreach(var i in abc)\n",
    "{\n",
    "    Console.WriteLine( string.Join(\"\\t\",\n",
    "                       i.name, i.code\n",
    "                       ));\n",
    "}"
   ]
  },
  {
   "cell_type": "code",
   "execution_count": null,
   "metadata": {
    "dotnet_interactive": {
     "language": "csharp"
    },
    "polyglot_notebook": {
     "kernelName": "csharp"
    }
   },
   "outputs": [],
   "source": [
    "// var StopTime = DateTime.Now.AddMinutes(0.5);\n",
    "var StopTime = new DateTime(2023,8,3,5,0,0);\n",
    "var positions = _api.ListPositions(_api.FutureAccount);\n",
    "// while (true) \n",
    "while (!string.IsNullOrEmpty(positions[0].code)) \n",
    "{\n",
    "    Decimal _price = 999;  // 這裡Decimal 下面再 Convert.ToDouble(_price) 是可下單的；試別種\n",
    "    \n",
    "\n",
    "    if (positions[0].pnl >= 50 )\n",
    "    {\n",
    "        // ===========行情價=============\n",
    "        _price = positions[0].last_price + 1;\n",
    "    }\n",
    "    else if (positions[0].pnl < -10000)\n",
    "    {\n",
    "        // =========成本價==========\n",
    "        _price = positions[0].price;\n",
    "    }\n",
    "\n",
    "\n",
    "    if (_price != 999)\n",
    "    {\n",
    "        var sym1 =  _api.ListPositions(account:_api.FutureAccount)[0].code.ToString().Substring(0,3);  // TX2\n",
    "        var sym2 =  _api.ListPositions(account:_api.FutureAccount)[0].code.ToString().Substring(3,5);  // 16850\n",
    "        // var sym3 = (P ? C : P)  // 畢竟下面\"P\"目前寫死\n",
    "        var _contract = _api.Contracts.Options[sym1][sym1 + \"202308\" + sym2 + \"C\"];                    // _api.Contracts.Options[\"TX2\"][\"TX220230816850C\"];\n",
    "        var _futOptOrder = new FutOptOrder()\n",
    "        {\n",
    "            action = \"Sell\",  // 只會把買權平倉，應該不必考慮先賣後買 action = (positions[0].direction == \"Buy\") ? \"Sell\" : positions[0].direction,\n",
    "            price = Convert.ToDouble(_price),\n",
    "            quantity = 1, price_type = \"LMT\", order_type = \"ROD\", octype = \"Cover\"\n",
    "        };\n",
    "        var _trade = _api.PlaceOrder(_contract, _futOptOrder);\n",
    "        break;\n",
    "    }\n",
    "    else if (DateTime.Now >= StopTime)\n",
    "    {\n",
    "        break;\n",
    "    }\n",
    "    else\n",
    "    {\n",
    "        Thread.Sleep(10_000);\n",
    "    }\n",
    "}"
   ]
  },
  {
   "cell_type": "code",
   "execution_count": null,
   "metadata": {
    "dotnet_interactive": {
     "language": "csharp"
    },
    "polyglot_notebook": {
     "kernelName": "csharp"
    }
   },
   "outputs": [],
   "source": [
    "/*\n",
    "小單平倉每X秒移價\n",
    "*/\n",
    "var StopTime = DateTime.Now.AddMinutes(0.5);   // var StopTime = new DateTime(2023,7,27,5,0,0);\n",
    "while (true) \n",
    "{\n",
    "    var positions = _api.ListPositions(account:_api.FutureAccount);\n",
    "    Decimal _price = 0;  // 這裡Decimal 下面再 Convert.ToDouble(_price) 是可下單的；試別種\n",
    "    if (positions[0].code == \"MXF\" && positions[0].pnl > 100)\n",
    "    {\n",
    "        // ===========行情價=============\n",
    "        _price = positions[0].last_price;\n",
    "    }\n",
    "    else if (positions[0].code == \"MXF\" && positions[0].pnl < -1000)\n",
    "    {\n",
    "        // =========成本價==========\n",
    "        _price = positions[0].price;\n",
    "    }\n",
    "    var _contract = _api.Contracts.Futures[\"MXF\"][\"MXF202308\"];    \n",
    "    var _futOptOrder = new FutOptOrder()\n",
    "    {\n",
    "        action = (positions[0].direction == \"Buy\") ? \"Sell\" : positions[0].direction,\n",
    "        price = Convert.ToDouble(_price),\n",
    "        quantity = 1, price_type = \"LMT\", order_type = \"ROD\", octype = OCType.DayTrade\n",
    "    };\n",
    "    var _trade = _api.PlaceOrder(_contract, _futOptOrder);\n",
    "\n",
    "\n",
    "    Thread.Sleep(10_000);\n",
    "    if (DateTime.Now >= StopTime) // (DateTime.Now >= DateTime(2023,7,15,5,0,0))\n",
    "    {\n",
    "        break;\n",
    "    }\n",
    "}"
   ]
  }
 ],
 "metadata": {
  "kernelspec": {
   "display_name": ".NET (C#)",
   "language": "C#",
   "name": ".net-csharp"
  },
  "language_info": {
   "name": "polyglot-notebook"
  },
  "polyglot_notebook": {
   "kernelInfo": {
    "defaultKernelName": "csharp",
    "items": [
     {
      "aliases": [],
      "languageName": "csharp",
      "name": "csharp"
     }
    ]
   }
  }
 },
 "nbformat": 4,
 "nbformat_minor": 2
}

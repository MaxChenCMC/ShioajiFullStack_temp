{
 "cells": [
  {
   "cell_type": "code",
   "execution_count": null,
   "metadata": {
    "dotnet_interactive": {
     "language": "csharp"
    },
    "polyglot_notebook": {
     "kernelName": "csharp"
    }
   },
   "outputs": [],
   "source": [
    "using System;\n",
    "using System.Collections.Generic;\n",
    "using System.IO;\n",
    "using System.Text.Json;\n",
    "using Sinopac.Shioaji;\n",
    "\n",
    "class SJCls\n",
    "{\n",
    "        private static Shioaji _api = new Shioaji();\n",
    "        public void Login()\n",
    "        {\n",
    "            string jsonString = File.ReadAllText(\"Sinopac.json\");\n",
    "            JsonElement root = JsonDocument.Parse(jsonString).RootElement;\n",
    "            _api.Login(root.GetProperty(\"API_Key\").GetString(), root.GetProperty(\"Secret_Key\").GetString());\n",
    "            _api.ca_activate(\"Sinopac.pfx\", root.GetProperty(\"ca_passwd\").GetString(), root.GetProperty(\"person_id\").GetString());\n",
    "        }\n",
    "\n",
    "        // public dynamic TbarTseTxfOtc()\n",
    "        // {\n",
    "        //     SJList res = _api.Snapshots(new List<IContract>() {\n",
    "        //     _api.Contracts.Futures[\"TXF\"][\"TXFR1\"],\n",
    "        //     _api.Contracts.Indexs[\"TSE\"][\"001\"],\n",
    "        //     _api.Contracts.Indexs[\"OTC\"][\"101\"]\n",
    "        //     });\n",
    "\n",
    "        //     List<Dictionary<string, List<object>>> combinedList = new List<Dictionary<string, List<object>>>();\n",
    "        //     for (int i = 0; i < res.ToArray().Length; i++)\n",
    "        //     {\n",
    "        //         Dictionary<string, List<object>> dict = new Dictionary<string, List<object>>();\n",
    "        //         List<object> values = new List<object>();\n",
    "        //         values.Add(res[0].close);\n",
    "        //         values.Add(res[0].change_price);\n",
    "        //         values.Add(res[0].change_rate);\n",
    "        //         dict.Add(res[i].code, values);\n",
    "        //         combinedList.Add(dict);\n",
    "        //     }\n",
    "        //     return combinedList;\n",
    "        // }\n",
    "\n",
    "        // public SJList AmountRank(int num)\n",
    "        // {\n",
    "        //     SJList res = _api.Scanners(date: \"2023-12-29\", scannerType: ScannerType.AmountRank, count: num);\n",
    "        //     return res;\n",
    "        // }\n",
    "\n",
    "        // public SJList ChangePercentRank(int num)\n",
    "        // {\n",
    "        //     SJList res = _api.Scanners(date: \"2023-12-29\", scannerType: ScannerType.ChangePercentRank, count: num);\n",
    "        //     return res;\n",
    "        // }\n",
    "\n",
    "        // public object TicksLastCount(int num)\n",
    "        // {\n",
    "        //     var TicksQuery = _api.Ticks(_api.Contracts.Futures[\"TXF\"][\"TXFR1\"], \"2023-12-29\", TicksQueryType.LastCount, last_cnt: num);\n",
    "\n",
    "        //     List<DateTimeOffset> generalTimes = new List<DateTimeOffset>();\n",
    "        //     foreach (long timestamp in TicksQuery.ts)\n",
    "        //     {\n",
    "        //         DateTime dateTime = DateTimeOffset.FromUnixTimeMilliseconds(timestamp / 1000000).UtcDateTime;\n",
    "        //         generalTimes.Add(new DateTimeOffset(dateTime, TimeSpan.Zero));\n",
    "        //     }\n",
    "        //     List<string> tsFormat = new List<string>();\n",
    "        //     foreach (var i in generalTimes) tsFormat.Add(i.ToString(\"HH:mm:ss\"));\n",
    "\n",
    "        //     List<Dictionary<string, object>> combinedList = new List<Dictionary<string, object>>();\n",
    "        //     for (int i = 0; i < tsFormat.ToArray().Length; i++)\n",
    "        //     {\n",
    "        //         Dictionary<string, object> dict = new Dictionary<string, object>();\n",
    "        //         dict.Add(tsFormat[i], TicksQuery.close[i]);\n",
    "        //         combinedList.Add(dict);\n",
    "        //     }\n",
    "        //     return combinedList;\n",
    "        // }\n",
    "\n",
    "\n",
    "        // public SJList BlueChips()\n",
    "        // {\n",
    "        //     List<string> tw50 = new List<string>(){\n",
    "        //         \"2330\", \"2454\", \"2317\", \"2412\", \"2382\", \"2881\", \"2308\", \"6505\", \"2882\", \"2303\",\n",
    "        //         \"3711\", \"2886\", \"2891\", \"1303\", \"1301\", \"2002\", \"1216\", \"2884\", \"2207\", \"5880\",\n",
    "        //         \"3008\", \"2892\", \"3045\", \"1326\", \"2357\", \"2885\", \"6669\", \"2395\", \"3034\", \"5871\",\n",
    "        //         \"2880\", \"2603\", \"2345\", \"3231\", \"4904\", \"2912\", \"2301\", \"3037\", \"1101\", \"2327\",\n",
    "        //         \"2890\", \"2379\", \"2408\", \"3661\", \"3443\", \"4938\", \"5876\", \"2887\", \"2883\", \"1590\"\n",
    "        //     };\n",
    "        //     var tw50_otc10 = new List<IContract>();\n",
    "        //     foreach (var i in tw50)\n",
    "        //     {\n",
    "        //         tw50_otc10.Add(_api.Contracts.Stocks[\"TSE\"][i]);\n",
    "        //     }\n",
    "        //     foreach (var i in new List<string> { \"6488\", \"8069\", \"3529\", \"5347\", \"5274\", \"6446\", \"5483\", \"8299\", \"3293\", \"4966\" })\n",
    "        //     {\n",
    "        //         tw50_otc10.Add(_api.Contracts.Stocks[\"OTC\"][i]);\n",
    "        //     }\n",
    "        //     return _api.Snapshots(tw50_otc10);\n",
    "        // }\n",
    "\n",
    "\n",
    "        public object Kline(int dayDiff)\n",
    "        {\n",
    "            Kbars res = _api.Kbars(_api.Contracts.Futures[\"TXF\"][\"TXFR1\"],\n",
    "                // DateTime.Now.AddDays(-dayDiff).ToString(\"yyyy-MM-dd\"),\n",
    "                // DateTime.Now.ToString(\"yyyy-MM-dd\")\n",
    "                \"2023-12-28\", \"2023-12-29\"\n",
    "                );\n",
    "\n",
    "            List<DateTimeOffset> generalTimes = new List<DateTimeOffset>();\n",
    "            foreach (long timestamp in res.ts)\n",
    "            {\n",
    "                DateTime dateTime = DateTimeOffset.FromUnixTimeMilliseconds(timestamp / 1000000).UtcDateTime;\n",
    "                generalTimes.Add(new DateTimeOffset(dateTime, TimeSpan.Zero));\n",
    "            }\n",
    "            List<string> tsFormat = new List<string>();\n",
    "            foreach (var i in generalTimes) tsFormat.Add(i.ToString(\"HH:mm:ss\"));\n",
    "\n",
    "            List<Dictionary<string, object>> combinedList = new List<Dictionary<string, object>>();\n",
    "            for (int i = 0; i < tsFormat.ToArray().Length; i++)\n",
    "            {\n",
    "                Dictionary<string, object> dict = new Dictionary<string, object>();\n",
    "                dict.Add(tsFormat[i], res.Close[i]);\n",
    "                combinedList.Add(dict);\n",
    "            }\n",
    "            return res;\n",
    "        }\n",
    "\n",
    "    // public SJList Focus()\n",
    "    // {\n",
    "    //     List<string> todayFocus = [\"2353\",\"3231\",\"2344\",\"2324\",\"2356\",\"5521\",\"2352\",\"2382\",\"3481\"];\n",
    "    //     List<string> yesterdayFocus = [\"3706\",\"2303\",\"2515\",\"3006\",\"2609\",\"2486\",\"1514\",\"2409\",\"6125\"];\n",
    "    //     List<string> daytradeFocus = [\"2382\",\"3231\",\"1519\",\"2353\",\"3017\",\"3661\",\"3006\",\"2356\",\"2376\"];\n",
    "\n",
    "    //     List<IContract> totalFocus = new List<IContract>();\n",
    "    //     // 九檔全列\n",
    "    //     foreach (var i in todayFocus){\n",
    "    //         totalFocus.Add(_api.Contracts.Stocks[\"TSE\"][i]);\n",
    "    //     }\n",
    "    //     // 希望重複的會忽略，9+9<=18\n",
    "    //     foreach (var i in yesterdayFocus){\n",
    "    //         totalFocus.Add(_api.Contracts.Stocks[\"TSE\"][i]);\n",
    "    //     }\n",
    "    //     // 反向取最後九檔，但有可能當沖上榜的跟熱門股重複\n",
    "    //     foreach (var i in daytradeFocus){\n",
    "    //         totalFocus.Add(_api.Contracts.Stocks[\"TSE\"][i]);\n",
    "    //     }\n",
    "    //     var res = _api.Snapshots(totalFocus);\n",
    "    //     return res;\n",
    "    // }    \n",
    "}\n",
    "\n",
    "SJCls SJ = new SJCls();\n",
    "SJ.Login();"
   ]
  },
  {
   "cell_type": "code",
   "execution_count": 6,
   "metadata": {
    "dotnet_interactive": {
     "language": "csharp"
    },
    "polyglot_notebook": {
     "kernelName": "csharp"
    }
   },
   "outputs": [
    {
     "ename": "Error",
     "evalue": "(14,1): error CS0103: 名稱 'api' 不存在於目前的內容中",
     "output_type": "error",
     "traceback": [
      "(14,1): error CS0103: 名稱 'api' 不存在於目前的內容中"
     ]
    }
   ],
   "source": [
    "// _api.Settlements()\n",
    "// _api.AccountBalance()\n",
    "// _api.Ticks(_api.Contracts.Stocks[\"TSE\"][\"2330\"], DateTime.Now.ToString(\"yyyy-MM-dd\"))\n",
    "\n",
    "// _api.ListPositions(_api.FutureAccount)\n",
    "// _api.Ticks(_api.Contracts.Futures[\"TXF\"][\"TXFR1\"], DateTime.Now.ToString(\"yyyy-MM-dd\"))\n",
    "// _api.Ticks(_api.Contracts.Futures[\"TXF\"][\"TXFR1\"], DateTime.Now.ToString(\"yyyy-MM-dd\"), TicksQueryType.RangeTime, time_start:\"22:40:00\",time_end:\"22:50:00\")\n",
    "// _api.Ticks(_api.Contracts.Futures[\"TXF\"][\"TXFR1\"], DateTime.Now.ToString(\"yyyy-MM-dd\"), TicksQueryType.LastCount, last_cnt:10)\n",
    "// _api.Kbars(_api.Contracts.Futures[\"TXF\"][\"TXFR1\"],DateTime.Now.AddDays(-1).ToString(\"yyyy-MM-dd\"), DateTime.Now.ToString(\"yyyy-MM-dd\") )\n",
    "// _api.Contracts.Options[\"TX1\"][\"TX120240117950C\"]\n",
    "// _api.ListProfitLossSummary(begin_date: \"2023-10-01\",end_date: \"2023-12-25\")\n",
    "// _api.ListPositions(_api.FutureAccount)\n",
    "// _api.ListPositionDetail()"
   ]
  },
  {
   "cell_type": "code",
   "execution_count": 3,
   "metadata": {
    "dotnet_interactive": {
     "language": "csharp"
    },
    "polyglot_notebook": {
     "kernelName": "csharp"
    }
   },
   "outputs": [
    {
     "data": {
      "text/html": [
       "<div><div></div><div></div><div><strong>Installed Packages</strong><ul><li><span>Shioaji, 1.1.8</span></li></ul></div></div>"
      ]
     },
     "metadata": {},
     "output_type": "display_data"
    }
   ],
   "source": [
    "// using System;\n",
    "// using System.Collections.Generic;\n",
    "// using System.Linq;\n",
    "// using System.Text;\n",
    "// using System.Collections;\n",
    "// using System.Threading;\n",
    "// using System.Threading.Tasks;"
   ]
  },
  {
   "cell_type": "code",
   "execution_count": 2,
   "metadata": {
    "dotnet_interactive": {
     "language": "csharp"
    },
    "polyglot_notebook": {
     "kernelName": "csharp"
    }
   },
   "outputs": [
    {
     "name": "stdout",
     "output_type": "stream",
     "text": [
      "Connecting as shioaji@sinopac on 203.66.91.161:80...\r\n"
     ]
    }
   ],
   "source": [
    "// #r \"nuget: Shioaji, 1.1.8\"\n",
    "using System.IO;\n",
    "using System.Text.Json;\n",
    "using Sinopac.Shioaji;\n",
    "using System.Linq;\n",
    "\n",
    "Shioaji _api = new Shioaji();\n",
    "string jsonString = File.ReadAllText(\"Sinopac.json\");\n",
    "JsonElement root = JsonDocument.Parse(jsonString).RootElement;\n",
    "_api.Login(root.GetProperty(\"API_Key\").GetString(), root.GetProperty(\"Secret_Key\").GetString());\n",
    "// _api.ca_activate(@\"Sinopac.pfx\", root.GetProperty(\"ca_passwd\").GetString(), root.GetProperty(\"person_id\").GetString());"
   ]
  },
  {
   "cell_type": "code",
   "execution_count": null,
   "metadata": {
    "dotnet_interactive": {
     "language": "csharp"
    },
    "polyglot_notebook": {
     "kernelName": "csharp"
    }
   },
   "outputs": [],
   "source": [
    "new List<string> tw50 = [\n",
    "\"2330\",\"2454\",\"2317\",\"2412\",\"2382\",\"2881\",\"2308\",\"6505\",\"2882\",\"2303\",\n",
    "\"3711\",\"2886\",\"2891\",\"1303\",\"1301\",\"2002\",\"1216\",\"2884\",\"2207\",\"5880\",\n",
    "\"3008\",\"2892\",\"3045\",\"1326\",\"2357\",\"2885\",\"6669\",\"2395\",\"3034\",\"5871\",\n",
    "\"2880\",\"2603\",\"2345\",\"3231\",\"4904\",\"2912\",\"2301\",\"3037\",\"1101\",\"2327\",\n",
    "\"2890\",\"2379\",\"2408\",\"3661\",\"3443\",\"4938\",\"5876\",\"2887\",\"2883\",\"1590\",\n",
    "];\n",
    "var tw50_otc10 = new List<IContract>();\n",
    "foreach (var i in tw50){\n",
    "    tw50_otc10.Add(_api.Contracts.Stocks[\"TSE\"][i]);\n",
    "}\n",
    "foreach (var i in new List<string>{\"6488\",\"8069\",\"3529\",\"5347\",\"5274\",\"6446\",\"5483\",\"8299\",\"3293\",\"4966\"}){\n",
    "    tw50_otc10.Add(_api.Contracts.Stocks[\"OTC\"][i]);\n",
    "}\n",
    "// tw50_otc10\n",
    "_api.Snapshots(tw50_otc10)"
   ]
  },
  {
   "cell_type": "code",
   "execution_count": null,
   "metadata": {
    "dotnet_interactive": {
     "language": "csharp"
    },
    "polyglot_notebook": {
     "kernelName": "csharp"
    }
   },
   "outputs": [],
   "source": [
    "// _api.Subscribe(contract:_api.Contracts.Stocks[\"TSE\"][\"2330\"], quoteType:QuoteType.tick);\n",
    "_api.Subscribe(_api.Contracts.Stocks[\"TSE\"][\"2330\"], QuoteType.tick);\n",
    "\n",
    "List<Dictionary<string, object>> combinedList = new List<Dictionary<string, object>>();\n",
    "private void myQuoteCB_v1(Exchange exchange, dynamic quote)\n",
    "{\n",
    "    Dictionary<string, object> dict = new Dictionary<string, object>();\n",
    "    dict.Add(quote.GetType().Name, quote);\n",
    "    combinedList.Add(dict);\n",
    "}\n",
    "\n",
    "_api.SetQuoteCallback_v1(myQuoteCB_v1);"
   ]
  },
  {
   "cell_type": "code",
   "execution_count": null,
   "metadata": {
    "dotnet_interactive": {
     "language": "csharp"
    },
    "polyglot_notebook": {
     "kernelName": "csharp"
    }
   },
   "outputs": [],
   "source": [
    "/*今年有訊號時平均O-L為65，猜今低出現，V彈3根就出手的無腦多的策略*/\n",
    "Kbars kbars = _api.Kbars( _api.Contracts.Futures[\"TXF\"][\"TXFR1\"],\n",
    "                          DateTime.Now.AddDays(-1).ToString(\"yyyy-MM-dd\"),\n",
    "                          DateTime.Now.ToString(\"yyyy-MM-dd\"));\n",
    "\n",
    "List<DateTimeOffset> generalTimes = new List<DateTimeOffset>();\n",
    "foreach (long timestamp in kbars.ts)\n",
    "{\n",
    "    DateTime dateTime = DateTimeOffset.FromUnixTimeMilliseconds(timestamp / 1000000).UtcDateTime;\n",
    "    generalTimes.Add(new DateTimeOffset(dateTime, TimeSpan.Zero));\n",
    "}\n",
    "\n",
    "DataFrame df = new DataFrame(\n",
    "    new PrimitiveDataFrameColumn<DateTimeOffset>(\"Time\", generalTimes),\n",
    "    new PrimitiveDataFrameColumn<double>(\"Open\", kbars.Open.ToList()),\n",
    "    new PrimitiveDataFrameColumn<double>(\"High\", kbars.High.ToList()),\n",
    "    new PrimitiveDataFrameColumn<double>(\"Low\", kbars.Low.ToList()),\n",
    "    new PrimitiveDataFrameColumn<double>(\"Close\", kbars.Close.ToList()),\n",
    "    new PrimitiveDataFrameColumn<long>(\"Volume\", kbars.Volume.ToList())\n",
    "    );\n",
    "// df.Tail(16).Display();\n",
    "Console.WriteLine(df.Rows.Cast<DataFrameRow>().ElementAtOrDefault(^1)[0]);\n",
    "Convert.ToDateTime(df.Rows.Cast<DataFrameRow>().ElementAtOrDefault(^1)[0].ToString())\n",
    "/*\n",
    "try\n",
    "{\n",
    "    // var smc1 = df.Rows.Cast<DataFrameRow>().ElementAstOrDefault[4];\n",
    "    Console.WriteLine(df.Rows.Cast<DataFrameRow>().ElementAtOrDefault(^16)[4]);\n",
    "    Console.WriteLine(df.Rows.Cast<DataFrameRow>().ElementAtOrDefault(^11)[4]);\n",
    "    Console.WriteLine(df.Rows.Cast<DataFrameRow>().ElementAtOrDefault(^6)[4]);\n",
    "    Console.WriteLine(df.Rows.Cast<DataFrameRow>().ElementAtOrDefault(^1)[4]);\n",
    "} \n",
    "catch(Exception e1)\n",
    "{\n",
    "    Console.WriteLine($\"なに？___{e1.Message}\");\n",
    "}\n",
    "// df[\"Close\"]\n",
    "// df[\"Close\"].Max()\n",
    "// df[\"Close\"].GetType()\n",
    "// PrimitiveDataFrameColumn<double> closePriceColumn =  as PrimitiveDataFrameColumn<double>;\n",
    "// List<double> closePriceList = closePriceColumn.ToList();\n",
    "// closePriceList\n",
    "*/\n"
   ]
  },
  {
   "cell_type": "code",
   "execution_count": null,
   "metadata": {
    "dotnet_interactive": {
     "language": "csharp"
    },
    "polyglot_notebook": {
     "kernelName": "csharp"
    }
   },
   "outputs": [],
   "source": [
    "var positions = _api.ListPositions(account:_api.FutureAccount);\n",
    "var _contract = _api.Contracts.Futures[\"MXF\"][\"MXF202308\"];    \n",
    "var _futOptOrder = new FutOptOrder()\n",
    "{\n",
    "    action = \"Sell\",\n",
    "    price = 16365,\n",
    "    quantity = 1, price_type = \"LMT\", order_type = \"ROD\"//, octype = OCType.DayTrade\n",
    "};\n",
    "var _trade = _api.PlaceOrder(_contract, _futOptOrder);"
   ]
  },
  {
   "cell_type": "code",
   "execution_count": null,
   "metadata": {
    "dotnet_interactive": {
     "language": "csharp"
    },
    "polyglot_notebook": {
     "kernelName": "csharp"
    }
   },
   "outputs": [],
   "source": [
    "var res = _api.ListProfitLossSummary( DateTime.Now.AddMonths(-1).ToString(\"yyyy-MM-dd\"),\n",
    "                                      DateTime.Now.ToString(\"yyyy-MM-dd\"),\n",
    "                                      _api.FutureAccount).profitloss_summary;\n",
    "\n",
    "foreach (var i in (List<FutureProfitLossSummary>)res)\n",
    "Console.WriteLine($\"歷史損益：{i.code.PadRight(10)}、{i.direction.PadRight(4)}、{i.entry_price.ToString().PadLeft(8)}、{i.cover_price.ToString().PadLeft(8)}、{i.pnl.ToString().PadLeft(8)}\");\n",
    "\n",
    "// var positions = _api.ListPositions(_api.FutureAccount);  //TX216850H3\n",
    "// foreach (var i in (List<FuturePosition>)positions) \n",
    "// Console.WriteLine($\"商品{i.code}、損益{i.pnl}\");"
   ]
  },
  {
   "cell_type": "code",
   "execution_count": null,
   "metadata": {
    "dotnet_interactive": {
     "language": "csharp"
    },
    "polyglot_notebook": {
     "kernelName": "csharp"
    }
   },
   "outputs": [],
   "source": [
    "var res = _api.ListPositions(_api.FutureAccount);\n",
    "foreach (var i in (List<FuturePosition>)res)\n",
    "Console.WriteLine(i);\n",
    "// Console.WriteLine($\"PositionDetail ☛ {i.code}、{i.direction}、{i.price}、{i.last_price}、{i.pnl}\");\n",
    "\n",
    "\n",
    "var res1 = _api.ListPositionDetail(_api.FutureAccount);\n",
    "foreach (var i in (List<FuturePositionDetail>)res1)\n",
    "Console.WriteLine(i);\n",
    "// Console.WriteLine($\"PositionDetail ☛ {i.code}、{i.direction}、{i.price}、{i.last_price}、{i.pnl}、{i.date}\\n\");"
   ]
  },
  {
   "cell_type": "code",
   "execution_count": null,
   "metadata": {
    "dotnet_interactive": {
     "language": "csharp"
    },
    "polyglot_notebook": {
     "kernelName": "csharp"
    }
   },
   "outputs": [],
   "source": [
    "// var StopTime = DateTime.Now.AddMinutes(0.5);\n",
    "var StopTime = new DateTime(2023,8,3,5,0,0);\n",
    "var positions = _api.ListPositions(_api.FutureAccount);\n",
    "// while (true) \n",
    "while (!string.IsNullOrEmpty(positions[0].code)) \n",
    "{\n",
    "    Decimal _price = 999;  // 這裡Decimal 下面再 Convert.ToDouble(_price) 是可下單的；試別種\n",
    "    \n",
    "\n",
    "    if (positions[0].pnl >= 50 )\n",
    "    {\n",
    "        // ===========行情價=============\n",
    "        _price = positions[0].last_price + 1;\n",
    "    }\n",
    "    else if (positions[0].pnl < -10000)\n",
    "    {\n",
    "        // =========成本價==========\n",
    "        _price = positions[0].price;\n",
    "    }\n",
    "\n",
    "\n",
    "    if (_price != 999)\n",
    "    {\n",
    "        var sym1 =  _api.ListPositions(account:_api.FutureAccount)[0].code.ToString().Substring(0,3);  // TX2\n",
    "        var sym2 =  _api.ListPositions(account:_api.FutureAccount)[0].code.ToString().Substring(3,5);  // 16850\n",
    "        // var sym3 = (P ? C : P)  // 畢竟下面\"P\"目前寫死\n",
    "        var _contract = _api.Contracts.Options[sym1][sym1 + \"202308\" + sym2 + \"C\"];                    // opt_code[\"TX220230816850C\"];\n",
    "        var _futOptOrder = new FutOptOrder()\n",
    "        {\n",
    "            action = \"Sell\",  // 只會把買權平倉，應該不必考慮先賣後買 action = (positions[0].direction == \"Buy\") ? \"Sell\" : positions[0].direction,\n",
    "            price = Convert.ToDouble(_price),\n",
    "            quantity = 1, price_type = \"LMT\", order_type = \"ROD\", octype = \"Cover\"\n",
    "        };\n",
    "        var _trade = _api.PlaceOrder(_contract, _futOptOrder);\n",
    "        break;\n",
    "    }\n",
    "    else if (DateTime.Now >= StopTime)\n",
    "    {\n",
    "        break;\n",
    "    }\n",
    "    else\n",
    "    {\n",
    "        Thread.Sleep(10_000);\n",
    "    }\n",
    "}"
   ]
  },
  {
   "cell_type": "code",
   "execution_count": null,
   "metadata": {
    "dotnet_interactive": {
     "language": "csharp"
    },
    "polyglot_notebook": {
     "kernelName": "csharp"
    }
   },
   "outputs": [],
   "source": [
    "/*\n",
    "小單平倉每X秒移價\n",
    "*/\n",
    "var StopTime = DateTime.Now.AddMinutes(0.5);   // var StopTime = new DateTime(2023,7,27,5,0,0);\n",
    "while (true) \n",
    "{\n",
    "    var positions = _api.ListPositions(account:_api.FutureAccount);\n",
    "    Decimal _price = 0;  // 這裡Decimal 下面再 Convert.ToDouble(_price) 是可下單的；試別種\n",
    "    if (positions[0].code == \"MXF\" && positions[0].pnl > 100)\n",
    "    {\n",
    "        // ===========行情價=============\n",
    "        _price = positions[0].last_price;\n",
    "    }\n",
    "    else if (positions[0].code == \"MXF\" && positions[0].pnl < -1000)\n",
    "    {\n",
    "        // =========成本價==========\n",
    "        _price = positions[0].price;\n",
    "    }\n",
    "    var _contract = _api.Contracts.Futures[\"MXF\"][\"MXF202308\"];    \n",
    "    var _futOptOrder = new FutOptOrder()\n",
    "    {\n",
    "        action = (positions[0].direction == \"Buy\") ? \"Sell\" : positions[0].direction,\n",
    "        price = Convert.ToDouble(_price),\n",
    "        quantity = 1, price_type = \"LMT\", order_type = \"ROD\", octype = OCType.DayTrade\n",
    "    };\n",
    "    var _trade = _api.PlaceOrder(_contract, _futOptOrder);\n",
    "\n",
    "\n",
    "    Thread.Sleep(10_000);\n",
    "    if (DateTime.Now >= StopTime) // (DateTime.Now >= DateTime(2023,7,15,5,0,0))\n",
    "    {\n",
    "        break;\n",
    "    }\n",
    "}"
   ]
  },
  {
   "cell_type": "code",
   "execution_count": null,
   "metadata": {
    "dotnet_interactive": {
     "language": "csharp"
    },
    "polyglot_notebook": {
     "kernelName": "csharp"
    }
   },
   "outputs": [],
   "source": [
    "// var StopTime = DateTime.Now.AddMinutes(0.5);\n",
    "var StopTime = new DateTime(2023,8,3,5,0,0);\n",
    "var positions = _api.ListPositions(_api.FutureAccount);\n",
    "// while (true) \n",
    "while (!string.IsNullOrEmpty(positions[0].code)) \n",
    "{\n",
    "    Decimal _price = 999;  // 這裡Decimal 下面再 Convert.ToDouble(_price) 是可下單的；試別種\n",
    "    \n",
    "\n",
    "    if (positions[0].pnl >= 50 )\n",
    "    {\n",
    "        // ===========行情價=============\n",
    "        _price = positions[0].last_price + 1;\n",
    "    }\n",
    "    else if (positions[0].pnl < -10000)\n",
    "    {\n",
    "        // =========成本價==========\n",
    "        _price = positions[0].price;\n",
    "    }\n",
    "\n",
    "\n",
    "    if (_price != 999)\n",
    "    {\n",
    "        var sym1 =  _api.ListPositions(account:_api.FutureAccount)[0].code.ToString().Substring(0,3);  // TX2\n",
    "        var sym2 =  _api.ListPositions(account:_api.FutureAccount)[0].code.ToString().Substring(3,5);  // 16850\n",
    "        // var sym3 = (P ? C : P)  // 畢竟下面\"P\"目前寫死\n",
    "        var _contract = _api.Contracts.Options[sym1][sym1 + \"202308\" + sym2 + \"C\"];                    // _api.Contracts.Options[\"TX2\"][\"TX220230816850C\"];\n",
    "        var _futOptOrder = new FutOptOrder()\n",
    "        {\n",
    "            action = \"Sell\",  // 只會把買權平倉，應該不必考慮先賣後買 action = (positions[0].direction == \"Buy\") ? \"Sell\" : positions[0].direction,\n",
    "            price = Convert.ToDouble(_price),\n",
    "            quantity = 1, price_type = \"LMT\", order_type = \"ROD\", octype = \"Cover\"\n",
    "        };\n",
    "        var _trade = _api.PlaceOrder(_contract, _futOptOrder);\n",
    "        break;\n",
    "    }\n",
    "    else if (DateTime.Now >= StopTime)\n",
    "    {\n",
    "        break;\n",
    "    }\n",
    "    else\n",
    "    {\n",
    "        Thread.Sleep(10_000);\n",
    "    }\n",
    "}"
   ]
  },
  {
   "cell_type": "code",
   "execution_count": null,
   "metadata": {
    "dotnet_interactive": {
     "language": "csharp"
    },
    "polyglot_notebook": {
     "kernelName": "csharp"
    }
   },
   "outputs": [],
   "source": [
    "/*\n",
    "小單平倉每X秒移價\n",
    "*/\n",
    "var StopTime = DateTime.Now.AddMinutes(0.5);   // var StopTime = new DateTime(2023,7,27,5,0,0);\n",
    "while (true) \n",
    "{\n",
    "    var positions = _api.ListPositions(account:_api.FutureAccount);\n",
    "    Decimal _price = 0;  // 這裡Decimal 下面再 Convert.ToDouble(_price) 是可下單的；試別種\n",
    "    if (positions[0].code == \"MXF\" && positions[0].pnl > 100)\n",
    "    {\n",
    "        // ===========行情價=============\n",
    "        _price = positions[0].last_price;\n",
    "    }\n",
    "    else if (positions[0].code == \"MXF\" && positions[0].pnl < -1000)\n",
    "    {\n",
    "        // =========成本價==========\n",
    "        _price = positions[0].price;\n",
    "    }\n",
    "    var _contract = _api.Contracts.Futures[\"MXF\"][\"MXF202308\"];    \n",
    "    var _futOptOrder = new FutOptOrder()\n",
    "    {\n",
    "        action = (positions[0].direction == \"Buy\") ? \"Sell\" : positions[0].direction,\n",
    "        price = Convert.ToDouble(_price),\n",
    "        quantity = 1, price_type = \"LMT\", order_type = \"ROD\", octype = OCType.DayTrade\n",
    "    };\n",
    "    var _trade = _api.PlaceOrder(_contract, _futOptOrder);\n",
    "\n",
    "\n",
    "    Thread.Sleep(10_000);\n",
    "    if (DateTime.Now >= StopTime) // (DateTime.Now >= DateTime(2023,7,15,5,0,0))\n",
    "    {\n",
    "        break;\n",
    "    }\n",
    "}"
   ]
  },
  {
   "cell_type": "markdown",
   "metadata": {},
   "source": [
    "# Concat\n",
    "\n",
    "var abc = ScannersAmountRank.Concat(ScannersChangePercentRank);"
   ]
  },
  {
   "cell_type": "code",
   "execution_count": null,
   "metadata": {
    "dotnet_interactive": {
     "language": "csharp"
    },
    "polyglot_notebook": {
     "kernelName": "csharp"
    }
   },
   "outputs": [],
   "source": [
    "SJList ScannersAmountRank = _api.Scanners(date: DateTime.Now.ToString(\"yyyy-MM-dd\") , scannerType: ScannerType.AmountRank, count: 10);\n",
    "SJList ScannersChangePercentRank = _api.Scanners(date: DateTime.Now.ToString(\"yyyy-MM-dd\") , scannerType: ScannerType.ChangePercentRank, count: 5);\n",
    "\n",
    "for (int i = 0; i < ScannersAmountRank.Count; i++)\n",
    "{\n",
    "    var kbar_body = 100 * (ScannersAmountRank[i].close - ScannersAmountRank[i].open) / ScannersAmountRank[i].open;\n",
    "    var updn_pct = Math.Round(ScannersAmountRank[i].change_price * 100 / ScannersAmountRank[i].open, 2);\n",
    "    // Console.WriteLine($\"{ScannersAmountRank[i].name} K棒%數{a*100:F2}\");\n",
    "    Console.WriteLine( string.Join(\"\\t\",\n",
    "                       ScannersAmountRank[i].name,\n",
    "                       ScannersAmountRank[i].code,\n",
    "                       Math.Round(kbar_body, 2).ToString().PadLeft(5).PadLeft(1),\n",
    "                       (ScannersAmountRank[i].total_amount / 100_000_000).ToString().PadLeft(3),\n",
    "                       (ScannersAmountRank[i].close > ScannersAmountRank[i].open)? \"↑\" : \"↓\",\n",
    "                       updn_pct.ToString().PadLeft(5).PadLeft(1)\n",
    "                       ));\n",
    "}\n",
    "\n",
    "for (int i = 0; i < ScannersChangePercentRank.Count; i++)\n",
    "{\n",
    "    var kbar_body = 100 * (ScannersChangePercentRank[i].close - ScannersChangePercentRank[i].open) / ScannersChangePercentRank[i].open;\n",
    "    //漲幅排行肯定紅K，感覺不必再看C-O的符號 與 chg/O\n",
    "    Console.WriteLine( string.Join(\"\\t\",\n",
    "                       ScannersChangePercentRank[i].name,\n",
    "                       ScannersChangePercentRank[i].code,\n",
    "                       Math.Round(kbar_body, 2).ToString().PadLeft(5).PadLeft(1),\n",
    "                       (ScannersChangePercentRank[i].total_amount / 100_000_000).ToString().PadLeft(3)\n",
    "                       ));\n",
    "}\n",
    "\n",
    "\n",
    "var abc = ScannersAmountRank.Concat(ScannersChangePercentRank);  // ,☛ System.Linq.Enumerable+Concat2Iterator<System.Object>\n",
    "foreach(var i in abc)\n",
    "{\n",
    "    Console.WriteLine( string.Join(\"\\t\",\n",
    "                       i.name, i.code\n",
    "                       ));\n",
    "}"
   ]
  }
 ],
 "metadata": {
  "kernelspec": {
   "display_name": ".NET (C#)",
   "language": "C#",
   "name": ".net-csharp"
  },
  "language_info": {
   "name": "polyglot-notebook"
  },
  "polyglot_notebook": {
   "kernelInfo": {
    "defaultKernelName": "csharp",
    "items": [
     {
      "aliases": [],
      "languageName": "csharp",
      "name": "csharp"
     }
    ]
   }
  }
 },
 "nbformat": 4,
 "nbformat_minor": 2
}

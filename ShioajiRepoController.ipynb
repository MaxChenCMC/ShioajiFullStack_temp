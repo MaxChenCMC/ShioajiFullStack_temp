{
 "cells": [
  {
   "cell_type": "code",
   "execution_count": null,
   "metadata": {
    "dotnet_interactive": {
     "language": "csharp"
    },
    "polyglot_notebook": {
     "kernelName": "csharp"
    }
   },
   "outputs": [],
   "source": [
    "#r \"nuget: Shioaji, 1.1.8\""
   ]
  },
  {
   "cell_type": "code",
   "execution_count": 2,
   "metadata": {
    "dotnet_interactive": {
     "language": "csharp"
    },
    "polyglot_notebook": {
     "kernelName": "csharp"
    }
   },
   "outputs": [
    {
     "name": "stdout",
     "output_type": "stream",
     "text": [
      "Connecting as shioaji@sinopac on 203.66.91.161:80...\r\n"
     ]
    }
   ],
   "source": [
    "using System.IO;\n",
    "using System.Text.Json;\n",
    "using Sinopac.Shioaji;\n",
    "using System.Linq;\n",
    "\n",
    "Shioaji _api = new Shioaji();\n",
    "// string jsonString = File.ReadAllText(\"Sinopac.json\");\n",
    "// JsonElement root = JsonDocument.Parse(jsonString).RootElement;\n",
    "// _api.Login(root.GetProperty(\"API_Key\").GetString(), root.GetProperty(\"Secret_Key\").GetString());\n",
    "// _api.ca_activate(@\"Sinopac.pfx\", root.GetProperty(\"ca_passwd\").GetString(), root.GetProperty(\"person_id\").GetString());\n",
    "\n",
    "_api.Login(\"\", \"\");"
   ]
  },
  {
   "cell_type": "code",
   "execution_count": null,
   "metadata": {},
   "outputs": [],
   "source": [
    "var src = _api.ListProfitLossSummary(DateTime.Now.AddDays(-14).ToString(\"yyyy-MM-dd\"), DateTime.Now.ToString(\"yyyy-MM-dd\"), _api.FutureAccount).profitloss_summary;\n",
    "\n",
    "Dictionary<string, List<object>> retDict = new Dictionary<string, List<object>>();\n",
    "foreach (var i in src)\n",
    "{\n",
    "    List<object> _retDict = new List<object>();\n",
    "    _retDict.Add(\"_\" + i.code.Substring(3, 7).PadLeft(10));\n",
    "    _retDict.Add(i.direction.PadRight(10)+'_');\n",
    "    _retDict.Add(i.quantity);\n",
    "    _retDict.Add(i.entry_price);\n",
    "    _retDict.Add(i.cover_price);\n",
    "    _retDict.Add(i.pnl);\n",
    "    retDict.Add(i.code, _retDict);\n",
    "}\n",
    "retDict.Display();\n",
    "src"
   ]
  },
  {
   "cell_type": "code",
   "execution_count": null,
   "metadata": {
    "dotnet_interactive": {
     "language": "csharp"
    },
    "polyglot_notebook": {
     "kernelName": "csharp"
    }
   },
   "outputs": [],
   "source": [
    "//        _api.ListPositionDetail(_api.FutureAccount)\n",
    "var src = _api.ListPositions(_api.FutureAccount);\n",
    "Dictionary<string, List<object>> retDict = new Dictionary<string, List<object>>();\n",
    "foreach (var i in src)\n",
    "{\n",
    "    List<object> _retDict = new List<object>();\n",
    "    _retDict.Add(i.code.Substring(3, 7));\n",
    "    _retDict.Add(i.direction);\n",
    "    _retDict.Add(i.quantity);\n",
    "    _retDict.Add(i.price);\n",
    "    _retDict.Add(i.last_price);\n",
    "    _retDict.Add(i.pnl);\n",
    "    retDict.Add(i.code, _retDict);\n",
    "}\n",
    "retDict.Display();\n",
    "src"
   ]
  },
  {
   "cell_type": "code",
   "execution_count": 58,
   "metadata": {
    "dotnet_interactive": {
     "language": "csharp"
    },
    "polyglot_notebook": {
     "kernelName": "csharp"
    }
   },
   "outputs": [
    {
     "name": "stdout",
     "output_type": "stream",
     "text": [
      "Response Code: 0 | Event code: 16 | Info: TIC/v1/FOP/*/TFE/TXFA4 | Event: SubscriptionOk\r\n"
     ]
    }
   ],
   "source": [
    "// _api.Subscribe(_api.Contracts.Stocks[\"TSE\"][\"2330\"], QuoteType.tick);\n",
    "\n",
    "_api.Subscribe(\n",
    "    contract:_api.Contracts.Futures[\"TXF\"][\"TXFR1\"], \n",
    "    quoteType:QuoteType.tick,\n",
    "    version:QuoteVersion.v1\n",
    ");\n",
    "\n",
    "\n",
    "List<Dictionary<string, object>> combinedList = new List<Dictionary<string, object>>();\n",
    "private void myQuoteCB_v1(Exchange exchange, dynamic tick)\n",
    "{\n",
    "    Dictionary<string, object> dict = new Dictionary<string, object>();\n",
    "    dict.Add(tick.GetType().Name, tick);\n",
    "    combinedList.Add(dict);\n",
    "}\n",
    "\n",
    "_api.SetQuoteCallback_v1(myQuoteCB_v1);"
   ]
  },
  {
   "cell_type": "code",
   "execution_count": null,
   "metadata": {
    "dotnet_interactive": {
     "language": "csharp"
    },
    "polyglot_notebook": {
     "kernelName": "csharp"
    }
   },
   "outputs": [],
   "source": [
    "var _contract = _api.Contracts.Futures[\"MXF\"][\"MXF202308\"];    \n",
    "var _futOptOrder = new FutOptOrder()\n",
    "{\n",
    "    action = \"Sell\",\n",
    "    price = 16365,\n",
    "    quantity = 1, price_type = \"LMT\", order_type = \"ROD\"//, octype = OCType.DayTrade\n",
    "};\n",
    "var _trade = _api.PlaceOrder(_contract, _futOptOrder);"
   ]
  },
  {
   "cell_type": "code",
   "execution_count": null,
   "metadata": {
    "dotnet_interactive": {
     "language": "csharp"
    },
    "polyglot_notebook": {
     "kernelName": "csharp"
    }
   },
   "outputs": [],
   "source": [
    "// var StopTime = DateTime.Now.AddMinutes(0.5);\n",
    "var StopTime = new DateTime(2023,8,3,5,0,0);\n",
    "var positions = _api.ListPositions(_api.FutureAccount);\n",
    "// while (true) \n",
    "while (!string.IsNullOrEmpty(positions[0].code)) \n",
    "{\n",
    "    Decimal _price = 999;  // 這裡Decimal 下面再 Convert.ToDouble(_price) 是可下單的；試別種\n",
    "    \n",
    "\n",
    "    if (positions[0].pnl >= 50 )\n",
    "    {\n",
    "        // ===========行情價=============\n",
    "        _price = positions[0].last_price + 1;\n",
    "    }\n",
    "    else if (positions[0].pnl < -10000)\n",
    "    {\n",
    "        // =========成本價==========\n",
    "        _price = positions[0].price;\n",
    "    }\n",
    "\n",
    "\n",
    "    if (_price != 999)\n",
    "    {\n",
    "        var sym1 =  _api.ListPositions(account:_api.FutureAccount)[0].code.ToString().Substring(0,3);  // TX2\n",
    "        var sym2 =  _api.ListPositions(account:_api.FutureAccount)[0].code.ToString().Substring(3,5);  // 16850\n",
    "        // var sym3 = (P ? C : P)  // 畢竟下面\"P\"目前寫死\n",
    "        var _contract = _api.Contracts.Options[sym1][sym1 + \"202308\" + sym2 + \"C\"];                    // opt_code[\"TX220230816850C\"];\n",
    "        var _futOptOrder = new FutOptOrder()\n",
    "        {\n",
    "            action = \"Sell\",  // 只會把買權平倉，應該不必考慮先賣後買 action = (positions[0].direction == \"Buy\") ? \"Sell\" : positions[0].direction,\n",
    "            price = Convert.ToDouble(_price),\n",
    "            quantity = 1, price_type = \"LMT\", order_type = \"ROD\", octype = \"Cover\"\n",
    "        };\n",
    "        var _trade = _api.PlaceOrder(_contract, _futOptOrder);\n",
    "        break;\n",
    "    }\n",
    "    else if (DateTime.Now >= StopTime)\n",
    "    {\n",
    "        break;\n",
    "    }\n",
    "    else\n",
    "    {\n",
    "        Thread.Sleep(10_000);\n",
    "    }\n",
    "}"
   ]
  },
  {
   "cell_type": "code",
   "execution_count": null,
   "metadata": {
    "dotnet_interactive": {
     "language": "csharp"
    },
    "polyglot_notebook": {
     "kernelName": "csharp"
    }
   },
   "outputs": [],
   "source": [
    "/*\n",
    "小單平倉每X秒移價\n",
    "*/\n",
    "var StopTime = DateTime.Now.AddMinutes(0.5);   // var StopTime = new DateTime(2023,7,27,5,0,0);\n",
    "while (true) \n",
    "{\n",
    "    var positions = _api.ListPositions(account:_api.FutureAccount);\n",
    "    Decimal _price = 0;  // 這裡Decimal 下面再 Convert.ToDouble(_price) 是可下單的；試別種\n",
    "    if (positions[0].code == \"MXF\" && positions[0].pnl > 100)\n",
    "    {\n",
    "        // ===========行情價=============\n",
    "        _price = positions[0].last_price;\n",
    "    }\n",
    "    else if (positions[0].code == \"MXF\" && positions[0].pnl < -1000)\n",
    "    {\n",
    "        // =========成本價==========\n",
    "        _price = positions[0].price;\n",
    "    }\n",
    "    var _contract = _api.Contracts.Futures[\"MXF\"][\"MXF202308\"];    \n",
    "    var _futOptOrder = new FutOptOrder()\n",
    "    {\n",
    "        action = (positions[0].direction == \"Buy\") ? \"Sell\" : positions[0].direction,\n",
    "        price = Convert.ToDouble(_price),\n",
    "        quantity = 1, price_type = \"LMT\", order_type = \"ROD\", octype = OCType.DayTrade\n",
    "    };\n",
    "    var _trade = _api.PlaceOrder(_contract, _futOptOrder);\n",
    "\n",
    "\n",
    "    Thread.Sleep(10_000);\n",
    "    if (DateTime.Now >= StopTime) // (DateTime.Now >= DateTime(2023,7,15,5,0,0))\n",
    "    {\n",
    "        break;\n",
    "    }\n",
    "}"
   ]
  },
  {
   "cell_type": "code",
   "execution_count": null,
   "metadata": {
    "dotnet_interactive": {
     "language": "csharp"
    },
    "polyglot_notebook": {
     "kernelName": "csharp"
    }
   },
   "outputs": [],
   "source": [
    "// var StopTime = DateTime.Now.AddMinutes(0.5);\n",
    "var StopTime = new DateTime(2023,8,3,5,0,0);\n",
    "var positions = _api.ListPositions(_api.FutureAccount);\n",
    "// while (true) \n",
    "while (!string.IsNullOrEmpty(positions[0].code)) \n",
    "{\n",
    "    Decimal _price = 999;  // 這裡Decimal 下面再 Convert.ToDouble(_price) 是可下單的；試別種\n",
    "    \n",
    "\n",
    "    if (positions[0].pnl >= 50 )\n",
    "    {\n",
    "        // ===========行情價=============\n",
    "        _price = positions[0].last_price + 1;\n",
    "    }\n",
    "    else if (positions[0].pnl < -10000)\n",
    "    {\n",
    "        // =========成本價==========\n",
    "        _price = positions[0].price;\n",
    "    }\n",
    "\n",
    "\n",
    "    if (_price != 999)\n",
    "    {\n",
    "        var sym1 =  _api.ListPositions(account:_api.FutureAccount)[0].code.ToString().Substring(0,3);  // TX2\n",
    "        var sym2 =  _api.ListPositions(account:_api.FutureAccount)[0].code.ToString().Substring(3,5);  // 16850\n",
    "        // var sym3 = (P ? C : P)  // 畢竟下面\"P\"目前寫死\n",
    "        var _contract = _api.Contracts.Options[sym1][sym1 + \"202308\" + sym2 + \"C\"];                    // _api.Contracts.Options[\"TX2\"][\"TX220230816850C\"];\n",
    "        var _futOptOrder = new FutOptOrder()\n",
    "        {\n",
    "            action = \"Sell\",  // 只會把買權平倉，應該不必考慮先賣後買 action = (positions[0].direction == \"Buy\") ? \"Sell\" : positions[0].direction,\n",
    "            price = Convert.ToDouble(_price),\n",
    "            quantity = 1, price_type = \"LMT\", order_type = \"ROD\", octype = \"Cover\"\n",
    "        };\n",
    "        var _trade = _api.PlaceOrder(_contract, _futOptOrder);\n",
    "        break;\n",
    "    }\n",
    "    else if (DateTime.Now >= StopTime)\n",
    "    {\n",
    "        break;\n",
    "    }\n",
    "    else\n",
    "    {\n",
    "        Thread.Sleep(10_000);\n",
    "    }\n",
    "}"
   ]
  },
  {
   "cell_type": "code",
   "execution_count": null,
   "metadata": {
    "dotnet_interactive": {
     "language": "csharp"
    },
    "polyglot_notebook": {
     "kernelName": "csharp"
    }
   },
   "outputs": [],
   "source": [
    "/*\n",
    "小單平倉每X秒移價\n",
    "*/\n",
    "var StopTime = DateTime.Now.AddMinutes(0.5);   // var StopTime = new DateTime(2023,7,27,5,0,0);\n",
    "while (true) \n",
    "{\n",
    "    var positions = _api.ListPositions(account:_api.FutureAccount);\n",
    "    Decimal _price = 0;  // 這裡Decimal 下面再 Convert.ToDouble(_price) 是可下單的；試別種\n",
    "    if (positions[0].code == \"MXF\" && positions[0].pnl > 100)\n",
    "    {\n",
    "        // ===========行情價=============\n",
    "        _price = positions[0].last_price;\n",
    "    }\n",
    "    else if (positions[0].code == \"MXF\" && positions[0].pnl < -1000)\n",
    "    {\n",
    "        // =========成本價==========\n",
    "        _price = positions[0].price;\n",
    "    }\n",
    "    var _contract = _api.Contracts.Futures[\"MXF\"][\"MXF202308\"];    \n",
    "    var _futOptOrder = new FutOptOrder()\n",
    "    {\n",
    "        action = (positions[0].direction == \"Buy\") ? \"Sell\" : positions[0].direction,\n",
    "        price = Convert.ToDouble(_price),\n",
    "        quantity = 1, price_type = \"LMT\", order_type = \"ROD\", octype = OCType.DayTrade\n",
    "    };\n",
    "    var _trade = _api.PlaceOrder(_contract, _futOptOrder);\n",
    "\n",
    "\n",
    "    Thread.Sleep(10_000);\n",
    "    if (DateTime.Now >= StopTime) // (DateTime.Now >= DateTime(2023,7,15,5,0,0))\n",
    "    {\n",
    "        break;\n",
    "    }\n",
    "}"
   ]
  }
 ],
 "metadata": {
  "kernelspec": {
   "display_name": ".NET (C#)",
   "language": "C#",
   "name": ".net-csharp"
  },
  "language_info": {
   "name": "polyglot-notebook"
  },
  "polyglot_notebook": {
   "kernelInfo": {
    "defaultKernelName": "csharp",
    "items": [
     {
      "aliases": [],
      "languageName": "csharp",
      "name": "csharp"
     }
    ]
   }
  }
 },
 "nbformat": 4,
 "nbformat_minor": 2
}

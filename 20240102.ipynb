{
 "cells": [
  {
   "cell_type": "code",
   "execution_count": null,
   "metadata": {
    "dotnet_interactive": {
     "language": "csharp"
    },
    "polyglot_notebook": {
     "kernelName": "csharp"
    }
   },
   "outputs": [],
   "source": [
    "using System;\n",
    "using System.Collections.Generic;\n",
    "using System.IO;\n",
    "using System.Text.Json;\n",
    "using Sinopac.Shioaji;\n",
    "\n",
    "\n",
    "class SJCls\n",
    "{\n",
    "        private static Shioaji _api = new Shioaji();\n",
    "        public void Login()\n",
    "        {\n",
    "            string jsonString = File.ReadAllText(\"Sinopac.json\");\n",
    "            JsonElement root = JsonDocument.Parse(jsonString).RootElement;\n",
    "            _api.Login(root.GetProperty(\"API_Key\").GetString(), root.GetProperty(\"Secret_Key\").GetString());\n",
    "            _api.ca_activate(\"Sinopac.pfx\", root.GetProperty(\"ca_passwd\").GetString(), root.GetProperty(\"person_id\").GetString());\n",
    "        }\n",
    "\n",
    "        public dynamic TbarTseTxfOtc()\n",
    "        {\n",
    "            SJList res = _api.Snapshots(new List<IContract>() {\n",
    "            _api.Contracts.Futures[\"TXF\"][\"TXFR1\"],\n",
    "            _api.Contracts.Indexs[\"TSE\"][\"001\"],\n",
    "            _api.Contracts.Indexs[\"OTC\"][\"101\"]\n",
    "            });\n",
    "\n",
    "            List<Dictionary<string, List<object>>> combinedList = new List<Dictionary<string, List<object>>>();\n",
    "            for (int i = 0; i < res.ToArray().Length; i++)\n",
    "            {\n",
    "                Dictionary<string, List<object>> dict = new Dictionary<string, List<object>>();\n",
    "                List<object> values = new List<object>();\n",
    "                values.Add(res[0].close);\n",
    "                values.Add(res[0].change_price);\n",
    "                values.Add(res[0].change_rate);\n",
    "                dict.Add(res[i].code, values);\n",
    "                combinedList.Add(dict);\n",
    "            }\n",
    "            return combinedList;\n",
    "        }\n",
    "\n",
    "        public SJList AmountRank(int num)\n",
    "        {\n",
    "            SJList res = _api.Scanners(date: \"2023-12-29\", scannerType: ScannerType.AmountRank, count: num);\n",
    "            return res;\n",
    "        }\n",
    "\n",
    "        public SJList ChangePercentRank(int num)\n",
    "        {\n",
    "            SJList res = _api.Scanners(date: \"2023-12-29\", scannerType: ScannerType.ChangePercentRank, count: num);\n",
    "            return res;\n",
    "        }\n",
    "\n",
    "        public object TicksLastCount(int num)\n",
    "        {\n",
    "            var TicksQuery = _api.Ticks(_api.Contracts.Futures[\"TXF\"][\"TXFR1\"], \"2023-12-29\", TicksQueryType.LastCount, last_cnt: num);\n",
    "\n",
    "            List<DateTimeOffset> generalTimes = new List<DateTimeOffset>();\n",
    "            foreach (long timestamp in TicksQuery.ts)\n",
    "            {\n",
    "                DateTime dateTime = DateTimeOffset.FromUnixTimeMilliseconds(timestamp / 1000000).UtcDateTime;\n",
    "                generalTimes.Add(new DateTimeOffset(dateTime, TimeSpan.Zero));\n",
    "            }\n",
    "            List<string> tsFormat = new List<string>();\n",
    "            foreach (var i in generalTimes) tsFormat.Add(i.ToString(\"HH:mm:ss\"));\n",
    "\n",
    "            List<Dictionary<string, object>> combinedList = new List<Dictionary<string, object>>();\n",
    "            for (int i = 0; i < tsFormat.ToArray().Length; i++)\n",
    "            {\n",
    "                Dictionary<string, object> dict = new Dictionary<string, object>();\n",
    "                dict.Add(tsFormat[i], TicksQuery.close[i]);\n",
    "                combinedList.Add(dict);\n",
    "            }\n",
    "            return combinedList;\n",
    "        }\n",
    "\n",
    "        public List<object> OpPremium(string OptionWeek, string YearMonth, string upper, string lower)\n",
    "        {\n",
    "            // 到時用成交價+50再除100無條件捨報後，再乘100  相對地減100\n",
    "            var res = _api.Snapshots(new List<IContract>() {\n",
    "                _api.Contracts.Options[OptionWeek][OptionWeek + YearMonth + lower + \"C\"],\n",
    "                _api.Contracts.Options[OptionWeek][OptionWeek + YearMonth + upper + \"C\"],\n",
    "                _api.Contracts.Options[OptionWeek][OptionWeek + YearMonth + upper + \"P\"],\n",
    "                _api.Contracts.Options[OptionWeek][OptionWeek + YearMonth + lower + \"P\"],\n",
    "                });\n",
    "\n",
    "            List<object> op = new List<object>();\n",
    "            op.Add(res[0].code);\n",
    "            op.Add(res[0].sell_price);\n",
    "            op.Add(res[1].code);\n",
    "            op.Add(res[1].buy_price);\n",
    "            op.Add(res[2].code);\n",
    "            op.Add(res[2].sell_price);\n",
    "            op.Add(res[3].code);\n",
    "            op.Add(res[3].buy_price);\n",
    "\n",
    "            return new List<object> {op[1], op[3], op[5], op[7], \n",
    "                $\"BCSC:{(double)op[1]-(double)op[3]}、BPSP: {(double)op[5]-(double)op[7]}\" };\n",
    "        }\n",
    "\n",
    "\n",
    "        public SJList BlueChips()\n",
    "        {\n",
    "            List<string> tw50 = new List<string>(){\n",
    "                \"2330\", \"2454\", \"2317\", \"2412\", \"2382\", \"2881\", \"2308\", \"6505\", \"2882\", \"2303\",\n",
    "                \"3711\", \"2886\", \"2891\", \"1303\", \"1301\", \"2002\", \"1216\", \"2884\", \"2207\", \"5880\",\n",
    "                \"3008\", \"2892\", \"3045\", \"1326\", \"2357\", \"2885\", \"6669\", \"2395\", \"3034\", \"5871\",\n",
    "                \"2880\", \"2603\", \"2345\", \"3231\", \"4904\", \"2912\", \"2301\", \"3037\", \"1101\", \"2327\",\n",
    "                \"2890\", \"2379\", \"2408\", \"3661\", \"3443\", \"4938\", \"5876\", \"2887\", \"2883\", \"1590\"\n",
    "            };\n",
    "            var tw50_otc10 = new List<IContract>();\n",
    "            foreach (var i in tw50)\n",
    "            {\n",
    "                tw50_otc10.Add(_api.Contracts.Stocks[\"TSE\"][i]);\n",
    "            }\n",
    "            foreach (var i in new List<string> { \"6488\", \"8069\", \"3529\", \"5347\", \"5274\", \"6446\", \"5483\", \"8299\", \"3293\", \"4966\" })\n",
    "            {\n",
    "                tw50_otc10.Add(_api.Contracts.Stocks[\"OTC\"][i]);\n",
    "            }\n",
    "            return _api.Snapshots(tw50_otc10);\n",
    "        }\n",
    "\n",
    "\n",
    "        public object Kline(int dayDiff)\n",
    "        {\n",
    "            Kbars res = _api.Kbars(_api.Contracts.Futures[\"TXF\"][\"TXFR1\"],\n",
    "                // DateTime.Now.AddDays(-dayDiff).ToString(\"yyyy-MM-dd\"),\n",
    "                // DateTime.Now.ToString(\"yyyy-MM-dd\")\n",
    "                \"2023-12-28\", \"2023-12-29\"\n",
    "                );\n",
    "\n",
    "            List<DateTimeOffset> generalTimes = new List<DateTimeOffset>();\n",
    "            foreach (long timestamp in res.ts)\n",
    "            {\n",
    "                DateTime dateTime = DateTimeOffset.FromUnixTimeMilliseconds(timestamp / 1000000).UtcDateTime;\n",
    "                generalTimes.Add(new DateTimeOffset(dateTime, TimeSpan.Zero));\n",
    "            }\n",
    "            List<string> tsFormat = new List<string>();\n",
    "            foreach (var i in generalTimes) tsFormat.Add(i.ToString(\"HH:mm:ss\"));\n",
    "\n",
    "            List<Dictionary<string, object>> combinedList = new List<Dictionary<string, object>>();\n",
    "            for (int i = 0; i < tsFormat.ToArray().Length; i++)\n",
    "            {\n",
    "                Dictionary<string, object> dict = new Dictionary<string, object>();\n",
    "                dict.Add(tsFormat[i], res.Close[i]);\n",
    "                combinedList.Add(dict);\n",
    "            }\n",
    "            return res;\n",
    "        }\n",
    "\n",
    "        public Margin Margin()\n",
    "        {\n",
    "            var res = _api.Margin();\n",
    "            return res;\n",
    "        }   \n",
    "\n",
    "\n",
    "    // public SJList Focus()\n",
    "    // {\n",
    "    //     List<string> todayFocus = [\"2353\",\"3231\",\"2344\",\"2324\",\"2356\",\"5521\",\"2352\",\"2382\",\"3481\"];\n",
    "    //     List<string> yesterdayFocus = [\"3706\",\"2303\",\"2515\",\"3006\",\"2609\",\"2486\",\"1514\",\"2409\",\"6125\"];\n",
    "    //     List<string> daytradeFocus = [\"2382\",\"3231\",\"1519\",\"2353\",\"3017\",\"3661\",\"3006\",\"2356\",\"2376\"];\n",
    "\n",
    "    //     List<IContract> totalFocus = new List<IContract>();\n",
    "    //     // 九檔全列\n",
    "    //     foreach (var i in todayFocus){\n",
    "    //         totalFocus.Add(_api.Contracts.Stocks[\"TSE\"][i]);\n",
    "    //     }\n",
    "    //     // 希望重複的會忽略，9+9<=18\n",
    "    //     foreach (var i in yesterdayFocus){\n",
    "    //         totalFocus.Add(_api.Contracts.Stocks[\"TSE\"][i]);\n",
    "    //     }\n",
    "    //     // 反向取最後九檔，但有可能當沖上榜的跟熱門股重複\n",
    "    //     foreach (var i in daytradeFocus){\n",
    "    //         totalFocus.Add(_api.Contracts.Stocks[\"TSE\"][i]);\n",
    "    //     }\n",
    "    //     var res = _api.Snapshots(totalFocus);\n",
    "    //     return res;\n",
    "    // }    \n",
    "}\n",
    "\n",
    "\n",
    "SJCls SJ = new SJCls();\n",
    "SJ.Login();\n",
    "\n",
    "// Console.WriteLine(SJ.AmountRank(10));\n",
    "// Console.WriteLine(SJ.BlueChips());\n",
    "// Console.WriteLine(SJ.ChangePercentRank(10));\n",
    "// Console.WriteLine(SJ.Kline(1));\n",
    "// Console.WriteLine(SJ.Margin());\n",
    "// Console.WriteLine(SJ.OpPremium(\"TX1\",\"202401\",\"17900\",\"17800\"));\n",
    "// Console.WriteLine(SJ.TbarTseTxfOtc());\n",
    "// Console.WriteLine(SJ.TicksLastCount(30));"
   ]
  },
  {
   "cell_type": "code",
   "execution_count": 119,
   "metadata": {
    "dotnet_interactive": {
     "language": "csharp"
    },
    "polyglot_notebook": {
     "kernelName": "csharp"
    }
   },
   "outputs": [
    {
     "data": {
      "text/html": [
       "<div class=\"dni-plaintext\"><pre>&lt;null&gt;</pre></div><style>\r\n",
       ".dni-code-hint {\r\n",
       "    font-style: italic;\r\n",
       "    overflow: hidden;\r\n",
       "    white-space: nowrap;\r\n",
       "}\r\n",
       ".dni-treeview {\r\n",
       "    white-space: nowrap;\r\n",
       "}\r\n",
       ".dni-treeview td {\r\n",
       "    vertical-align: top;\r\n",
       "    text-align: start;\r\n",
       "}\r\n",
       "details.dni-treeview {\r\n",
       "    padding-left: 1em;\r\n",
       "}\r\n",
       "table td {\r\n",
       "    text-align: start;\r\n",
       "}\r\n",
       "table tr { \r\n",
       "    vertical-align: top; \r\n",
       "    margin: 0em 0px;\r\n",
       "}\r\n",
       "table tr td pre \r\n",
       "{ \r\n",
       "    vertical-align: top !important; \r\n",
       "    margin: 0em 0px !important;\r\n",
       "} \r\n",
       "table th {\r\n",
       "    text-align: start;\r\n",
       "}\r\n",
       "</style>"
      ]
     },
     "metadata": {},
     "output_type": "display_data"
    }
   ],
   "source": [
    "// _api.Settlements()\n",
    "// _api.AccountBalance()\n",
    "// _api.Ticks(_api.Contracts.Stocks[\"TSE\"][\"2330\"], DateTime.Now.ToString(\"yyyy-MM-dd\"))\n",
    "\n",
    "// _api.ListPositions(_api.FutureAccount)\n",
    "// _api.Ticks(_api.Contracts.Futures[\"TXF\"][\"TXFR1\"], DateTime.Now.ToString(\"yyyy-MM-dd\"))\n",
    "// _api.Ticks(_api.Contracts.Futures[\"TXF\"][\"TXFR1\"], DateTime.Now.ToString(\"yyyy-MM-dd\"), TicksQueryType.RangeTime, time_start:\"22:40:00\",time_end:\"22:50:00\")\n",
    "// _api.Ticks(_api.Contracts.Futures[\"TXF\"][\"TXFR1\"], DateTime.Now.ToString(\"yyyy-MM-dd\"), TicksQueryType.LastCount, last_cnt:10)\n",
    "// _api.Kbars(_api.Contracts.Futures[\"TXF\"][\"TXFR1\"],DateTime.Now.AddDays(-1).ToString(\"yyyy-MM-dd\"), DateTime.Now.ToString(\"yyyy-MM-dd\") )\n",
    "// _api.Contracts.Options[\"TX1\"][\"TX120240117950C\"]\n",
    "// _api.ListProfitLossSummary(begin_date: \"2023-10-01\",end_date: \"2023-12-25\")\n",
    "// _api.ListPositions(_api.FutureAccount)\n",
    "// _api.ListPositionDetail()"
   ]
  },
  {
   "cell_type": "code",
   "execution_count": 7,
   "metadata": {
    "dotnet_interactive": {
     "language": "csharp"
    },
    "polyglot_notebook": {
     "kernelName": "csharp"
    }
   },
   "outputs": [
    {
     "data": {
      "text/html": [
       "<div><div></div><div></div><div><strong>Installed Packages</strong><ul><li><span>Shioaji, 1.1.8</span></li></ul></div></div>"
      ]
     },
     "metadata": {},
     "output_type": "display_data"
    }
   ],
   "source": [
    "// using System;\n",
    "// using System.Collections.Generic;\n",
    "// #r \"nuget: Microsoft.Data.Analysis, 0.20.0-preview.22356.1\"\n",
    "// using System.Data;\n",
    "// using System.Linq;\n",
    "// using System.Text;\n",
    "// using System.Collections;\n",
    "// using System.Threading;\n",
    "// using System.Threading.Tasks;\n",
    "// using Microsoft.Data.Analysis;\n",
    "\n",
    "#r \"nuget: Shioaji, 1.1.8\"\n",
    "// _api.Logout()"
   ]
  },
  {
   "cell_type": "code",
   "execution_count": 8,
   "metadata": {
    "dotnet_interactive": {
     "language": "csharp"
    },
    "polyglot_notebook": {
     "kernelName": "csharp"
    }
   },
   "outputs": [
    {
     "name": "stdout",
     "output_type": "stream",
     "text": [
      "Connecting as shioaji@sinopac on 203.66.91.161:80...\n",
      "caIsActivated: True\n"
     ]
    }
   ],
   "source": [
    "using System.IO;\n",
    "using System.Text.Json;\n",
    "using Sinopac.Shioaji;\n",
    "\n",
    "Shioaji _api = new Shioaji();\n",
    "string jsonString = File.ReadAllText(\"Sinopac.json\");\n",
    "JsonElement root = JsonDocument.Parse(jsonString).RootElement;\n",
    "_api.Login(root.GetProperty(\"API_Key\").GetString(), root.GetProperty(\"Secret_Key\").GetString());\n",
    "_api.ca_activate(@\"Sinopac.pfx\", root.GetProperty(\"ca_passwd\").GetString(), root.GetProperty(\"person_id\").GetString());"
   ]
  },
  {
   "cell_type": "code",
   "execution_count": 22,
   "metadata": {
    "dotnet_interactive": {
     "language": "csharp"
    },
    "polyglot_notebook": {
     "kernelName": "csharp"
    }
   },
   "outputs": [
    {
     "data": {
      "text/html": [
       "<details open=\"open\" class=\"dni-treeview\"><summary><span class=\"dni-code-hint\"><code>[5521, System.Collections.Generic.Dictionary`2[System.String,System.Object]]</code></span></summary><div><table><thead><tr></tr></thead><tbody><tr><td>Key</td><td><div class=\"dni-plaintext\"><pre>5521</pre></div></td></tr><tr><td>Value</td><td><table><thead><tr><th><i>key</i></th><th><i>type</i></th><th>value</th></tr></thead><tbody><tr><td><div class=\"dni-plaintext\"><pre>Name</pre></div></td><td><span><a href=\"https://docs.microsoft.com/dotnet/api/system.string?view=net-7.0\">System.String</a></span></td><td><div class=\"dni-plaintext\"><pre>工信</pre></div></td></tr><tr><td><div class=\"dni-plaintext\"><pre>ClosingPrice</pre></div></td><td><span><a href=\"https://docs.microsoft.com/dotnet/api/system.double?view=net-7.0\">System.Double</a></span></td><td><div class=\"dni-plaintext\"><pre>14.7</pre></div></td></tr><tr><td><div class=\"dni-plaintext\"><pre>Change</pre></div></td><td><span><a href=\"https://docs.microsoft.com/dotnet/api/system.string?view=net-7.0\">System.String</a></span></td><td><div class=\"dni-plaintext\"><pre>1.30</pre></div></td></tr></tbody></table></td></tr></tbody></table></div></details><style>\r\n",
       ".dni-code-hint {\r\n",
       "    font-style: italic;\r\n",
       "    overflow: hidden;\r\n",
       "    white-space: nowrap;\r\n",
       "}\r\n",
       ".dni-treeview {\r\n",
       "    white-space: nowrap;\r\n",
       "}\r\n",
       ".dni-treeview td {\r\n",
       "    vertical-align: top;\r\n",
       "    text-align: start;\r\n",
       "}\r\n",
       "details.dni-treeview {\r\n",
       "    padding-left: 1em;\r\n",
       "}\r\n",
       "table td {\r\n",
       "    text-align: start;\r\n",
       "}\r\n",
       "table tr { \r\n",
       "    vertical-align: top; \r\n",
       "    margin: 0em 0px;\r\n",
       "}\r\n",
       "table tr td pre \r\n",
       "{ \r\n",
       "    vertical-align: top !important; \r\n",
       "    margin: 0em 0px !important;\r\n",
       "} \r\n",
       "table th {\r\n",
       "    text-align: start;\r\n",
       "}\r\n",
       "</style>"
      ]
     },
     "metadata": {},
     "output_type": "display_data"
    }
   ],
   "source": [
    "// using Microsoft.AspNetCore.Mvc;\n",
    "using Newtonsoft.Json;\n",
    "using System;\n",
    "using System.Collections.Generic;\n",
    "using System.Net.Http;\n",
    "using System.Threading.Tasks;\n",
    "\n",
    "var client = new HttpClient();\n",
    "var response = await client.GetAsync(\"https://openapi.twse.com.tw/v1/\" + \n",
    "\"exchangeReport/MI_INDEX20\" // 集中市場每日成交量前二十名證券(會含雜魚ETF)\n",
    "\n",
    ");\n",
    "var json = await response.Content.ReadAsStringAsync();\n",
    "List<dynamic> src = JsonConvert.DeserializeObject<List<dynamic>>(json);\n",
    "\n",
    "Dictionary<string, Dictionary<string, object>> src_new = new Dictionary<string, Dictionary<string, object>>();\n",
    "foreach (var item in src)\n",
    "{\n",
    "    src_new[item[\"Code\"].ToString()] = new Dictionary<string, object>\n",
    "    {\n",
    "        { \"Name\", item[\"Name\"].ToString()},\n",
    "        { \"ClosingPrice\", Convert.ToDouble(item[\"ClosingPrice\"])},\n",
    "        { \"Change\", Convert.ToString(item[\"Change\"])} // 平盤好像是空值 ☛ \" \"，故不能用double\n",
    "    };\n",
    "}\n",
    "src_new.Where(a=>a.Key.Length == 4)\n",
    "// .Take(3) \n",
    ".ElementAt(5)"
   ]
  },
  {
   "cell_type": "code",
   "execution_count": 21,
   "metadata": {
    "dotnet_interactive": {
     "language": "csharp"
    },
    "polyglot_notebook": {
     "kernelName": "csharp"
    }
   },
   "outputs": [
    {
     "name": "stdout",
     "output_type": "stream",
     "text": [
      "{\r\n",
      "  \"Date\": \"1121229\",\r\n",
      "  \"TradeVolume\": \"5813967380\",\r\n",
      "  \"TradeValue\": \"272169082532\",\r\n",
      "  \"Transaction\": \"1971190\",\r\n",
      "  \"TAIEX\": \"17930.81\",\r\n",
      "  \"Change\": \"20.44\"\r\n",
      "}\r\n"
     ]
    }
   ],
   "source": [
    "var client = new HttpClient();\n",
    "var response = await client.GetAsync(\"https://openapi.twse.com.tw/v1/\" + \n",
    "\"exchangeReport/FMTQIK\" //集中市場每日市場成交資訊\n",
    ");\n",
    "var json = await response.Content.ReadAsStringAsync();\n",
    "List<dynamic> src = JsonConvert.DeserializeObject<List<dynamic>>(json);\n",
    "\n",
    "foreach(var i in src\n",
    ".Where(x => x[\"Date\"]==\"1121229\")\n",
    "){Console.WriteLine(i);}\n",
    "\n",
    "// Dictionary<string, Dictionary<string, object>> src_new = new Dictionary<string, Dictionary<string, object>>();\n",
    "// foreach (var item in src)\n",
    "// {\n",
    "//     src_new[item[\"Date\"].ToString()] = new Dictionary<string, object>\n",
    "//     {\n",
    "//         { \"TradeVolume\", item[\"TradeVolume\"].ToString()},\n",
    "//         { \"TradeValue\", item[\"TradeValue\"].ToString()},\n",
    "//         { \"Transaction\", item[\"Transaction\"].ToString()},\n",
    "//         { \"TAIEX\", item[\"TAIEX\"].ToString()},\n",
    "//         { \"Change\", item[\"Change\"].ToString()},\n",
    "//     };\n",
    "// }\n",
    "// src_new.Last()"
   ]
  },
  {
   "cell_type": "code",
   "execution_count": 10,
   "metadata": {
    "dotnet_interactive": {
     "language": "csharp"
    },
    "polyglot_notebook": {
     "kernelName": "csharp"
    }
   },
   "outputs": [
    {
     "data": {
      "text/html": [
       "<table><thead><tr><th><i>index</i></th><th>value</th></tr></thead><tbody><tr><td>0</td><td><details class=\"dni-treeview\"><summary><span class=\"dni-code-hint\"><code>[2330, System.Collections.Generic.Dictionary`2[System.String,System.Object]]</code></span></summary><div><table><thead><tr></tr></thead><tbody><tr><td>Key</td><td><div class=\"dni-plaintext\"><pre>2330</pre></div></td></tr><tr><td>Value</td><td><table><thead><tr><th><i>key</i></th><th>value</th></tr></thead><tbody><tr><td><div class=\"dni-plaintext\"><pre>Name</pre></div></td><td><div class=\"dni-plaintext\"><pre>台積電</pre></div></td></tr><tr><td><div class=\"dni-plaintext\"><pre>TodayOpeningRefPrice</pre></div></td><td><div class=\"dni-plaintext\"><pre>593</pre></div></td></tr><tr><td><div class=\"dni-plaintext\"><pre>PreviousDayOpeningRefPrice</pre></div></td><td><div class=\"dni-plaintext\"><pre>593</pre></div></td></tr><tr><td><div class=\"dni-plaintext\"><pre>PreviousDayPrice</pre></div></td><td><div class=\"dni-plaintext\"><pre>593</pre></div></td></tr><tr><td><div class=\"dni-plaintext\"><pre>LastTradingDay</pre></div></td><td><div class=\"dni-plaintext\"><pre>1121229</pre></div></td></tr></tbody></table></td></tr></tbody></table></div></details></td></tr><tr><td>1</td><td><details class=\"dni-treeview\"><summary><span class=\"dni-code-hint\"><code>[2454, System.Collections.Generic.Dictionary`2[System.String,System.Object]]</code></span></summary><div><table><thead><tr></tr></thead><tbody><tr><td>Key</td><td><div class=\"dni-plaintext\"><pre>2454</pre></div></td></tr><tr><td>Value</td><td><table><thead><tr><th><i>key</i></th><th>value</th></tr></thead><tbody><tr><td><div class=\"dni-plaintext\"><pre>Name</pre></div></td><td><div class=\"dni-plaintext\"><pre>聯發科</pre></div></td></tr><tr><td><div class=\"dni-plaintext\"><pre>TodayOpeningRefPrice</pre></div></td><td><div class=\"dni-plaintext\"><pre>1015</pre></div></td></tr><tr><td><div class=\"dni-plaintext\"><pre>PreviousDayOpeningRefPrice</pre></div></td><td><div class=\"dni-plaintext\"><pre>1025</pre></div></td></tr><tr><td><div class=\"dni-plaintext\"><pre>PreviousDayPrice</pre></div></td><td><div class=\"dni-plaintext\"><pre>1015</pre></div></td></tr><tr><td><div class=\"dni-plaintext\"><pre>LastTradingDay</pre></div></td><td><div class=\"dni-plaintext\"><pre>1121229</pre></div></td></tr></tbody></table></td></tr></tbody></table></div></details></td></tr></tbody></table><style>\r\n",
       ".dni-code-hint {\r\n",
       "    font-style: italic;\r\n",
       "    overflow: hidden;\r\n",
       "    white-space: nowrap;\r\n",
       "}\r\n",
       ".dni-treeview {\r\n",
       "    white-space: nowrap;\r\n",
       "}\r\n",
       ".dni-treeview td {\r\n",
       "    vertical-align: top;\r\n",
       "    text-align: start;\r\n",
       "}\r\n",
       "details.dni-treeview {\r\n",
       "    padding-left: 1em;\r\n",
       "}\r\n",
       "table td {\r\n",
       "    text-align: start;\r\n",
       "}\r\n",
       "table tr { \r\n",
       "    vertical-align: top; \r\n",
       "    margin: 0em 0px;\r\n",
       "}\r\n",
       "table tr td pre \r\n",
       "{ \r\n",
       "    vertical-align: top !important; \r\n",
       "    margin: 0em 0px !important;\r\n",
       "} \r\n",
       "table th {\r\n",
       "    text-align: start;\r\n",
       "}\r\n",
       "</style>"
      ]
     },
     "metadata": {},
     "output_type": "display_data"
    }
   ],
   "source": [
    "var client = new HttpClient();\n",
    "var response = await client.GetAsync(\"https://openapi.twse.com.tw/v1/\" + \n",
    "\"exchangeReport/TWT84U\" //上市個股股價升降幅度\n",
    ");\n",
    "var json = await response.Content.ReadAsStringAsync();\n",
    "List<dynamic> src = JsonConvert.DeserializeObject<List<dynamic>>(json);\n",
    "\n",
    "// foreach(var i in\n",
    "// src.Where(x => x.Code.Length == 4)\n",
    "// src.OrderBy(x => x.PreviousDayPrice).Take(3)\n",
    "// ){Console.WriteLine(i);}\n",
    "\n",
    "Dictionary<string, Dictionary<string, object>> src_new = new Dictionary<string, Dictionary<string, object>>();\n",
    "foreach (var item in src)\n",
    "{\n",
    "    src_new[item[\"Code\"].ToString()] = new Dictionary<string, object>\n",
    "    {\n",
    "        { \"Name\", item[\"Name\"].ToString()},\n",
    "        { \"TodayOpeningRefPrice\", item[\"TodayOpeningRefPrice\"].ToString()},\n",
    "        { \"PreviousDayOpeningRefPrice\", item[\"PreviousDayOpeningRefPrice\"].ToString()},\n",
    "        { \"PreviousDayPrice\", item[\"PreviousDayPrice\"].ToString()},\n",
    "        { \"LastTradingDay\", item[\"LastTradingDay\"].ToString()},\n",
    "    };\n",
    "}\n",
    "// src_new.ElementAt(5)\n",
    "src_new.Where(x=>x.Key==\"2330\" || x.Key==\"2454\")\n",
    "\n",
    "\n",
    "// src_new.Where(x=>x.Key==\"發行量加權股價指數\")\n",
    "src_new.Take(10)"
   ]
  },
  {
   "cell_type": "code",
   "execution_count": 17,
   "metadata": {
    "dotnet_interactive": {
     "language": "csharp"
    },
    "polyglot_notebook": {
     "kernelName": "csharp"
    }
   },
   "outputs": [
    {
     "data": {
      "text/html": [
       "<table><thead><tr><th><i>index</i></th><th>value</th></tr></thead><tbody><tr><td>0</td><td><details class=\"dni-treeview\"><summary><span class=\"dni-code-hint\"><code>[發行量加權股價指數, System.Collections.Generic.Dictionary`2[System.String,System.Object]]</code></span></summary><div><table><thead><tr></tr></thead><tbody><tr><td>Key</td><td><div class=\"dni-plaintext\"><pre>發行量加權股價指數</pre></div></td></tr><tr><td>Value</td><td><table><thead><tr><th><i>key</i></th><th>value</th></tr></thead><tbody><tr><td><div class=\"dni-plaintext\"><pre>收盤指數</pre></div></td><td><div class=\"dni-plaintext\"><pre>17931</pre></div></td></tr><tr><td><div class=\"dni-plaintext\"><pre>漲跌百分比</pre></div></td><td><div class=\"dni-plaintext\"><pre>0.11</pre></div></td></tr></tbody></table></td></tr></tbody></table></div></details></td></tr><tr><td>1</td><td><details class=\"dni-treeview\"><summary><span class=\"dni-code-hint\"><code>[上櫃ESG 30指數, System.Collections.Generic.Dictionary`2[System.String,System.Object]]</code></span></summary><div><table><thead><tr></tr></thead><tbody><tr><td>Key</td><td><div class=\"dni-plaintext\"><pre>上櫃ESG 30指數</pre></div></td></tr><tr><td>Value</td><td><table><thead><tr><th><i>key</i></th><th>value</th></tr></thead><tbody><tr><td><div class=\"dni-plaintext\"><pre>收盤指數</pre></div></td><td><div class=\"dni-plaintext\"><pre>6195</pre></div></td></tr><tr><td><div class=\"dni-plaintext\"><pre>漲跌百分比</pre></div></td><td><div class=\"dni-plaintext\"><pre>-0.63</pre></div></td></tr></tbody></table></td></tr></tbody></table></div></details></td></tr></tbody></table><style>\r\n",
       ".dni-code-hint {\r\n",
       "    font-style: italic;\r\n",
       "    overflow: hidden;\r\n",
       "    white-space: nowrap;\r\n",
       "}\r\n",
       ".dni-treeview {\r\n",
       "    white-space: nowrap;\r\n",
       "}\r\n",
       ".dni-treeview td {\r\n",
       "    vertical-align: top;\r\n",
       "    text-align: start;\r\n",
       "}\r\n",
       "details.dni-treeview {\r\n",
       "    padding-left: 1em;\r\n",
       "}\r\n",
       "table td {\r\n",
       "    text-align: start;\r\n",
       "}\r\n",
       "table tr { \r\n",
       "    vertical-align: top; \r\n",
       "    margin: 0em 0px;\r\n",
       "}\r\n",
       "table tr td pre \r\n",
       "{ \r\n",
       "    vertical-align: top !important; \r\n",
       "    margin: 0em 0px !important;\r\n",
       "} \r\n",
       "table th {\r\n",
       "    text-align: start;\r\n",
       "}\r\n",
       "</style>"
      ]
     },
     "metadata": {},
     "output_type": "display_data"
    }
   ],
   "source": [
    "var client = new HttpClient();\n",
    "var response = await client.GetAsync(\"https://openapi.twse.com.tw/v1/\" + \n",
    "\"exchangeReport/MI_INDEX\" //每日收盤行情-大盤統計資訊\n",
    ");\n",
    "var json = await response.Content.ReadAsStringAsync();\n",
    "List<dynamic> src = JsonConvert.DeserializeObject<List<dynamic>>(json);\n",
    "\n",
    "// foreach(var i in src\n",
    "// .OrderByDescending(x => x.Percentage)\n",
    "// .Where(x => x.指數 == \"發行量加權股價指數\")\n",
    "// ){Console.WriteLine(i);}\n",
    "\n",
    "Dictionary<string, Dictionary<string, object>> src_new = new Dictionary<string, Dictionary<string, object>>();\n",
    "foreach (var item in src)\n",
    "{\n",
    "    src_new[item[\"指數\"].ToString()] = new Dictionary<string, object>\n",
    "    {\n",
    "        { \"收盤指數\", item[\"收盤指數\"].ToString()},\n",
    "        // { \"漲跌\", item[\"漲跌\"].ToString()},\n",
    "        // { \"漲跌點數\", item[\"漲跌點數\"].ToString()},\n",
    "        { \"漲跌百分比\", item[\"漲跌百分比\"].ToString()},\n",
    "        // { \"特殊處理註記\", item[\"特殊處理註記\"].ToString()},\n",
    "    };\n",
    "}\n",
    "src_new.Where( x=> x.Key==\"發行量加權股價指數\" || x.Key.Contains(\"上櫃ESG 30指數\"))"
   ]
  },
  {
   "cell_type": "code",
   "execution_count": 18,
   "metadata": {
    "dotnet_interactive": {
     "language": "csharp"
    },
    "polyglot_notebook": {
     "kernelName": "csharp"
    }
   },
   "outputs": [
    {
     "data": {
      "text/html": [
       "<table><thead><tr><th><i>index</i></th><th>value</th></tr></thead><tbody><tr><td>0</td><td><details class=\"dni-treeview\"><summary><span class=\"dni-code-hint\"><code>[2330, System.Collections.Generic.Dictionary`2[System.String,System.Object]]</code></span></summary><div><table><thead><tr></tr></thead><tbody><tr><td>Key</td><td><div class=\"dni-plaintext\"><pre>2330</pre></div></td></tr><tr><td>Value</td><td><table><thead><tr><th><i>key</i></th><th>value</th></tr></thead><tbody><tr><td><div class=\"dni-plaintext\"><pre>Name</pre></div></td><td><div class=\"dni-plaintext\"><pre>台積電</pre></div></td></tr><tr><td><div class=\"dni-plaintext\"><pre>OpeningPrice</pre></div></td><td><div class=\"dni-plaintext\"><pre>589.00</pre></div></td></tr><tr><td><div class=\"dni-plaintext\"><pre>HighestPrice</pre></div></td><td><div class=\"dni-plaintext\"><pre>593.00</pre></div></td></tr><tr><td><div class=\"dni-plaintext\"><pre>LowestPrice</pre></div></td><td><div class=\"dni-plaintext\"><pre>589.00</pre></div></td></tr><tr><td><div class=\"dni-plaintext\"><pre>ClosingPrice</pre></div></td><td><div class=\"dni-plaintext\"><pre>593.00</pre></div></td></tr><tr><td><div class=\"dni-plaintext\"><pre>Change</pre></div></td><td><div class=\"dni-plaintext\"><pre>0.0000</pre></div></td></tr><tr><td><div class=\"dni-plaintext\"><pre>TradeValue</pre></div></td><td><div class=\"dni-plaintext\"><pre>11931171966</pre></div></td></tr></tbody></table></td></tr></tbody></table></div></details></td></tr><tr><td>1</td><td><details class=\"dni-treeview\"><summary><span class=\"dni-code-hint\"><code>[2454, System.Collections.Generic.Dictionary`2[System.String,System.Object]]</code></span></summary><div><table><thead><tr></tr></thead><tbody><tr><td>Key</td><td><div class=\"dni-plaintext\"><pre>2454</pre></div></td></tr><tr><td>Value</td><td><table><thead><tr><th><i>key</i></th><th>value</th></tr></thead><tbody><tr><td><div class=\"dni-plaintext\"><pre>Name</pre></div></td><td><div class=\"dni-plaintext\"><pre>聯發科</pre></div></td></tr><tr><td><div class=\"dni-plaintext\"><pre>OpeningPrice</pre></div></td><td><div class=\"dni-plaintext\"><pre>1025.00</pre></div></td></tr><tr><td><div class=\"dni-plaintext\"><pre>HighestPrice</pre></div></td><td><div class=\"dni-plaintext\"><pre>1030.00</pre></div></td></tr><tr><td><div class=\"dni-plaintext\"><pre>LowestPrice</pre></div></td><td><div class=\"dni-plaintext\"><pre>1010.00</pre></div></td></tr><tr><td><div class=\"dni-plaintext\"><pre>ClosingPrice</pre></div></td><td><div class=\"dni-plaintext\"><pre>1015.00</pre></div></td></tr><tr><td><div class=\"dni-plaintext\"><pre>Change</pre></div></td><td><div class=\"dni-plaintext\"><pre>-10.0000</pre></div></td></tr><tr><td><div class=\"dni-plaintext\"><pre>TradeValue</pre></div></td><td><div class=\"dni-plaintext\"><pre>5276242225</pre></div></td></tr></tbody></table></td></tr></tbody></table></div></details></td></tr></tbody></table><style>\r\n",
       ".dni-code-hint {\r\n",
       "    font-style: italic;\r\n",
       "    overflow: hidden;\r\n",
       "    white-space: nowrap;\r\n",
       "}\r\n",
       ".dni-treeview {\r\n",
       "    white-space: nowrap;\r\n",
       "}\r\n",
       ".dni-treeview td {\r\n",
       "    vertical-align: top;\r\n",
       "    text-align: start;\r\n",
       "}\r\n",
       "details.dni-treeview {\r\n",
       "    padding-left: 1em;\r\n",
       "}\r\n",
       "table td {\r\n",
       "    text-align: start;\r\n",
       "}\r\n",
       "table tr { \r\n",
       "    vertical-align: top; \r\n",
       "    margin: 0em 0px;\r\n",
       "}\r\n",
       "table tr td pre \r\n",
       "{ \r\n",
       "    vertical-align: top !important; \r\n",
       "    margin: 0em 0px !important;\r\n",
       "} \r\n",
       "table th {\r\n",
       "    text-align: start;\r\n",
       "}\r\n",
       "</style>"
      ]
     },
     "metadata": {},
     "output_type": "display_data"
    }
   ],
   "source": [
    "var client = new HttpClient();\n",
    "var response = await client.GetAsync(\"https://openapi.twse.com.tw/v1/\" + \n",
    "\"exchangeReport/STOCK_DAY_ALL\" //上市個股日成交資訊\n",
    ");\n",
    "var json = await response.Content.ReadAsStringAsync();\n",
    "List<dynamic> src = JsonConvert.DeserializeObject<List<dynamic>>(json);\n",
    "\n",
    "// foreach(var i in src\n",
    "// .Where(x=> x.Code == \"3027\" || x.Code == \"2454\")\n",
    "// ){Console.WriteLine(i);}\n",
    "\n",
    "Dictionary<string, Dictionary<string, object>> src_new = new Dictionary<string, Dictionary<string, object>>();\n",
    "foreach (var item in src)\n",
    "{\n",
    "    src_new[item[\"Code\"].ToString()] = new Dictionary<string, object>\n",
    "    {\n",
    "        { \"Name\", item[\"Name\"].ToString()},\n",
    "        { \"OpeningPrice\", item[\"OpeningPrice\"].ToString()},\n",
    "        { \"HighestPrice\", item[\"HighestPrice\"].ToString()},\n",
    "        { \"LowestPrice\", item[\"LowestPrice\"].ToString()},\n",
    "        { \"ClosingPrice\", item[\"ClosingPrice\"].ToString()},\n",
    "        { \"Change\", item[\"Change\"].ToString()},\n",
    "        { \"TradeValue\", item[\"TradeValue\"].ToString()},\n",
    "    };\n",
    "}\n",
    "src_new.Where(x=> x.Key == \"2330\" || x.Key == \"2454\")"
   ]
  },
  {
   "cell_type": "code",
   "execution_count": null,
   "metadata": {
    "dotnet_interactive": {
     "language": "csharp"
    },
    "polyglot_notebook": {
     "kernelName": "csharp"
    }
   },
   "outputs": [],
   "source": [
    "using Newtonsoft.Json;\n",
    "using System;\n",
    "using System.Collections.Generic;\n",
    "using System.Net.Http;\n",
    "using System.Threading.Tasks;\n",
    "\n",
    "var client = new HttpClient();\n",
    "var response = await client.GetAsync(\"https://openapi.twse.com.tw/v1/\" + \n",
    "\"company/applylistingForeign\" // 外國公司向證交所申請第一上市之公司\n",
    ");\n",
    "var json = await response.Content.ReadAsStringAsync();\n",
    "List<dynamic> src = JsonConvert.DeserializeObject<List<dynamic>>(json);\n",
    "\n",
    "foreach(var i in src\n",
    "// .Where(x=> x[\"出表日期\"] == \"1100427\" )\n",
    "){Console.WriteLine(i);}"
   ]
  },
  {
   "cell_type": "code",
   "execution_count": null,
   "metadata": {
    "dotnet_interactive": {
     "language": "csharp"
    },
    "polyglot_notebook": {
     "kernelName": "csharp"
    }
   },
   "outputs": [],
   "source": [
    "new List<string> tw50 = [\n",
    "\"2330\",\"2454\",\"2317\",\"2412\",\"2382\",\"2881\",\"2308\",\"6505\",\"2882\",\"2303\",\n",
    "\"3711\",\"2886\",\"2891\",\"1303\",\"1301\",\"2002\",\"1216\",\"2884\",\"2207\",\"5880\",\n",
    "\"3008\",\"2892\",\"3045\",\"1326\",\"2357\",\"2885\",\"6669\",\"2395\",\"3034\",\"5871\",\n",
    "\"2880\",\"2603\",\"2345\",\"3231\",\"4904\",\"2912\",\"2301\",\"3037\",\"1101\",\"2327\",\n",
    "\"2890\",\"2379\",\"2408\",\"3661\",\"3443\",\"4938\",\"5876\",\"2887\",\"2883\",\"1590\",\n",
    "];\n",
    "var tw50_otc10 = new List<IContract>();\n",
    "foreach (var i in tw50){\n",
    "    tw50_otc10.Add(_api.Contracts.Stocks[\"TSE\"][i]);\n",
    "}\n",
    "foreach (var i in new List<string>{\"6488\",\"8069\",\"3529\",\"5347\",\"5274\",\"6446\",\"5483\",\"8299\",\"3293\",\"4966\"}){\n",
    "    tw50_otc10.Add(_api.Contracts.Stocks[\"OTC\"][i]);\n",
    "}\n",
    "// tw50_otc10\n",
    "_api.Snapshots(tw50_otc10)"
   ]
  },
  {
   "cell_type": "code",
   "execution_count": 252,
   "metadata": {
    "dotnet_interactive": {
     "language": "csharp"
    },
    "polyglot_notebook": {
     "kernelName": "csharp"
    }
   },
   "outputs": [
    {
     "ename": "Error",
     "evalue": "System.ObjectDisposedException: Cannot access a disposed object.\r\nObject name: 'Cannot Subscribe with an already disposed session'.\r\n   at SolaceSystems.Solclient.Messaging.Native.SessionImpl.Subscribe(ISubscription subscription, Boolean waitForConfirm)\r\n   at CallSite.Target(Closure, CallSite, Shioaji, Object, QuoteType)\r\n   at System.Dynamic.UpdateDelegates.UpdateAndExecuteVoid3[T0,T1,T2](CallSite site, T0 arg0, T1 arg1, T2 arg2)\r\n   at Submission#252.<<Initialize>>d__0.MoveNext()\r\n--- End of stack trace from previous location ---\r\n   at Microsoft.CodeAnalysis.Scripting.ScriptExecutionState.RunSubmissionsAsync[TResult](ImmutableArray`1 precedingExecutors, Func`2 currentExecutor, StrongBox`1 exceptionHolderOpt, Func`2 catchExceptionOpt, CancellationToken cancellationToken)",
     "output_type": "error",
     "traceback": [
      "System.ObjectDisposedException: Cannot access a disposed object.\r\n",
      "Object name: 'Cannot Subscribe with an already disposed session'.\r\n",
      "   at SolaceSystems.Solclient.Messaging.Native.SessionImpl.Subscribe(ISubscription subscription, Boolean waitForConfirm)\r\n",
      "   at CallSite.Target(Closure, CallSite, Shioaji, Object, QuoteType)\r\n",
      "   at System.Dynamic.UpdateDelegates.UpdateAndExecuteVoid3[T0,T1,T2](CallSite site, T0 arg0, T1 arg1, T2 arg2)\r\n",
      "   at Submission#252.<<Initialize>>d__0.MoveNext()\r\n",
      "--- End of stack trace from previous location ---\r\n",
      "   at Microsoft.CodeAnalysis.Scripting.ScriptExecutionState.RunSubmissionsAsync[TResult](ImmutableArray`1 precedingExecutors, Func`2 currentExecutor, StrongBox`1 exceptionHolderOpt, Func`2 catchExceptionOpt, CancellationToken cancellationToken)"
     ]
    }
   ],
   "source": [
    "// _api.Subscribe(contract:_api.Contracts.Stocks[\"TSE\"][\"2330\"], quoteType:QuoteType.tick);\n",
    "_api.Subscribe(_api.Contracts.Stocks[\"TSE\"][\"2330\"], QuoteType.tick);\n",
    "\n",
    "List<Dictionary<string, object>> combinedList = new List<Dictionary<string, object>>();\n",
    "private void myQuoteCB_v1(Exchange exchange, dynamic quote)\n",
    "{\n",
    "    Dictionary<string, object> dict = new Dictionary<string, object>();\n",
    "    dict.Add(quote.GetType().Name, quote);\n",
    "    combinedList.Add(dict);\n",
    "}\n",
    "\n",
    "_api.SetQuoteCallback_v1(myQuoteCB_v1);"
   ]
  },
  {
   "cell_type": "code",
   "execution_count": null,
   "metadata": {
    "dotnet_interactive": {
     "language": "csharp"
    },
    "polyglot_notebook": {
     "kernelName": "csharp"
    }
   },
   "outputs": [],
   "source": [
    "var _contract = _api.Contracts.Futures[\"MXF\"][\"MXF202401\"];    \n",
    "var _futOptOrder = new FutOptOrder()\n",
    "{\n",
    "    // action = (positions[0].direction == \"Buy\") ? \"Sell\" : positions[0].direction,\n",
    "    action = \"Buy\",\n",
    "    price = Convert.ToDouble(16800),\n",
    "    quantity = 1, price_type = \"LMT\", order_type = \"ROD\", octype = OCType.DayTrade\n",
    "};\n",
    "\n",
    "var _trade = _api.PlaceOrder(_contract, _futOptOrder);\n",
    "Console.WriteLine(_trade);"
   ]
  }
 ],
 "metadata": {
  "kernelspec": {
   "display_name": ".NET (C#)",
   "language": "C#",
   "name": ".net-csharp"
  },
  "language_info": {
   "name": "polyglot-notebook"
  },
  "polyglot_notebook": {
   "kernelInfo": {
    "defaultKernelName": "csharp",
    "items": [
     {
      "aliases": [],
      "languageName": "csharp",
      "name": "csharp"
     }
    ]
   }
  }
 },
 "nbformat": 4,
 "nbformat_minor": 2
}

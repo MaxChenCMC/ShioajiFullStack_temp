{
 "cells": [
  {
   "cell_type": "code",
   "execution_count": 2,
   "metadata": {
    "dotnet_interactive": {
     "language": "csharp"
    },
    "polyglot_notebook": {
     "kernelName": "csharp"
    },
    "vscode": {
     "languageId": "polyglot-notebook"
    }
   },
   "outputs": [
    {
     "name": "stdout",
     "output_type": "stream",
     "text": [
      "O 成功刪除 2qhj3zal.se5\n",
      "O 成功刪除 cv_debug.log\n",
      "O 成功刪除 dd_BackgroundDownload_20230903232944.log\n",
      "O 成功刪除 dd_BackgroundDownload_20230903232944_result_Success.log\n",
      "O 成功刪除 dd_BackgroundDownload_20230909032838.log\n",
      "O 成功刪除 dd_BackgroundDownload_20230909032838_result_Success.log\n",
      "O 成功刪除 dd_updateconfiguration_20230906183835.log\n",
      "O 成功刪除 drive_fs_trace\n",
      "O 成功刪除 exthost-3b9dba.cpuprofile\n",
      "O 成功刪除 exthost-5f2b86.cpuprofile\n",
      "O 成功刪除 gcfubgtl.kwe\n",
      "O 成功刪除 migrate_db\n",
      "O 成功刪除 model.model.ce94127b\n",
      "O 成功刪除 OptaneIconOverlay.ico\n",
      "O 成功刪除 qvt0pksg.vti\n",
      "O 成功刪除 start-8710e763.cmd\n",
      "O 成功刪除 start-9b462f4e.cmd\n",
      "O 成功刪除 start-bdc1a293.cmd\n",
      "O 成功刪除 start-ec14470f.cmd\n",
      "O 成功刪除 yiplp35t.yeu\n",
      "O 成功刪除 報表20230904-0222.diagsession\n",
      "--------------------------------------------\n",
      "成功刪除 21 筆暫存資料 | 23 筆還在使用中無法刪除 \n",
      "--------------------------------------------\n"
     ]
    }
   ],
   "source": [
    "using System;\n",
    "using System.IO;\n",
    "// https://pixnashpython.pixnet.net/blog/post/63504385-%E3%80%90c%23%E3%80%91%E3%80%90%E5%85%A5%E9%96%80%E7%B7%B4%E7%BF%92%E3%80%91%E5%AF%AB%E5%87%BA%E4%B8%80%E5%80%8B%E7%B0%A1%E6%98%93%E7%9A%84%E5%9E%83%E5%9C%BE%E6%B8%85%E9%99%A4?utm_source=PIXNET&utm_medium=pcard_article&utm_content=703175fff84b845d99\n",
    "// Console.WriteLine(\"清除資料夾暫存區裡面的垃圾\\n------------------------\");\n",
    "string UserName = Environment.UserName;\n",
    "string pTempDir = $@\"C:\\Users\\{UserName}\\AppData\\Local\\Temp\";\n",
    "string[] files = Directory.GetFiles(pTempDir);\n",
    "\n",
    "int nCountO = 0;\n",
    "int nCountX = 0;\n",
    "foreach (var file in files)\n",
    "{\n",
    "    try\n",
    "    {\n",
    "        File.Delete(file);\n",
    "        Console.WriteLine($@\"O 成功刪除 {Path.GetFileName(file)}\");\n",
    "        nCountO += 1;\n",
    "    }\n",
    "    catch (Exception e)\n",
    "    {\n",
    "        // Console.WriteLine($@\"X 無法刪除 {Path.GetFileName(file)}\");\n",
    "        nCountX += 1;\n",
    "    }\n",
    "}\n",
    "Console.WriteLine(\"--------------------------------------------\\n\" +\n",
    "                 $\"成功刪除 { nCountO.ToString()} 筆暫存資料 | { nCountX.ToString()} 筆還在使用中無法刪除 \\n\" +\n",
    "                  \"--------------------------------------------\");"
   ]
  },
  {
   "cell_type": "code",
   "execution_count": 51,
   "metadata": {
    "dotnet_interactive": {
     "language": "csharp"
    },
    "polyglot_notebook": {
     "kernelName": "csharp"
    },
    "vscode": {
     "languageId": "polyglot-notebook"
    }
   },
   "outputs": [
    {
     "ename": "Error",
     "evalue": "(4,1): error CS0246: 找不到類型或命名空間名稱 'ImmutableArray<>' (是否遺漏了 using 指示詞或組件參考?)\r\n(4,25): error CS0622: 只可使用陣列初始設定式運算式，指派給陣列類型。請嘗試改用 new 運算式。",
     "output_type": "error",
     "traceback": [
      "(4,1): error CS0246: 找不到類型或命名空間名稱 'ImmutableArray<>' (是否遺漏了 using 指示詞或組件參考?)\r\n",
      "(4,25): error CS0622: 只可使用陣列初始設定式運算式，指派給陣列類型。請嘗試改用 new 運算式。"
     ]
    }
   ],
   "source": [
    "// Console.Beep()\n",
    "int[] a = {1,2,3,4};\n",
    "// a\n",
    "ImmutableArray<int> b = {5,6,7,8};\n",
    "b\n",
    "// List<int> c = {9,10,11,12};\n",
    "\n",
    "// int[] all = [a,b,c];\n",
    "// all"
   ]
  },
  {
   "cell_type": "code",
   "execution_count": 6,
   "metadata": {
    "dotnet_interactive": {
     "language": "csharp"
    },
    "polyglot_notebook": {
     "kernelName": "csharp"
    },
    "vscode": {
     "languageId": "polyglot-notebook"
    }
   },
   "outputs": [
    {
     "data": {
      "text/html": [
       "<div><div></div><div></div><div><strong>Installed Packages</strong><ul><li><span>Microsoft.Data.Analysis, 0.20.0-preview.22551.1</span></li></ul></div></div>"
      ]
     },
     "metadata": {},
     "output_type": "display_data"
    },
    {
     "data": {
      "text/plain": [
       "Loading extensions from `C:\\Users\\hhped\\.nuget\\packages\\microsoft.data.analysis\\0.20.0-preview.22551.1\\interactive-extensions\\dotnet\\Microsoft.Data.Analysis.Interactive.dll`"
      ]
     },
     "metadata": {},
     "output_type": "display_data"
    }
   ],
   "source": [
    "#r \"nuget: Microsoft.Data.Analysis, 0.20.0-preview.22356.1\"\n",
    "using Microsoft.Data.Analysis;\n",
    "using System.Data;"
   ]
  },
  {
   "cell_type": "markdown",
   "metadata": {},
   "source": [
    "扳手icon是屬性(建議大寫)、方體icon是方法(建議大寫且動詞開頭)、變數則是camel(第二詞大寫)\n",
    "\n",
    "\n",
    "# 自建df的基礎操作\n",
    "``` .NET Framework\n",
    "DataFrame df = DataFrame.LoadCsv(\"./df1.csv\");\n",
    "DataFrame.WriteCsv(df, \"df1.csv\", ',') \n",
    "```"
   ]
  },
  {
   "cell_type": "code",
   "execution_count": 16,
   "metadata": {
    "dotnet_interactive": {
     "language": "csharp"
    },
    "polyglot_notebook": {
     "kernelName": "csharp"
    },
    "vscode": {
     "languageId": "polyglot-notebook"
    }
   },
   "outputs": [
    {
     "ename": "Error",
     "evalue": "(17,1): error CS0021: 無法套用有 [] 的索引至類型為 'DataTable' 的運算式",
     "output_type": "error",
     "traceback": [
      "(17,1): error CS0021: 無法套用有 [] 的索引至類型為 'DataTable' 的運算式"
     ]
    }
   ],
   "source": [
    "// 先建立資料表結構與測試資料\n",
    "static DataTable GetTable()\n",
    "{\n",
    "    DataTable table = new DataTable();\n",
    "    table.Columns.Add(\"ID\", typeof(int));\n",
    "    table.Columns.Add(\"Name\", typeof(string));\n",
    "    table.Columns.Add(\"BirthYear\", typeof(int));\n",
    "    table.Columns.Add(\"City\", typeof(string));\n",
    "    table.Rows.Add(1, \"Ming\", 1990, \"Taipei\");\n",
    "    table.Rows.Add(2, \"Alice\", 1991, \"Taichung\");\n",
    "    table.Rows.Add(3, \"Belly\", 1992, \"Kaohsiung\");\n",
    "    table.Rows.Add(4, \"Peter\", 1993, \"Taipei\");\n",
    "    return table;\n",
    "}\n",
    "\n",
    "DataTable table = GetTable();\n",
    "table\n",
    "// 取得資料表中 City 欄位以 Tai 開始的資料列 ID，使用「??」若null就空值\n",
    "// 話說「string.Empty == \"\"」會回傳True\n",
    "// var result = from r in table.AsEnumerable()\n",
    "//              where (r.Field<string>(\"City\") ?? string.Empty).StartsWith(\"Tai\") \n",
    "//              select r.Field<int>(\"ID\");\n",
    "\n",
    "// result.Select(i => i).ToList().ForEach(Console.WriteLine);"
   ]
  },
  {
   "cell_type": "code",
   "execution_count": 33,
   "metadata": {
    "dotnet_interactive": {
     "language": "csharp"
    },
    "polyglot_notebook": {
     "kernelName": "csharp"
    },
    "vscode": {
     "languageId": "polyglot-notebook"
    }
   },
   "outputs": [
    {
     "name": "stdout",
     "output_type": "stream",
     "text": [
      "milk\n",
      "119\n",
      "juice\n",
      "495\n"
     ]
    }
   ],
   "source": [
    "enum product {milk = 119, juice = 49, cocktail = 495}\n",
    "product test = product.milk;\n",
    "Console.WriteLine(test);\n",
    "Console.WriteLine((int)test);\n",
    "\n",
    "int test2 = 49;\n",
    "Console.WriteLine((product)test2);\n",
    "\n",
    "product query;\n",
    "Enum.TryParse(\"cocktail\", out query); //單單執行是bool，但重點是先宣告個變數 out想成是assigns給變數\n",
    "Console.WriteLine((int)query);"
   ]
  },
  {
   "cell_type": "code",
   "execution_count": 37,
   "metadata": {
    "dotnet_interactive": {
     "language": "csharp"
    },
    "polyglot_notebook": {
     "kernelName": "csharp"
    },
    "vscode": {
     "languageId": "polyglot-notebook"
    }
   },
   "outputs": [
    {
     "name": "stdout",
     "output_type": "stream",
     "text": [
      "YES\n",
      "問問運算子像SQL的【ISNULL(非null就左邊 null就右邊空值,'')】\n"
     ]
    }
   ],
   "source": [
    "enum Day { Sunday, Monday, Tuesday, Wednesday, Thursday, Friday, Saturday };\n",
    "Day today = Day.Sunday;\n",
    "if(today != Day.Monday)  Console.WriteLine(\"YES\");\n",
    "string ? x = null;\n",
    "string y = x ?? \"問問運算子像SQL的【ISNULL(非null就左邊 null就右邊空值,'')】\";\n",
    "Console.WriteLine(y);"
   ]
  },
  {
   "cell_type": "code",
   "execution_count": null,
   "metadata": {
    "dotnet_interactive": {
     "language": "csharp"
    },
    "polyglot_notebook": {
     "kernelName": "csharp"
    },
    "vscode": {
     "languageId": "polyglot-notebook"
    }
   },
   "outputs": [],
   "source": [
    "Stack sk = new Stack(); //LIFO\n",
    "sk.Push(5);\n",
    "sk.Push(65);\n",
    "sk.Pop();\n",
    "sk\n",
    "\n",
    "Queue qe = new Queue();  //FIFO\n",
    "qe.Enqueue(5);\n",
    "qe.Enqueue(7);\n",
    "qe.Dequeue();\n",
    "qe"
   ]
  },
  {
   "cell_type": "code",
   "execution_count": 5,
   "metadata": {
    "dotnet_interactive": {
     "language": "csharp"
    },
    "polyglot_notebook": {
     "kernelName": "csharp"
    },
    "vscode": {
     "languageId": "polyglot-notebook"
    }
   },
   "outputs": [
    {
     "name": "stdout",
     "output_type": "stream",
     "text": [
      "The result for input 1 is: One\r\n"
     ]
    }
   ],
   "source": [
    "int inputValue = 1;\n",
    "// Switch expression to return a string based on the input value\n",
    "string result = inputValue switch\n",
    "{\n",
    "    1 => \"One\",\n",
    "    2 => \"Two\",\n",
    "    3 => \"Three\",\n",
    "    _ => throw new ArgumentException(message: \"無效的列舉值\", paramName: nameof(inputValue))\n",
    "};\n",
    "\n",
    "Console.WriteLine($\"The result for input {inputValue} is: {result}\");"
   ]
  },
  {
   "cell_type": "code",
   "execution_count": 12,
   "metadata": {
    "dotnet_interactive": {
     "language": "csharp"
    },
    "polyglot_notebook": {
     "kernelName": "csharp"
    },
    "vscode": {
     "languageId": "polyglot-notebook"
    }
   },
   "outputs": [
    {
     "name": "stdout",
     "output_type": "stream",
     "text": [
      "131\r\n"
     ]
    },
    {
     "data": {
      "text/html": [
       "<div class=\"dni-plaintext\"><pre>[ 111, 121 ]</pre></div><style>\r\n",
       ".dni-code-hint {\r\n",
       "    font-style: italic;\r\n",
       "    overflow: hidden;\r\n",
       "    white-space: nowrap;\r\n",
       "}\r\n",
       ".dni-treeview {\r\n",
       "    white-space: nowrap;\r\n",
       "}\r\n",
       ".dni-treeview td {\r\n",
       "    vertical-align: top;\r\n",
       "    text-align: start;\r\n",
       "}\r\n",
       "details.dni-treeview {\r\n",
       "    padding-left: 1em;\r\n",
       "}\r\n",
       "table td {\r\n",
       "    text-align: start;\r\n",
       "}\r\n",
       "table tr { \r\n",
       "    vertical-align: top; \r\n",
       "    margin: 0em 0px;\r\n",
       "}\r\n",
       "table tr td pre \r\n",
       "{ \r\n",
       "    vertical-align: top !important; \r\n",
       "    margin: 0em 0px !important;\r\n",
       "} \r\n",
       "table th {\r\n",
       "    text-align: start;\r\n",
       "}\r\n",
       "</style>"
      ]
     },
     "metadata": {},
     "output_type": "display_data"
    }
   ],
   "source": [
    "int[] Weight =        new int[] { 123, 321, 111, 121, 131 };\n",
    "// string[] Name =       new string[] { \"Oliver\", \"Charlotte\", \"Henry\", \"Amelia\", \"Owen\"};\n",
    "// string[] categories = new string[] { \"A\", \"B\", \"C\", \"D\", \"E\" };\n",
    "Console.WriteLine(Weight[^1]);\n",
    "Weight[2..^1]  // 索引一段範圍，計頭不計尾，也可以Weight[..^1]或Weight[2.1]\n",
    "// new List<int> ls0                               = new List<int> {123, 321, 111, 121, 131};\n",
    "// PrimitiveDataFrameColumn<int> ls1 = new(\"Weight\", new List<int> {123, 321, 111, 121, 131});\n",
    "// PrimitiveDataFrameColumn<int> ls2 = new(\"Weight\", new int[]     {123, 321, 111, 121, 131});\n",
    "\n",
    "// ls0.Display(); \n",
    "// ls1.Display();\n",
    "// ls2.Display();\n",
    "\n",
    "\n",
    "\n",
    "// DataFrame lsToDf = new(ls2);\n",
    "// lsToDf.Display();\n",
    "\n",
    "// StringDataFrameColumn ls3 = new (\"Name\", new List<string> {\"Oliver\", \"Charlotte\", \"Henry\", \"Amelia\", \"Owen\"});\n",
    "// DataFrame df = new(ls, ls3);\n",
    "// df.Display();\n",
    "\n",
    "// var df1 = new DataFrame();\n",
    "// df1[\"X\"] = DataFrameColumn.Create(\"X\", new List<int> { 123, 321, 111, 121, 131});\n",
    "// df1[\"y\"] = DataFrameColumn.Create(\"y\", new List<string> {\"Oliver\", \"Charlotte\", \"Henry\", \"Amelia\", \"Owen\"});\n",
    "// df1[\"j\"] = DataFrameColumn.Create(\"j\", new List<int> { 1, 3, 8, 7, 9});\n",
    "// df1[\"a\"] = DataFrameColumn.Create(\"a\", new List<float> { 1.1F, 3.3F, 8.5F, 7.7F, 9.99F});\n",
    "// df1.Display();\n",
    "\n",
    "// df1.Columns.Select(x => x.Name).Where(x => x !=\"z\").Display();\n",
    "\n",
    "// var mse = (df1[\"X\"] - df1[\"j\"]).Cast<int>().Select(x => x / 10).Max().Display();\n",
    "// df1[\"a\"].Divide(2.54).Round().Display();\n",
    "// df1.Columns.Remove(\"a\");\n",
    "// df1.OrderBy(\"j\").Display();"
   ]
  },
  {
   "cell_type": "code",
   "execution_count": 13,
   "metadata": {
    "dotnet_interactive": {
     "language": "csharp"
    },
    "polyglot_notebook": {
     "kernelName": "csharp"
    },
    "vscode": {
     "languageId": "polyglot-notebook"
    }
   },
   "outputs": [
    {
     "name": "stdout",
     "output_type": "stream",
     "text": [
      "鍵: state, 值: System.String[]\n",
      "鍵: year, 值: System.Int32[]\n"
     ]
    },
    {
     "data": {
      "text/html": [
       "<table><thead><tr><th><i>index</i></th><th>value</th></tr></thead><tbody><tr><td>0</td><td><details class=\"dni-treeview\"><summary><span class=\"dni-code-hint\"><code>[Name, Scott]</code></span></summary><div><table><thead><tr></tr></thead><tbody><tr><td>Key</td><td><div class=\"dni-plaintext\"><pre>Name</pre></div></td></tr><tr><td>Value</td><td><div class=\"dni-plaintext\"><pre>Scott</pre></div></td></tr></tbody></table></div></details></td></tr><tr><td>1</td><td><details class=\"dni-treeview\"><summary><span class=\"dni-code-hint\"><code>[Age, 36]</code></span></summary><div><table><thead><tr></tr></thead><tbody><tr><td>Key</td><td><div class=\"dni-plaintext\"><pre>Age</pre></div></td></tr><tr><td>Value</td><td><div class=\"dni-plaintext\"><pre>36</pre></div></td></tr></tbody></table></div></details></td></tr><tr><td>2</td><td><details class=\"dni-treeview\"><summary><span class=\"dni-code-hint\"><code>[Height, 1.65]</code></span></summary><div><table><thead><tr></tr></thead><tbody><tr><td>Key</td><td><div class=\"dni-plaintext\"><pre>Height</pre></div></td></tr><tr><td>Value</td><td><div class=\"dni-plaintext\"><pre>1.65</pre></div></td></tr></tbody></table></div></details></td></tr></tbody></table><style>\r\n",
       ".dni-code-hint {\r\n",
       "    font-style: italic;\r\n",
       "    overflow: hidden;\r\n",
       "    white-space: nowrap;\r\n",
       "}\r\n",
       ".dni-treeview {\r\n",
       "    white-space: nowrap;\r\n",
       "}\r\n",
       ".dni-treeview td {\r\n",
       "    vertical-align: top;\r\n",
       "    text-align: start;\r\n",
       "}\r\n",
       "details.dni-treeview {\r\n",
       "    padding-left: 1em;\r\n",
       "}\r\n",
       "table td {\r\n",
       "    text-align: start;\r\n",
       "}\r\n",
       "table tr { \r\n",
       "    vertical-align: top; \r\n",
       "    margin: 0em 0px;\r\n",
       "}\r\n",
       "table tr td pre \r\n",
       "{ \r\n",
       "    vertical-align: top !important; \r\n",
       "    margin: 0em 0px !important;\r\n",
       "} \r\n",
       "table th {\r\n",
       "    text-align: start;\r\n",
       "}\r\n",
       "</style>"
      ]
     },
     "metadata": {},
     "output_type": "display_data"
    }
   ],
   "source": [
    "var data = new Dictionary<string, object> // Dictionary<string, object> data = new Dictionary<string, object>\n",
    "{\n",
    "    {\"state\", new string[] { \"Ohio\", \"Ohio\", \"Ohio\", \"Nevada\", \"Nevada\"}},\n",
    "    {\"year\", new int[] { 2000, 2001, 2002, 2001, 2002 }}\n",
    "};\n",
    "// data.Display();\n",
    "foreach(var kv in data)\n",
    "{\n",
    "    Console.WriteLine(\"鍵: \" + kv.Key + \", 值: \" + kv.Value);    \n",
    "}\n",
    "\n",
    "List<KeyValuePair<string, object>> newRowData = new()\n",
    "{\n",
    "    new KeyValuePair<string, object>(\"Name\", \"Scott\"),\n",
    "    new KeyValuePair<string, object>(\"Age\", 36),\n",
    "    new KeyValuePair<string, object>(\"Height\", 1.65),\n",
    "};\n",
    "newRowData.Display()"
   ]
  },
  {
   "cell_type": "code",
   "execution_count": 109,
   "metadata": {
    "dotnet_interactive": {
     "language": "csharp"
    },
    "polyglot_notebook": {
     "kernelName": "csharp"
    },
    "vscode": {
     "languageId": "polyglot-notebook"
    }
   },
   "outputs": [
    {
     "data": {
      "text/html": [
       "<table id=\"table_638274766980635808\"><thead><tr><th><i>index</i></th><th>Name</th><th>Age</th><th>Height</th></tr></thead><tbody><tr><td><i><div class=\"dni-plaintext\"><pre>0</pre></div></i></td><td>Oliver</td><td><div class=\"dni-plaintext\"><pre>23</pre></div></td><td><div class=\"dni-plaintext\"><pre>1.91</pre></div></td></tr><tr><td><i><div class=\"dni-plaintext\"><pre>1</pre></div></i></td><td>Charlotte</td><td><div class=\"dni-plaintext\"><pre>19</pre></div></td><td><div class=\"dni-plaintext\"><pre>1.62</pre></div></td></tr><tr><td><i><div class=\"dni-plaintext\"><pre>2</pre></div></i></td><td>Henry</td><td><div class=\"dni-plaintext\"><pre>42</pre></div></td><td><div class=\"dni-plaintext\"><pre>1.72</pre></div></td></tr><tr><td><i><div class=\"dni-plaintext\"><pre>3</pre></div></i></td><td>Amelia</td><td><div class=\"dni-plaintext\"><pre>64</pre></div></td><td><div class=\"dni-plaintext\"><pre>1.57</pre></div></td></tr><tr><td><i><div class=\"dni-plaintext\"><pre>4</pre></div></i></td><td>Owen</td><td><div class=\"dni-plaintext\"><pre>35</pre></div></td><td><div class=\"dni-plaintext\"><pre>1.85</pre></div></td></tr></tbody></table><style>\r\n",
       ".dni-code-hint {\r\n",
       "    font-style: italic;\r\n",
       "    overflow: hidden;\r\n",
       "    white-space: nowrap;\r\n",
       "}\r\n",
       ".dni-treeview {\r\n",
       "    white-space: nowrap;\r\n",
       "}\r\n",
       ".dni-treeview td {\r\n",
       "    vertical-align: top;\r\n",
       "    text-align: start;\r\n",
       "}\r\n",
       "details.dni-treeview {\r\n",
       "    padding-left: 1em;\r\n",
       "}\r\n",
       "table td {\r\n",
       "    text-align: start;\r\n",
       "}\r\n",
       "table tr { \r\n",
       "    vertical-align: top; \r\n",
       "    margin: 0em 0px;\r\n",
       "}\r\n",
       "table tr td pre \r\n",
       "{ \r\n",
       "    vertical-align: top !important; \r\n",
       "    margin: 0em 0px !important;\r\n",
       "} \r\n",
       "table th {\r\n",
       "    text-align: start;\r\n",
       "}\r\n",
       "</style>"
      ]
     },
     "metadata": {},
     "output_type": "display_data"
    },
    {
     "data": {
      "text/html": [
       "<table id=\"table_638274766981009708\"><thead><tr><th><i>index</i></th><th>Name</th><th>Age</th><th>Height</th></tr></thead><tbody><tr><td><i><div class=\"dni-plaintext\"><pre>0</pre></div></i></td><td>Oliver</td><td><div class=\"dni-plaintext\"><pre>23</pre></div></td><td><div class=\"dni-plaintext\"><pre>1.91</pre></div></td></tr><tr><td><i><div class=\"dni-plaintext\"><pre>1</pre></div></i></td><td>Charlotte</td><td><div class=\"dni-plaintext\"><pre>19</pre></div></td><td><div class=\"dni-plaintext\"><pre>1.62</pre></div></td></tr><tr><td><i><div class=\"dni-plaintext\"><pre>2</pre></div></i></td><td>Henry</td><td><div class=\"dni-plaintext\"><pre>42</pre></div></td><td><div class=\"dni-plaintext\"><pre>1.72</pre></div></td></tr><tr><td><i><div class=\"dni-plaintext\"><pre>3</pre></div></i></td><td>Amelia</td><td><div class=\"dni-plaintext\"><pre>64</pre></div></td><td><div class=\"dni-plaintext\"><pre>1.57</pre></div></td></tr><tr><td><i><div class=\"dni-plaintext\"><pre>4</pre></div></i></td><td>Owen</td><td><div class=\"dni-plaintext\"><pre>35</pre></div></td><td><div class=\"dni-plaintext\"><pre>1.85</pre></div></td></tr><tr><td><i><div class=\"dni-plaintext\"><pre>5</pre></div></i></td><td>Scott</td><td><div class=\"dni-plaintext\"><pre>36</pre></div></td><td><div class=\"dni-plaintext\"><pre>1.65</pre></div></td></tr></tbody></table><style>\r\n",
       ".dni-code-hint {\r\n",
       "    font-style: italic;\r\n",
       "    overflow: hidden;\r\n",
       "    white-space: nowrap;\r\n",
       "}\r\n",
       ".dni-treeview {\r\n",
       "    white-space: nowrap;\r\n",
       "}\r\n",
       ".dni-treeview td {\r\n",
       "    vertical-align: top;\r\n",
       "    text-align: start;\r\n",
       "}\r\n",
       "details.dni-treeview {\r\n",
       "    padding-left: 1em;\r\n",
       "}\r\n",
       "table td {\r\n",
       "    text-align: start;\r\n",
       "}\r\n",
       "table tr { \r\n",
       "    vertical-align: top; \r\n",
       "    margin: 0em 0px;\r\n",
       "}\r\n",
       "table tr td pre \r\n",
       "{ \r\n",
       "    vertical-align: top !important; \r\n",
       "    margin: 0em 0px !important;\r\n",
       "} \r\n",
       "table th {\r\n",
       "    text-align: start;\r\n",
       "}\r\n",
       "</style>"
      ]
     },
     "metadata": {},
     "output_type": "display_data"
    },
    {
     "data": {
      "text/html": [
       "<table id=\"table_638274766981034072\"><thead><tr><th><i>index</i></th><th>Name</th><th>Age</th><th>Height</th><th>Weight</th><th>Weight1</th></tr></thead><tbody><tr><td><i><div class=\"dni-plaintext\"><pre>0</pre></div></i></td><td>Oliver</td><td><div class=\"dni-plaintext\"><pre>23</pre></div></td><td><div class=\"dni-plaintext\"><pre>1.91</pre></div></td><td><div class=\"dni-plaintext\"><pre>123</pre></div></td><td><div class=\"dni-plaintext\"><pre>&lt;null&gt;</pre></div></td></tr><tr><td><i><div class=\"dni-plaintext\"><pre>1</pre></div></i></td><td>Charlotte</td><td><div class=\"dni-plaintext\"><pre>19</pre></div></td><td><div class=\"dni-plaintext\"><pre>1.62</pre></div></td><td><div class=\"dni-plaintext\"><pre>321</pre></div></td><td><div class=\"dni-plaintext\"><pre>&lt;null&gt;</pre></div></td></tr><tr><td><i><div class=\"dni-plaintext\"><pre>2</pre></div></i></td><td>Henry</td><td><div class=\"dni-plaintext\"><pre>42</pre></div></td><td><div class=\"dni-plaintext\"><pre>1.72</pre></div></td><td><div class=\"dni-plaintext\"><pre>111</pre></div></td><td><div class=\"dni-plaintext\"><pre>&lt;null&gt;</pre></div></td></tr><tr><td><i><div class=\"dni-plaintext\"><pre>3</pre></div></i></td><td>Amelia</td><td><div class=\"dni-plaintext\"><pre>64</pre></div></td><td><div class=\"dni-plaintext\"><pre>1.57</pre></div></td><td><div class=\"dni-plaintext\"><pre>121</pre></div></td><td><div class=\"dni-plaintext\"><pre>&lt;null&gt;</pre></div></td></tr><tr><td><i><div class=\"dni-plaintext\"><pre>4</pre></div></i></td><td>Owen</td><td><div class=\"dni-plaintext\"><pre>35</pre></div></td><td><div class=\"dni-plaintext\"><pre>1.85</pre></div></td><td><div class=\"dni-plaintext\"><pre>131</pre></div></td><td><div class=\"dni-plaintext\"><pre>&lt;null&gt;</pre></div></td></tr><tr><td><i><div class=\"dni-plaintext\"><pre>5</pre></div></i></td><td>Scott</td><td><div class=\"dni-plaintext\"><pre>36</pre></div></td><td><div class=\"dni-plaintext\"><pre>1.65</pre></div></td><td><div class=\"dni-plaintext\"><pre>178</pre></div></td><td><div class=\"dni-plaintext\"><pre>&lt;null&gt;</pre></div></td></tr></tbody></table><style>\r\n",
       ".dni-code-hint {\r\n",
       "    font-style: italic;\r\n",
       "    overflow: hidden;\r\n",
       "    white-space: nowrap;\r\n",
       "}\r\n",
       ".dni-treeview {\r\n",
       "    white-space: nowrap;\r\n",
       "}\r\n",
       ".dni-treeview td {\r\n",
       "    vertical-align: top;\r\n",
       "    text-align: start;\r\n",
       "}\r\n",
       "details.dni-treeview {\r\n",
       "    padding-left: 1em;\r\n",
       "}\r\n",
       "table td {\r\n",
       "    text-align: start;\r\n",
       "}\r\n",
       "table tr { \r\n",
       "    vertical-align: top; \r\n",
       "    margin: 0em 0px;\r\n",
       "}\r\n",
       "table tr td pre \r\n",
       "{ \r\n",
       "    vertical-align: top !important; \r\n",
       "    margin: 0em 0px !important;\r\n",
       "} \r\n",
       "table th {\r\n",
       "    text-align: start;\r\n",
       "}\r\n",
       "</style>"
      ]
     },
     "metadata": {},
     "output_type": "display_data"
    },
    {
     "data": {
      "text/html": [
       "<table id=\"table_638274766981332908\"><thead><tr><th><i>index</i></th><th>Name</th><th>Age</th><th>Height</th><th>Weight</th><th>Weight1</th><th>IQ</th></tr></thead><tbody><tr><td><i><div class=\"dni-plaintext\"><pre>0</pre></div></i></td><td>Oliver</td><td><div class=\"dni-plaintext\"><pre>23</pre></div></td><td><div class=\"dni-plaintext\"><pre>1.91</pre></div></td><td><div class=\"dni-plaintext\"><pre>123</pre></div></td><td><div class=\"dni-plaintext\"><pre>&lt;null&gt;</pre></div></td><td><div class=\"dni-plaintext\"><pre>65.895</pre></div></td></tr><tr><td><i><div class=\"dni-plaintext\"><pre>1</pre></div></i></td><td>Charlotte</td><td><div class=\"dni-plaintext\"><pre>19</pre></div></td><td><div class=\"dni-plaintext\"><pre>1.62</pre></div></td><td><div class=\"dni-plaintext\"><pre>321</pre></div></td><td><div class=\"dni-plaintext\"><pre>&lt;null&gt;</pre></div></td><td><div class=\"dni-plaintext\"><pre>46.17</pre></div></td></tr><tr><td><i><div class=\"dni-plaintext\"><pre>2</pre></div></i></td><td>Henry</td><td><div class=\"dni-plaintext\"><pre>42</pre></div></td><td><div class=\"dni-plaintext\"><pre>1.72</pre></div></td><td><div class=\"dni-plaintext\"><pre>111</pre></div></td><td><div class=\"dni-plaintext\"><pre>&lt;null&gt;</pre></div></td><td><div class=\"dni-plaintext\"><pre>108.35999999999999</pre></div></td></tr><tr><td><i><div class=\"dni-plaintext\"><pre>3</pre></div></i></td><td>Amelia</td><td><div class=\"dni-plaintext\"><pre>64</pre></div></td><td><div class=\"dni-plaintext\"><pre>1.57</pre></div></td><td><div class=\"dni-plaintext\"><pre>121</pre></div></td><td><div class=\"dni-plaintext\"><pre>&lt;null&gt;</pre></div></td><td><div class=\"dni-plaintext\"><pre>150.72</pre></div></td></tr><tr><td><i><div class=\"dni-plaintext\"><pre>4</pre></div></i></td><td>Owen</td><td><div class=\"dni-plaintext\"><pre>35</pre></div></td><td><div class=\"dni-plaintext\"><pre>1.85</pre></div></td><td><div class=\"dni-plaintext\"><pre>131</pre></div></td><td><div class=\"dni-plaintext\"><pre>&lt;null&gt;</pre></div></td><td><div class=\"dni-plaintext\"><pre>97.125</pre></div></td></tr><tr><td><i><div class=\"dni-plaintext\"><pre>5</pre></div></i></td><td>Scott</td><td><div class=\"dni-plaintext\"><pre>36</pre></div></td><td><div class=\"dni-plaintext\"><pre>1.65</pre></div></td><td><div class=\"dni-plaintext\"><pre>178</pre></div></td><td><div class=\"dni-plaintext\"><pre>&lt;null&gt;</pre></div></td><td><div class=\"dni-plaintext\"><pre>89.1</pre></div></td></tr></tbody></table><style>\r\n",
       ".dni-code-hint {\r\n",
       "    font-style: italic;\r\n",
       "    overflow: hidden;\r\n",
       "    white-space: nowrap;\r\n",
       "}\r\n",
       ".dni-treeview {\r\n",
       "    white-space: nowrap;\r\n",
       "}\r\n",
       ".dni-treeview td {\r\n",
       "    vertical-align: top;\r\n",
       "    text-align: start;\r\n",
       "}\r\n",
       "details.dni-treeview {\r\n",
       "    padding-left: 1em;\r\n",
       "}\r\n",
       "table td {\r\n",
       "    text-align: start;\r\n",
       "}\r\n",
       "table tr { \r\n",
       "    vertical-align: top; \r\n",
       "    margin: 0em 0px;\r\n",
       "}\r\n",
       "table tr td pre \r\n",
       "{ \r\n",
       "    vertical-align: top !important; \r\n",
       "    margin: 0em 0px !important;\r\n",
       "} \r\n",
       "table th {\r\n",
       "    text-align: start;\r\n",
       "}\r\n",
       "</style>"
      ]
     },
     "metadata": {},
     "output_type": "display_data"
    }
   ],
   "source": [
    "string[] names = { \"Oliver\", \"Charlotte\", \"Henry\", \"Amelia\", \"Owen\" };\n",
    "int[] ages = { 23, 19, 42, 64, 35 };\n",
    "double[] heights = { 1.91, 1.62, 1.72, 1.57, 1.85 };\n",
    "DataFrameColumn[] columns = {\n",
    "    new StringDataFrameColumn(\"Name\", names),\n",
    "    new PrimitiveDataFrameColumn<int>(\"Age\", ages),\n",
    "    new PrimitiveDataFrameColumn<double>(\"Height\", heights)\n",
    "    };\n",
    "DataFrame df1 = new(columns);\n",
    "df1.Display();\n",
    "\n",
    "// ===========================================================================\n",
    "List<KeyValuePair<string, object>> newRowData = new()\n",
    "{\n",
    "    new KeyValuePair<string, object>(\"Name\", \"Scott\"),\n",
    "    new KeyValuePair<string, object>(\"Age\", 36),\n",
    "    new KeyValuePair<string, object>(\"Height\", 1.65),\n",
    "};\n",
    "df1.Append(newRowData, inPlace: true);\n",
    "df1.Display();\n",
    "\n",
    "// ===========================================================================\n",
    "int[] weights = { 123, 321, 111, 121, 131,178};\n",
    "PrimitiveDataFrameColumn<int> weightCol = new(\"Weight\", weights);\n",
    "df1.Columns.Add(weightCol);\n",
    "df1.Columns.Add(new PrimitiveDataFrameColumn<int>(\"Weight1\",df1.Rows.Count()));\n",
    "df1.Display();\n",
    "\n",
    "// ===========================================================================\n",
    "DataFrameColumn iqCol = df1[\"Age\"] * df1[\"Height\"] * 1.5;\n",
    "double[] iqs = Enumerable.Range(0, (int)iqCol.Length).Select(x => (double)iqCol[x]).ToArray();\n",
    "df1.Columns.Add(new PrimitiveDataFrameColumn<double>(\"IQ\", iqs));\n",
    "df1"
   ]
  },
  {
   "cell_type": "code",
   "execution_count": 168,
   "metadata": {
    "dotnet_interactive": {
     "language": "csharp"
    },
    "polyglot_notebook": {
     "kernelName": "csharp"
    },
    "vscode": {
     "languageId": "polyglot-notebook"
    }
   },
   "outputs": [],
   "source": [
    "public struct Coords\n",
    "{\n",
    "    public int x, y;\n",
    "    public Coords(int p1, int p2)\n",
    "    {\n",
    "        x = p1;\n",
    "        y = p2;\n",
    "    }\n",
    "}\n",
    "// Initialize:   \n",
    "Coords coords1 = new Coords();\n",
    "Coords coords2 = new Coords(10, 10);\n",
    "coords2"
   ]
  },
  {
   "cell_type": "code",
   "execution_count": 130,
   "metadata": {
    "dotnet_interactive": {
     "language": "csharp"
    },
    "polyglot_notebook": {
     "kernelName": "csharp"
    },
    "vscode": {
     "languageId": "polyglot-notebook"
    }
   },
   "outputs": [
    {
     "data": {
      "text/html": [
       "<table><thead><tr><th><i>index</i></th><th>value</th></tr></thead><tbody><tr><td>0</td><td><details class=\"dni-treeview\"><summary><span class=\"dni-code-hint\"><code>Submission#132+Member</code></span></summary><div><table><thead><tr></tr></thead><tbody><tr><td>Id</td><td><div class=\"dni-plaintext\"><pre>1</pre></div></td></tr><tr><td>Name</td><td><div class=\"dni-plaintext\"><pre>Amy</pre></div></td></tr><tr><td>Age</td><td><div class=\"dni-plaintext\"><pre>18</pre></div></td></tr><tr><td>AgeF</td><td><div class=\"dni-plaintext\"><pre>0</pre></div></td></tr></tbody></table></div></details></td></tr><tr><td>1</td><td><details class=\"dni-treeview\"><summary><span class=\"dni-code-hint\"><code>Submission#132+Member</code></span></summary><div><table><thead><tr></tr></thead><tbody><tr><td>Id</td><td><div class=\"dni-plaintext\"><pre>2</pre></div></td></tr><tr><td>Name</td><td><div class=\"dni-plaintext\"><pre>Bob</pre></div></td></tr><tr><td>Age</td><td><div class=\"dni-plaintext\"><pre>54</pre></div></td></tr><tr><td>AgeF</td><td><div class=\"dni-plaintext\"><pre>0</pre></div></td></tr></tbody></table></div></details></td></tr><tr><td>2</td><td><details class=\"dni-treeview\"><summary><span class=\"dni-code-hint\"><code>Submission#132+Member</code></span></summary><div><table><thead><tr></tr></thead><tbody><tr><td>Id</td><td><div class=\"dni-plaintext\"><pre>3</pre></div></td></tr><tr><td>Name</td><td><div class=\"dni-plaintext\"><pre>Carol</pre></div></td></tr><tr><td>Age</td><td><div class=\"dni-plaintext\"><pre>27</pre></div></td></tr><tr><td>AgeF</td><td><div class=\"dni-plaintext\"><pre>0</pre></div></td></tr></tbody></table></div></details></td></tr></tbody></table><style>\r\n",
       ".dni-code-hint {\r\n",
       "    font-style: italic;\r\n",
       "    overflow: hidden;\r\n",
       "    white-space: nowrap;\r\n",
       "}\r\n",
       ".dni-treeview {\r\n",
       "    white-space: nowrap;\r\n",
       "}\r\n",
       ".dni-treeview td {\r\n",
       "    vertical-align: top;\r\n",
       "    text-align: start;\r\n",
       "}\r\n",
       "details.dni-treeview {\r\n",
       "    padding-left: 1em;\r\n",
       "}\r\n",
       "table td {\r\n",
       "    text-align: start;\r\n",
       "}\r\n",
       "table tr { \r\n",
       "    vertical-align: top; \r\n",
       "    margin: 0em 0px;\r\n",
       "}\r\n",
       "table tr td pre \r\n",
       "{ \r\n",
       "    vertical-align: top !important; \r\n",
       "    margin: 0em 0px !important;\r\n",
       "} \r\n",
       "table th {\r\n",
       "    text-align: start;\r\n",
       "}\r\n",
       "</style>"
      ]
     },
     "metadata": {},
     "output_type": "display_data"
    },
    {
     "name": "stdout",
     "output_type": "stream",
     "text": [
      "18\n",
      "54\n",
      "27\n"
     ]
    },
    {
     "data": {
      "text/html": [
       "<details open=\"open\" class=\"dni-treeview\"><summary><span class=\"dni-code-hint\"><code>[ Submission#132+Member ]</code></span></summary><div><table><thead><tr></tr></thead><tbody><tr><td>Current</td><td><div class=\"dni-plaintext\"><pre>&lt;null&gt;</pre></div></td></tr><tr><td><i>(values)</i></td><td><table><thead><tr><th><i>index</i></th><th>value</th></tr></thead><tbody><tr><td>0</td><td><details class=\"dni-treeview\"><summary><span class=\"dni-code-hint\"><code>Submission#132+Member</code></span></summary><div><table><thead><tr></tr></thead><tbody><tr><td>Id</td><td><div class=\"dni-plaintext\"><pre>4</pre></div></td></tr><tr><td>Name</td><td><div class=\"dni-plaintext\"><pre>阿湯</pre></div></td></tr><tr><td>Age</td><td><div class=\"dni-plaintext\"><pre>0</pre></div></td></tr><tr><td>AgeF</td><td><div class=\"dni-plaintext\"><pre>35.123455</pre></div></td></tr></tbody></table></div></details></td></tr></tbody></table></td></tr></tbody></table></div></details><style>\r\n",
       ".dni-code-hint {\r\n",
       "    font-style: italic;\r\n",
       "    overflow: hidden;\r\n",
       "    white-space: nowrap;\r\n",
       "}\r\n",
       ".dni-treeview {\r\n",
       "    white-space: nowrap;\r\n",
       "}\r\n",
       ".dni-treeview td {\r\n",
       "    vertical-align: top;\r\n",
       "    text-align: start;\r\n",
       "}\r\n",
       "details.dni-treeview {\r\n",
       "    padding-left: 1em;\r\n",
       "}\r\n",
       "table td {\r\n",
       "    text-align: start;\r\n",
       "}\r\n",
       "table tr { \r\n",
       "    vertical-align: top; \r\n",
       "    margin: 0em 0px;\r\n",
       "}\r\n",
       "table tr td pre \r\n",
       "{ \r\n",
       "    vertical-align: top !important; \r\n",
       "    margin: 0em 0px !important;\r\n",
       "} \r\n",
       "table th {\r\n",
       "    text-align: start;\r\n",
       "}\r\n",
       "</style>"
      ]
     },
     "metadata": {},
     "output_type": "display_data"
    },
    {
     "name": "stdout",
     "output_type": "stream",
     "text": [
      "82\n",
      "15\n",
      "6\n",
      "4\n",
      "3\n",
      "2\n",
      "112\n",
      "15\n",
      "6\n"
     ]
    }
   ],
   "source": [
    "/*\n",
    "// Create a list of strings with initial elements\n",
    "List<string> names = new List<string> {\"Alice\", \"Bob\", \"Charlie\"};\n",
    "*/\n",
    "\n",
    "public class Member\n",
    "{\n",
    "    // Declare three properties with get and set accessors\n",
    "    public int Id { get; set; }\n",
    "    public string Name { get; set; }\n",
    "    public int Age { get; set; }\n",
    "    public float AgeF { get; set; }\n",
    "}\n",
    "\n",
    "List<Member> Members = new List<Member> {};\n",
    "Members.Add(new Member { Id = 1, Name = \"Amy\", Age = 18 });\n",
    "Members.Add(new Member { Id = 2, Name = \"Bob\", Age = 54 });\n",
    "Members.Add(new Member { Id = 3, Name = \"Carol\", Age = 27 });\n",
    "Members.Display();\n",
    "// foreach (var i in Members)  Console.WriteLine(i.Age);\n",
    "Members.Select(i=> i.Age).ToList().ForEach(Console.WriteLine);\n",
    "\n",
    "Member[] data = \n",
    "{\n",
    "    new Member() { Id = 4, Name = \"阿湯\", AgeF = 35.123456F },\n",
    "    new Member() { Id = 2, Name = \"寶爺\", AgeF = 15.02F },\n",
    "    new Member() { Id = 1, Name = \"Max\", AgeF = 55.0F }\n",
    "};\n",
    "// data.Display();\n",
    "data.Where(x => x.AgeF >= 16 && x.AgeF <= 50).Display();\n",
    "\n",
    "\n",
    "var a = new int[]{82, 2, 4, 3, 15, 6};\n",
    "a.OrderByDescending(m => m).ToList().ForEach(Console.WriteLine);\n",
    "Console.WriteLine(a.Sum());\n",
    "a.Where(i => i >= 6 && i != 82).ToList().ForEach(Console.WriteLine);"
   ]
  },
  {
   "cell_type": "code",
   "execution_count": 140,
   "metadata": {
    "dotnet_interactive": {
     "language": "csharp"
    },
    "polyglot_notebook": {
     "kernelName": "csharp"
    },
    "vscode": {
     "languageId": "polyglot-notebook"
    }
   },
   "outputs": [
    {
     "name": "stdout",
     "output_type": "stream",
     "text": [
      "79\n",
      "56\n",
      "57\n",
      "82\n",
      "88\n"
     ]
    },
    {
     "data": {
      "text/html": [
       "<div class=\"dni-plaintext\"><pre>[ 79, 56, 57, 82, 88 ]</pre></div><style>\r\n",
       ".dni-code-hint {\r\n",
       "    font-style: italic;\r\n",
       "    overflow: hidden;\r\n",
       "    white-space: nowrap;\r\n",
       "}\r\n",
       ".dni-treeview {\r\n",
       "    white-space: nowrap;\r\n",
       "}\r\n",
       ".dni-treeview td {\r\n",
       "    vertical-align: top;\r\n",
       "    text-align: start;\r\n",
       "}\r\n",
       "details.dni-treeview {\r\n",
       "    padding-left: 1em;\r\n",
       "}\r\n",
       "table td {\r\n",
       "    text-align: start;\r\n",
       "}\r\n",
       "table tr { \r\n",
       "    vertical-align: top; \r\n",
       "    margin: 0em 0px;\r\n",
       "}\r\n",
       "table tr td pre \r\n",
       "{ \r\n",
       "    vertical-align: top !important; \r\n",
       "    margin: 0em 0px !important;\r\n",
       "} \r\n",
       "table th {\r\n",
       "    text-align: start;\r\n",
       "}\r\n",
       "</style>"
      ]
     },
     "metadata": {},
     "output_type": "display_data"
    }
   ],
   "source": [
    "var num = new List<int>();\n",
    "for (int i = 1; i < 10; i++) {\n",
    "    num.Add(new Random().Next(1, 100));\n",
    "}\n",
    "\n",
    "num.Where(x => x > 50).ToList().ForEach(Console.WriteLine);\n",
    "\n",
    "var s = num.Where(x => x > 50).ToList();\n",
    "var ss = s.Select(y => \n",
    "                     {\n",
    "                         return y.ToString();\n",
    "                     }\n",
    "                  );\n",
    "ss"
   ]
  },
  {
   "cell_type": "markdown",
   "metadata": {},
   "source": [
    "# DateTime相關\n",
    "https://blog.darkthread.net/blog/get-ymd-between-two-dates/?fbclid=IwAR3QO85PenL5ZEuom4XMpwQNZAGGE0JYihOkqTsUFRjod7ZboLyxc6qpS0I\n",
    "\n",
    "https://blog.darkthread.net/blog/js-date-yyyymmdd-hhmmss/?fbclid=IwAR0vwC2Pj8Rlcpfz3tcCrAoWRFWzU6f5xiHgaereiPhwDSjiB8RsvfGYN1k"
   ]
  },
  {
   "cell_type": "code",
   "execution_count": 48,
   "metadata": {
    "dotnet_interactive": {
     "language": "csharp"
    },
    "polyglot_notebook": {
     "kernelName": "csharp"
    },
    "vscode": {
     "languageId": "polyglot-notebook"
    }
   },
   "outputs": [
    {
     "name": "stdout",
     "output_type": "stream",
     "text": [
      "75533.0450535\r\n"
     ]
    }
   ],
   "source": [
    "var t = (TimeSpan)(DateTime.Now - DateTime.Today);\n",
    "Console.WriteLine(t.TotalSeconds);"
   ]
  },
  {
   "cell_type": "code",
   "execution_count": null,
   "metadata": {
    "dotnet_interactive": {
     "language": "csharp"
    },
    "polyglot_notebook": {
     "kernelName": "csharp"
    },
    "vscode": {
     "languageId": "polyglot-notebook"
    }
   },
   "outputs": [],
   "source": [
    "DateTime.Now.ToString(\"HH:mm:ss\")\n",
    "\n",
    "DateTime i ;\n",
    "var bgn = new DateTime(2023, 3, 21, 13, 30, 25).ToString(\"HH:mm:ss\");\n",
    "DateTime.TryParse(bgn, out i);\n",
    "\n",
    "var bgn1 = new DateTime(2023, 3, 21, 13, 60, 25).ToString(\"HH:mm:ss\");\n",
    "DateTime.TryParse(bgn, out \"sfasdf\"); \n",
    "\n",
    "DateTime(bgn1) > DateTime(bgn)\n",
    "bgnyyyy/MM/dd \n",
    "\n",
    "bgn//.AddMinutes(90)\n",
    "new DateTime(2023, 7, 26, 15, 29, 30).Year\n",
    "new DateTime(2023, 7, 26, 15, 29, 30).Month\n",
    "new DateTime(2023, 7, 26, 15, 29, 30).Day"
   ]
  },
  {
   "cell_type": "code",
   "execution_count": 34,
   "metadata": {
    "dotnet_interactive": {
     "language": "csharp"
    },
    "polyglot_notebook": {
     "kernelName": "csharp"
    },
    "vscode": {
     "languageId": "polyglot-notebook"
    }
   },
   "outputs": [
    {
     "name": "stdout",
     "output_type": "stream",
     "text": [
      "2023/01/01 ~ 2024/02/01 共 1 年 1 個月又 0 天\n",
      "2010/01/15 ~ 2020/03/15 共 10 年 2 個月又 0 天\n",
      "2022/11/15 ~ 2023/01/21 共 0 年 2 個月又 6 天\n",
      "2023/02/28 ~ 2024/02/28 共 1 年 0 個月又 0 天\n",
      "2024/02/28 ~ 2025/02/28 共 1 年 0 個月又 0 天\n",
      "2021/05/15 ~ 2022/04/15 共 0 年 11 個月又 0 天\n",
      "2022/01/28 ~ 2022/03/01 共 0 年 1 個月又 1 天\n"
     ]
    }
   ],
   "source": [
    "(DateTime st, DateTime ed, int y, int m, int d) func(DateTime start, DateTime end){\n",
    "    \n",
    "    int years = (end.Year - start.Year);\n",
    "    int months = (end.Month - start.Month);\n",
    "    int days = (end.Day - start.Day);    \n",
    "\n",
    "    if (days < 0)\n",
    "    {\n",
    "        months--;\n",
    "        var lastMon = end.AddMonths(-1);\n",
    "        days += DateTime.DaysInMonth(lastMon.Year, lastMon.Month);\n",
    "    }\n",
    "\n",
    "    if (months < 0)\n",
    "    {\n",
    "        years--;\n",
    "        months += 12;\n",
    "    }\n",
    "    return (start, end, years, months, days);\n",
    "}\n",
    "\n",
    "var tests = new List<(DateTime st, DateTime ed)> {\n",
    "    (new DateTime(2023, 1, 1), new DateTime(2024, 2, 1)),\n",
    "    (new DateTime(2010, 1, 15), new DateTime(2020, 3, 15)),\n",
    "    (new DateTime(2022, 11, 15), new DateTime(2023, 1, 21)),\n",
    "    (new DateTime(2023, 2, 28), new DateTime(2024, 2, 28)),\n",
    "    (new DateTime(2024, 2, 28), new DateTime(2025, 2, 28)),\n",
    "    (new DateTime(2021, 5, 15), new DateTime(2022, 4, 15)),\n",
    "    (new DateTime(2022, 1, 28), new DateTime(2022, 3, 1))\t\n",
    "};\n",
    "\n",
    "foreach (var data in tests){\n",
    "    Print(func(data.st, data.ed));\n",
    "}\n",
    "\n",
    "void Print((DateTime from, DateTime to, int y, int m, int d) data) =>\n",
    "\tConsole.WriteLine($\"{data.from:yyyy/MM/dd} ~ {data.to:yyyy/MM/dd} 共 {data.y} 年 {data.m} 個月又 {data.d} 天\");"
   ]
  },
  {
   "cell_type": "code",
   "execution_count": null,
   "metadata": {
    "dotnet_interactive": {
     "language": "html"
    },
    "polyglot_notebook": {
     "kernelName": "html"
    },
    "vscode": {
     "languageId": "polyglot-notebook"
    }
   },
   "outputs": [],
   "source": [
    "<div>\n",
    "    <button onclick=\" document.getElementById('t').innerText = 'Hello world' \">\n",
    "        Say Hello\n",
    "    </button>\n",
    "    <span id=\"t\"></span>\n",
    "</div>"
   ]
  }
 ],
 "metadata": {
  "language_info": {
   "name": "python"
  },
  "orig_nbformat": 4
 },
 "nbformat": 4,
 "nbformat_minor": 2
}

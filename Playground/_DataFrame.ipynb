{
 "cells": [
  {
   "cell_type": "markdown",
   "metadata": {},
   "source": [
    "/*\n",
    " * 類與生俱來的屬性 public string MyProperty;\n",
    " * 類與生俱來的方法 public FuncKbar(){this.pBrand = pBrand}\n",
    " * 類的擴充方法     public int Method1(){ return 要是int即方式開頭宣告的type }\n",
    " * 類的擴充方法     public void Method2(int arg1, string arg2){ }\n",
    "- PascalNaming: MyNamespace/ MyClass/ MyMethod/ MyEnum/ MyProperty/         MyType/ Event/ Interface(前方要加大寫I，如IAppleCake)\n",
    "- camelNaming:  myParameter/ myVariable/ myField\n",
    "*/\n",
    "\n",
    "\n",
    "DataFrame df = DataFrame.LoadCsv(\"./df1.csv\");\n",
    "DataFrame.WriteCsv(df, \"df1.csv\", ',') "
   ]
  },
  {
   "cell_type": "code",
   "execution_count": null,
   "metadata": {
    "dotnet_interactive": {
     "language": "csharp"
    },
    "polyglot_notebook": {
     "kernelName": "csharp"
    },
    "vscode": {
     "languageId": "polyglot-notebook"
    }
   },
   "outputs": [],
   "source": [
    "Sum()  Mean()   Abs()  Median() Sort() CumulativeSum() \n",
    "ValueCounts() SetName(\"New_Close\")  PrettyPrint() PrettyText() \n",
    "df.Rows.Count\n",
    "df.Rows[1][4]; df.Columns[1][4]; df[5,3];\n",
    "PrimitiveDataFrameColumn<bool> df_ = df[\"Close\"].ElementwiseGreaterThan(17265);\n",
    "DataFrame abc = df.Filter(df_);\n",
    "List<DateTimeOffset> normalTime = df[\"ts\"].Select(t => DateTimeOffset.FromUnixTimeSeconds(t / 10000000L)).ToList();\n",
    "int.Parse(df[0,1].ToString()) + 10 得 16957\n",
    "\n",
    "\n",
    "<div>\n",
    "<button onclick = \" document.getElementById('t').innerText = 'Hello world' \">\n",
    "    Say Hello\n",
    "</button>\n",
    "<span id = \"t\" ></span>\n",
    "</div>"
   ]
  },
  {
   "cell_type": "code",
   "execution_count": 1,
   "metadata": {
    "dotnet_interactive": {
     "language": "csharp"
    },
    "polyglot_notebook": {
     "kernelName": "csharp"
    },
    "vscode": {
     "languageId": "polyglot-notebook"
    }
   },
   "outputs": [
    {
     "data": {
      "text/html": [
       "<div><div></div><div></div><div><strong>Installed Packages</strong><ul><li><span>Microsoft.Data.Analysis, 0.20.0-preview.22551.1</span></li></ul></div></div>"
      ]
     },
     "metadata": {},
     "output_type": "display_data"
    },
    {
     "data": {
      "text/plain": [
       "Loading extensions from `C:\\Users\\MAX\\.nuget\\packages\\microsoft.data.analysis\\0.20.0-preview.22551.1\\interactive-extensions\\dotnet\\Microsoft.Data.Analysis.Interactive.dll`"
      ]
     },
     "metadata": {},
     "output_type": "display_data"
    },
    {
     "ename": "Error",
     "evalue": "Failed to load kernel extension \"DataFrameKernelExtension\" from assembly C:\\Users\\MAX\\.nuget\\packages\\microsoft.data.analysis\\0.20.0-preview.22551.1\\interactive-extensions\\dotnet\\Microsoft.Data.Analysis.Interactive.dll",
     "output_type": "error",
     "traceback": [
      "Failed to load kernel extension \"DataFrameKernelExtension\" from assembly C:\\Users\\MAX\\.nuget\\packages\\microsoft.data.analysis\\0.20.0-preview.22551.1\\interactive-extensions\\dotnet\\Microsoft.Data.Analysis.Interactive.dll"
     ]
    },
    {
     "ename": "Error",
     "evalue": "Microsoft.DotNet.Interactive.KernelExtensionLoadException: Failure loading Kernel Extension\r\n ---> System.MissingMethodException: Method not found: 'Void Microsoft.DotNet.Interactive.Commands.SubmitCode..ctor(System.String, System.String, Microsoft.DotNet.Interactive.Commands.SubmissionType)'.\r\n   at Microsoft.Data.Analysis.Interactive.DataFrameKernelExtension.LoadExtensionApiAsync(Kernel cSharpKernel)\r\n   at System.Runtime.CompilerServices.AsyncMethodBuilderCore.Start[TStateMachine](TStateMachine& stateMachine)\r\n   at Microsoft.Data.Analysis.Interactive.DataFrameKernelExtension.LoadExtensionApiAsync(Kernel cSharpKernel)\r\n   at Microsoft.Data.Analysis.Interactive.DataFrameKernelExtension.OnLoadAsync(Kernel kernel)\r\n   at Microsoft.DotNet.Interactive.App.PackageDirectoryExtensionLoader.LoadFromAssemblyFile(FileInfo assemblyFile, Kernel kernel, KernelInvocationContext context) in D:\\a\\_work\\1\\s\\src\\dotnet-interactive\\PackageDirectoryExtensionLoader.cs:line 124\r\n   --- End of inner exception stack trace ---",
     "output_type": "error",
     "traceback": [
      "Microsoft.DotNet.Interactive.KernelExtensionLoadException: Failure loading Kernel Extension\r\n",
      " ---> System.MissingMethodException: Method not found: 'Void Microsoft.DotNet.Interactive.Commands.SubmitCode..ctor(System.String, System.String, Microsoft.DotNet.Interactive.Commands.SubmissionType)'.\r\n",
      "   at Microsoft.Data.Analysis.Interactive.DataFrameKernelExtension.LoadExtensionApiAsync(Kernel cSharpKernel)\r\n",
      "   at System.Runtime.CompilerServices.AsyncMethodBuilderCore.Start[TStateMachine](TStateMachine& stateMachine)\r\n",
      "   at Microsoft.Data.Analysis.Interactive.DataFrameKernelExtension.LoadExtensionApiAsync(Kernel cSharpKernel)\r\n",
      "   at Microsoft.Data.Analysis.Interactive.DataFrameKernelExtension.OnLoadAsync(Kernel kernel)\r\n",
      "   at Microsoft.DotNet.Interactive.App.PackageDirectoryExtensionLoader.LoadFromAssemblyFile(FileInfo assemblyFile, Kernel kernel, KernelInvocationContext context) in D:\\a\\_work\\1\\s\\src\\dotnet-interactive\\PackageDirectoryExtensionLoader.cs:line 124\r\n",
      "   --- End of inner exception stack trace ---"
     ]
    }
   ],
   "source": [
    "#r \"nuget: Microsoft.Data.Analysis, 0.20.0-preview.22356.1\"\n",
    "using Microsoft.Data.Analysis;\n",
    "using System.Data;"
   ]
  },
  {
   "cell_type": "markdown",
   "metadata": {},
   "source": [
    "# 自建df的基礎操作\n",
    "``` .NET Framework\n",
    "DataFrame df = DataFrame.LoadCsv(\"./df1.csv\");\n",
    "DataFrame.WriteCsv(df, \"df1.csv\", ',') \n",
    "```"
   ]
  },
  {
   "cell_type": "code",
   "execution_count": 3,
   "metadata": {
    "dotnet_interactive": {
     "language": "csharp"
    },
    "polyglot_notebook": {
     "kernelName": "csharp"
    },
    "vscode": {
     "languageId": "polyglot-notebook"
    }
   },
   "outputs": [
    {
     "ename": "Error",
     "evalue": "(2,8): error CS0246: The type or namespace name 'DataTable' could not be found (are you missing a using directive or an assembly reference?)\r\n(16,1): error CS0246: The type or namespace name 'DataTable' could not be found (are you missing a using directive or an assembly reference?)\r\n(4,5): error CS0246: The type or namespace name 'DataTable' could not be found (are you missing a using directive or an assembly reference?)\r\n(4,27): error CS0246: The type or namespace name 'DataTable' could not be found (are you missing a using directive or an assembly reference?)",
     "output_type": "error",
     "traceback": [
      "(2,8): error CS0246: The type or namespace name 'DataTable' could not be found (are you missing a using directive or an assembly reference?)\r\n",
      "(16,1): error CS0246: The type or namespace name 'DataTable' could not be found (are you missing a using directive or an assembly reference?)\r\n",
      "(4,5): error CS0246: The type or namespace name 'DataTable' could not be found (are you missing a using directive or an assembly reference?)\r\n",
      "(4,27): error CS0246: The type or namespace name 'DataTable' could not be found (are you missing a using directive or an assembly reference?)"
     ]
    }
   ],
   "source": [
    "// 先建立資料表結構與測試資料\n",
    "static DataTable GetTable()\n",
    "{\n",
    "    DataTable table = new DataTable();\n",
    "    table.Columns.Add(\"ID\", typeof(int));\n",
    "    table.Columns.Add(\"Name\", typeof(string));\n",
    "    table.Columns.Add(\"BirthYear\", typeof(int));\n",
    "    table.Columns.Add(\"City\", typeof(string));\n",
    "    table.Rows.Add(1, \"Ming\", 1990, \"Taipei\");\n",
    "    table.Rows.Add(2, \"Alice\", 1991, \"Taichung\");\n",
    "    table.Rows.Add(3, \"Belly\", 1992, \"Kaohsiung\");\n",
    "    table.Rows.Add(4, \"Peter\", 1993, \"Taipei\");\n",
    "    return table;\n",
    "}\n",
    "\n",
    "DataTable table = GetTable();\n",
    "// 取得資料表中 City 欄位以 Tai 開始的資料列 ID，使用 ?? 避免 null\n",
    "var result = from r in table.AsEnumerable()\n",
    "            where (r.Field<string>(\"City\")?? string.Empty).StartsWith(\"Tai\") \n",
    "            select r.Field<int>(\"ID\");\n",
    "table.Display();\n",
    "\n",
    "foreach(var r in result)\n",
    "{\n",
    "    Console.WriteLine(r);\n",
    "}     "
   ]
  },
  {
   "cell_type": "code",
   "execution_count": 5,
   "metadata": {
    "dotnet_interactive": {
     "language": "csharp"
    },
    "polyglot_notebook": {
     "kernelName": "csharp"
    },
    "vscode": {
     "languageId": "polyglot-notebook"
    }
   },
   "outputs": [
    {
     "name": "stdout",
     "output_type": "stream",
     "text": [
      "TXFR1\n",
      "YES\n",
      "-1\n"
     ]
    }
   ],
   "source": [
    "enum _contract_list : int\n",
    "{\n",
    "    TXFR1 = 1, MXF = 2, TX216850 = 3\n",
    "}\n",
    "\n",
    "enum _contract_list1\n",
    "{\n",
    "    TXFR1, MXF, TX216850\n",
    "}\n",
    "Console.WriteLine(_contract_list1.TXFR1);\n",
    "\n",
    "\n",
    "\n",
    "enum Day { Sunday, Monday, Tuesday, Wednesday, Thursday, Friday, Saturday };\n",
    "Day today = Day.Sunday;\n",
    "if(today != Day.Monday)\n",
    "{\n",
    "    Console.WriteLine(\"YES\");\n",
    "}\n",
    "\n",
    "int? x = null;\n",
    "int y = x ?? -1;\n",
    "Console.WriteLine(y);  //  ?? 運算子，若左邊變數不為 null，則回傳左邊變數；若左邊變數數值為 null，則回傳右邊數值。"
   ]
  },
  {
   "cell_type": "code",
   "execution_count": null,
   "metadata": {
    "dotnet_interactive": {
     "language": "csharp"
    },
    "polyglot_notebook": {
     "kernelName": "csharp"
    },
    "vscode": {
     "languageId": "polyglot-notebook"
    }
   },
   "outputs": [],
   "source": [
    "Stack sk = new Stack(); //LIFO\n",
    "sk.Push(5);\n",
    "sk.Push(65);\n",
    "sk.Pop();\n",
    "sk\n",
    "\n",
    "Queue qe = new Queue();  //FIFO\n",
    "qe.Enqueue(5);\n",
    "qe.Enqueue(7);\n",
    "qe.Dequeue();\n",
    "qe"
   ]
  },
  {
   "cell_type": "code",
   "execution_count": null,
   "metadata": {
    "dotnet_interactive": {
     "language": "csharp"
    },
    "polyglot_notebook": {
     "kernelName": "csharp"
    },
    "vscode": {
     "languageId": "polyglot-notebook"
    }
   },
   "outputs": [],
   "source": [
    "var op = new { age = 2};\n",
    "op"
   ]
  },
  {
   "cell_type": "code",
   "execution_count": 6,
   "metadata": {
    "dotnet_interactive": {
     "language": "csharp"
    },
    "polyglot_notebook": {
     "kernelName": "csharp"
    },
    "vscode": {
     "languageId": "polyglot-notebook"
    }
   },
   "outputs": [
    {
     "ename": "Error",
     "evalue": "System.ArgumentException: 無效的列舉值 (Parameter 'inputValue')\r\n   at Submission#8.<<Initialize>>d__0.MoveNext()\r\n--- End of stack trace from previous location ---\r\n   at Microsoft.CodeAnalysis.Scripting.ScriptExecutionState.RunSubmissionsAsync[TResult](ImmutableArray`1 precedingExecutors, Func`2 currentExecutor, StrongBox`1 exceptionHolderOpt, Func`2 catchExceptionOpt, CancellationToken cancellationToken)",
     "output_type": "error",
     "traceback": [
      "System.ArgumentException: 無效的列舉值 (Parameter 'inputValue')\r\n",
      "   at Submission#8.<<Initialize>>d__0.MoveNext()\r\n",
      "--- End of stack trace from previous location ---\r\n",
      "   at Microsoft.CodeAnalysis.Scripting.ScriptExecutionState.RunSubmissionsAsync[TResult](ImmutableArray`1 precedingExecutors, Func`2 currentExecutor, StrongBox`1 exceptionHolderOpt, Func`2 catchExceptionOpt, CancellationToken cancellationToken)"
     ]
    }
   ],
   "source": [
    "int inputValue = 878;\n",
    "// Switch expression to return a string based on the input value\n",
    "string result = inputValue switch\n",
    "{\n",
    "    1 => \"One\",\n",
    "    2 => \"Two\",\n",
    "    3 => \"Three\",\n",
    "    _ => throw new ArgumentException(message: \"無效的列舉值\", paramName: nameof(inputValue))\n",
    "};\n",
    "\n",
    "Console.WriteLine($\"The result for input {inputValue} is: {result}\");"
   ]
  },
  {
   "cell_type": "code",
   "execution_count": 44,
   "metadata": {
    "dotnet_interactive": {
     "language": "csharp"
    },
    "polyglot_notebook": {
     "kernelName": "csharp"
    },
    "vscode": {
     "languageId": "polyglot-notebook"
    }
   },
   "outputs": [
    {
     "name": "stdout",
     "output_type": "stream",
     "text": [
      "131\r\n"
     ]
    },
    {
     "data": {
      "text/html": [
       "<div class=\"dni-plaintext\"><pre>[ 123, 321, 111, 121 ]</pre></div><style>\r\n",
       ".dni-code-hint {\r\n",
       "    font-style: italic;\r\n",
       "    overflow: hidden;\r\n",
       "    white-space: nowrap;\r\n",
       "}\r\n",
       ".dni-treeview {\r\n",
       "    white-space: nowrap;\r\n",
       "}\r\n",
       ".dni-treeview td {\r\n",
       "    vertical-align: top;\r\n",
       "    text-align: start;\r\n",
       "}\r\n",
       "details.dni-treeview {\r\n",
       "    padding-left: 1em;\r\n",
       "}\r\n",
       "table td {\r\n",
       "    text-align: start;\r\n",
       "}\r\n",
       "table tr { \r\n",
       "    vertical-align: top; \r\n",
       "    margin: 0em 0px;\r\n",
       "}\r\n",
       "table tr td pre \r\n",
       "{ \r\n",
       "    vertical-align: top !important; \r\n",
       "    margin: 0em 0px !important;\r\n",
       "} \r\n",
       "table th {\r\n",
       "    text-align: start;\r\n",
       "}\r\n",
       "</style>"
      ]
     },
     "metadata": {},
     "output_type": "display_data"
    }
   ],
   "source": [
    "int[] Weight =        new int[] { 123, 321, 111, 121, 131 };\n",
    "// string[] Name =       new string[] { \"Oliver\", \"Charlotte\", \"Henry\", \"Amelia\", \"Owen\"};\n",
    "// string[] categories = new string[] { \"A\", \"B\", \"C\", \"D\", \"E\" };\n",
    "Console.WriteLine(Weight[^1]);\n",
    "Weight[2..^1]  // 索引一段範圍，計頭不計尾，也可以Weight[..^1]或Weight[2.1]\n",
    "// new List<int> ls0                               = new List<int> {123, 321, 111, 121, 131};\n",
    "// PrimitiveDataFrameColumn<int> ls1 = new(\"Weight\", new List<int> {123, 321, 111, 121, 131});\n",
    "// PrimitiveDataFrameColumn<int> ls2 = new(\"Weight\", new int[]     {123, 321, 111, 121, 131});\n",
    "\n",
    "// ls0.Display(); \n",
    "// ls1.Display();\n",
    "// ls2.Display();\n",
    "\n",
    "\n",
    "\n",
    "// DataFrame lsToDf = new(ls2);\n",
    "// lsToDf.Display();\n",
    "\n",
    "// StringDataFrameColumn ls3 = new (\"Name\", new List<string> {\"Oliver\", \"Charlotte\", \"Henry\", \"Amelia\", \"Owen\"});\n",
    "// DataFrame df = new(ls, ls3);\n",
    "// df.Display();\n",
    "\n",
    "// var df1 = new DataFrame();\n",
    "// df1[\"X\"] = DataFrameColumn.Create(\"X\", new List<int> { 123, 321, 111, 121, 131});\n",
    "// df1[\"y\"] = DataFrameColumn.Create(\"y\", new List<string> {\"Oliver\", \"Charlotte\", \"Henry\", \"Amelia\", \"Owen\"});\n",
    "// df1[\"j\"] = DataFrameColumn.Create(\"j\", new List<int> { 1, 3, 8, 7, 9});\n",
    "// df1[\"a\"] = DataFrameColumn.Create(\"a\", new List<float> { 1.1F, 3.3F, 8.5F, 7.7F, 9.99F});\n",
    "// df1.Display();\n",
    "\n",
    "// df1.Columns.Select(x => x.Name).Where(x => x !=\"z\").Display();\n",
    "\n",
    "// var mse = (df1[\"X\"] - df1[\"j\"]).Cast<int>().Select(x => x / 10).Max().Display();\n",
    "// df1[\"a\"].Divide(2.54).Round().Display();\n",
    "// df1.Columns.Remove(\"a\");\n",
    "// df1.OrderBy(\"j\").Display();"
   ]
  },
  {
   "cell_type": "code",
   "execution_count": 7,
   "metadata": {
    "dotnet_interactive": {
     "language": "csharp"
    },
    "polyglot_notebook": {
     "kernelName": "csharp"
    },
    "vscode": {
     "languageId": "polyglot-notebook"
    }
   },
   "outputs": [
    {
     "name": "stdout",
     "output_type": "stream",
     "text": [
      "鍵: state, 值: System.String[]\n",
      "鍵: year, 值: System.Int32[]\n"
     ]
    },
    {
     "data": {
      "text/html": [
       "<table><thead><tr><th><i>index</i></th><th>value</th></tr></thead><tbody><tr><td>0</td><td><details class=\"dni-treeview\"><summary><span class=\"dni-code-hint\"><code>[Name, Scott]</code></span></summary><div><table><thead><tr></tr></thead><tbody><tr><td>Key</td><td><div class=\"dni-plaintext\"><pre>Name</pre></div></td></tr><tr><td>Value</td><td><div class=\"dni-plaintext\"><pre>Scott</pre></div></td></tr></tbody></table></div></details></td></tr><tr><td>1</td><td><details class=\"dni-treeview\"><summary><span class=\"dni-code-hint\"><code>[Age, 36]</code></span></summary><div><table><thead><tr></tr></thead><tbody><tr><td>Key</td><td><div class=\"dni-plaintext\"><pre>Age</pre></div></td></tr><tr><td>Value</td><td><div class=\"dni-plaintext\"><pre>36</pre></div></td></tr></tbody></table></div></details></td></tr><tr><td>2</td><td><details class=\"dni-treeview\"><summary><span class=\"dni-code-hint\"><code>[Height, 1.65]</code></span></summary><div><table><thead><tr></tr></thead><tbody><tr><td>Key</td><td><div class=\"dni-plaintext\"><pre>Height</pre></div></td></tr><tr><td>Value</td><td><div class=\"dni-plaintext\"><pre>1.65</pre></div></td></tr></tbody></table></div></details></td></tr></tbody></table><style>\r\n",
       ".dni-code-hint {\r\n",
       "    font-style: italic;\r\n",
       "    overflow: hidden;\r\n",
       "    white-space: nowrap;\r\n",
       "}\r\n",
       ".dni-treeview {\r\n",
       "    white-space: nowrap;\r\n",
       "}\r\n",
       ".dni-treeview td {\r\n",
       "    vertical-align: top;\r\n",
       "    text-align: start;\r\n",
       "}\r\n",
       "details.dni-treeview {\r\n",
       "    padding-left: 1em;\r\n",
       "}\r\n",
       "table td {\r\n",
       "    text-align: start;\r\n",
       "}\r\n",
       "table tr { \r\n",
       "    vertical-align: top; \r\n",
       "    margin: 0em 0px;\r\n",
       "}\r\n",
       "table tr td pre \r\n",
       "{ \r\n",
       "    vertical-align: top !important; \r\n",
       "    margin: 0em 0px !important;\r\n",
       "} \r\n",
       "table th {\r\n",
       "    text-align: start;\r\n",
       "}\r\n",
       "</style>"
      ]
     },
     "metadata": {},
     "output_type": "display_data"
    }
   ],
   "source": [
    "var data = new Dictionary<string, object> // Dictionary<string, object> data = new Dictionary<string, object>\n",
    "{\n",
    "    {\"state\", new string[] { \"Ohio\", \"Ohio\", \"Ohio\", \"Nevada\", \"Nevada\"}},\n",
    "    { \"year\", new int[] { 2000, 2001, 2002, 2001, 2002 }}\n",
    "};\n",
    "// data.Display();\n",
    "foreach(var kv in data)\n",
    "{\n",
    "    Console.WriteLine(\"鍵: \" + kv.Key + \", 值: \" + kv.Value);    \n",
    "}\n",
    "\n",
    "List<KeyValuePair<string, object>> newRowData = new()\n",
    "{\n",
    "    new KeyValuePair<string, object>(\"Name\", \"Scott\"),\n",
    "    new KeyValuePair<string, object>(\"Age\", 36),\n",
    "    new KeyValuePair<string, object>(\"Height\", 1.65),\n",
    "};\n",
    "newRowData.Display()"
   ]
  },
  {
   "cell_type": "code",
   "execution_count": 8,
   "metadata": {
    "dotnet_interactive": {
     "language": "csharp"
    },
    "polyglot_notebook": {
     "kernelName": "csharp"
    },
    "vscode": {
     "languageId": "polyglot-notebook"
    }
   },
   "outputs": [
    {
     "data": {
      "text/html": [
       "<table id=\"table_638270920835571495\"><thead><tr><th><i>index</i></th><th>Name</th><th>Age</th><th>Height</th></tr></thead><tbody><tr><td><i><div class=\"dni-plaintext\"><pre>0</pre></div></i></td><td>Oliver</td><td><div class=\"dni-plaintext\"><pre>23</pre></div></td><td><div class=\"dni-plaintext\"><pre>1.91</pre></div></td></tr><tr><td><i><div class=\"dni-plaintext\"><pre>1</pre></div></i></td><td>Charlotte</td><td><div class=\"dni-plaintext\"><pre>19</pre></div></td><td><div class=\"dni-plaintext\"><pre>1.62</pre></div></td></tr><tr><td><i><div class=\"dni-plaintext\"><pre>2</pre></div></i></td><td>Henry</td><td><div class=\"dni-plaintext\"><pre>42</pre></div></td><td><div class=\"dni-plaintext\"><pre>1.72</pre></div></td></tr><tr><td><i><div class=\"dni-plaintext\"><pre>3</pre></div></i></td><td>Amelia</td><td><div class=\"dni-plaintext\"><pre>64</pre></div></td><td><div class=\"dni-plaintext\"><pre>1.57</pre></div></td></tr><tr><td><i><div class=\"dni-plaintext\"><pre>4</pre></div></i></td><td>Owen</td><td><div class=\"dni-plaintext\"><pre>35</pre></div></td><td><div class=\"dni-plaintext\"><pre>1.85</pre></div></td></tr></tbody></table><style>\r\n",
       ".dni-code-hint {\r\n",
       "    font-style: italic;\r\n",
       "    overflow: hidden;\r\n",
       "    white-space: nowrap;\r\n",
       "}\r\n",
       ".dni-treeview {\r\n",
       "    white-space: nowrap;\r\n",
       "}\r\n",
       ".dni-treeview td {\r\n",
       "    vertical-align: top;\r\n",
       "    text-align: start;\r\n",
       "}\r\n",
       "details.dni-treeview {\r\n",
       "    padding-left: 1em;\r\n",
       "}\r\n",
       "table td {\r\n",
       "    text-align: start;\r\n",
       "}\r\n",
       "table tr { \r\n",
       "    vertical-align: top; \r\n",
       "    margin: 0em 0px;\r\n",
       "}\r\n",
       "table tr td pre \r\n",
       "{ \r\n",
       "    vertical-align: top !important; \r\n",
       "    margin: 0em 0px !important;\r\n",
       "} \r\n",
       "table th {\r\n",
       "    text-align: start;\r\n",
       "}\r\n",
       "</style>"
      ]
     },
     "metadata": {},
     "output_type": "display_data"
    },
    {
     "data": {
      "text/html": [
       "<table id=\"table_638270920835749467\"><thead><tr><th><i>index</i></th><th>Name</th><th>Age</th><th>Height</th></tr></thead><tbody><tr><td><i><div class=\"dni-plaintext\"><pre>0</pre></div></i></td><td>Oliver</td><td><div class=\"dni-plaintext\"><pre>23</pre></div></td><td><div class=\"dni-plaintext\"><pre>1.91</pre></div></td></tr><tr><td><i><div class=\"dni-plaintext\"><pre>1</pre></div></i></td><td>Charlotte</td><td><div class=\"dni-plaintext\"><pre>19</pre></div></td><td><div class=\"dni-plaintext\"><pre>1.62</pre></div></td></tr><tr><td><i><div class=\"dni-plaintext\"><pre>2</pre></div></i></td><td>Henry</td><td><div class=\"dni-plaintext\"><pre>42</pre></div></td><td><div class=\"dni-plaintext\"><pre>1.72</pre></div></td></tr><tr><td><i><div class=\"dni-plaintext\"><pre>3</pre></div></i></td><td>Amelia</td><td><div class=\"dni-plaintext\"><pre>64</pre></div></td><td><div class=\"dni-plaintext\"><pre>1.57</pre></div></td></tr><tr><td><i><div class=\"dni-plaintext\"><pre>4</pre></div></i></td><td>Owen</td><td><div class=\"dni-plaintext\"><pre>35</pre></div></td><td><div class=\"dni-plaintext\"><pre>1.85</pre></div></td></tr><tr><td><i><div class=\"dni-plaintext\"><pre>5</pre></div></i></td><td>Scott</td><td><div class=\"dni-plaintext\"><pre>36</pre></div></td><td><div class=\"dni-plaintext\"><pre>1.65</pre></div></td></tr></tbody></table><style>\r\n",
       ".dni-code-hint {\r\n",
       "    font-style: italic;\r\n",
       "    overflow: hidden;\r\n",
       "    white-space: nowrap;\r\n",
       "}\r\n",
       ".dni-treeview {\r\n",
       "    white-space: nowrap;\r\n",
       "}\r\n",
       ".dni-treeview td {\r\n",
       "    vertical-align: top;\r\n",
       "    text-align: start;\r\n",
       "}\r\n",
       "details.dni-treeview {\r\n",
       "    padding-left: 1em;\r\n",
       "}\r\n",
       "table td {\r\n",
       "    text-align: start;\r\n",
       "}\r\n",
       "table tr { \r\n",
       "    vertical-align: top; \r\n",
       "    margin: 0em 0px;\r\n",
       "}\r\n",
       "table tr td pre \r\n",
       "{ \r\n",
       "    vertical-align: top !important; \r\n",
       "    margin: 0em 0px !important;\r\n",
       "} \r\n",
       "table th {\r\n",
       "    text-align: start;\r\n",
       "}\r\n",
       "</style>"
      ]
     },
     "metadata": {},
     "output_type": "display_data"
    },
    {
     "data": {
      "text/html": [
       "<table id=\"table_638270920835759946\"><thead><tr><th><i>index</i></th><th>Name</th><th>Age</th><th>Height</th><th>Weight</th><th>Weight1</th></tr></thead><tbody><tr><td><i><div class=\"dni-plaintext\"><pre>0</pre></div></i></td><td>Oliver</td><td><div class=\"dni-plaintext\"><pre>23</pre></div></td><td><div class=\"dni-plaintext\"><pre>1.91</pre></div></td><td><div class=\"dni-plaintext\"><pre>123</pre></div></td><td><div class=\"dni-plaintext\"><pre>&lt;null&gt;</pre></div></td></tr><tr><td><i><div class=\"dni-plaintext\"><pre>1</pre></div></i></td><td>Charlotte</td><td><div class=\"dni-plaintext\"><pre>19</pre></div></td><td><div class=\"dni-plaintext\"><pre>1.62</pre></div></td><td><div class=\"dni-plaintext\"><pre>321</pre></div></td><td><div class=\"dni-plaintext\"><pre>&lt;null&gt;</pre></div></td></tr><tr><td><i><div class=\"dni-plaintext\"><pre>2</pre></div></i></td><td>Henry</td><td><div class=\"dni-plaintext\"><pre>42</pre></div></td><td><div class=\"dni-plaintext\"><pre>1.72</pre></div></td><td><div class=\"dni-plaintext\"><pre>111</pre></div></td><td><div class=\"dni-plaintext\"><pre>&lt;null&gt;</pre></div></td></tr><tr><td><i><div class=\"dni-plaintext\"><pre>3</pre></div></i></td><td>Amelia</td><td><div class=\"dni-plaintext\"><pre>64</pre></div></td><td><div class=\"dni-plaintext\"><pre>1.57</pre></div></td><td><div class=\"dni-plaintext\"><pre>121</pre></div></td><td><div class=\"dni-plaintext\"><pre>&lt;null&gt;</pre></div></td></tr><tr><td><i><div class=\"dni-plaintext\"><pre>4</pre></div></i></td><td>Owen</td><td><div class=\"dni-plaintext\"><pre>35</pre></div></td><td><div class=\"dni-plaintext\"><pre>1.85</pre></div></td><td><div class=\"dni-plaintext\"><pre>131</pre></div></td><td><div class=\"dni-plaintext\"><pre>&lt;null&gt;</pre></div></td></tr><tr><td><i><div class=\"dni-plaintext\"><pre>5</pre></div></i></td><td>Scott</td><td><div class=\"dni-plaintext\"><pre>36</pre></div></td><td><div class=\"dni-plaintext\"><pre>1.65</pre></div></td><td><div class=\"dni-plaintext\"><pre>178</pre></div></td><td><div class=\"dni-plaintext\"><pre>&lt;null&gt;</pre></div></td></tr></tbody></table><style>\r\n",
       ".dni-code-hint {\r\n",
       "    font-style: italic;\r\n",
       "    overflow: hidden;\r\n",
       "    white-space: nowrap;\r\n",
       "}\r\n",
       ".dni-treeview {\r\n",
       "    white-space: nowrap;\r\n",
       "}\r\n",
       ".dni-treeview td {\r\n",
       "    vertical-align: top;\r\n",
       "    text-align: start;\r\n",
       "}\r\n",
       "details.dni-treeview {\r\n",
       "    padding-left: 1em;\r\n",
       "}\r\n",
       "table td {\r\n",
       "    text-align: start;\r\n",
       "}\r\n",
       "table tr { \r\n",
       "    vertical-align: top; \r\n",
       "    margin: 0em 0px;\r\n",
       "}\r\n",
       "table tr td pre \r\n",
       "{ \r\n",
       "    vertical-align: top !important; \r\n",
       "    margin: 0em 0px !important;\r\n",
       "} \r\n",
       "table th {\r\n",
       "    text-align: start;\r\n",
       "}\r\n",
       "</style>"
      ]
     },
     "metadata": {},
     "output_type": "display_data"
    },
    {
     "data": {
      "text/html": [
       "<table id=\"table_638270920835916052\"><thead><tr><th><i>index</i></th><th>Name</th><th>Age</th><th>Height</th><th>Weight</th><th>Weight1</th><th>IQ</th></tr></thead><tbody><tr><td><i><div class=\"dni-plaintext\"><pre>0</pre></div></i></td><td>Oliver</td><td><div class=\"dni-plaintext\"><pre>23</pre></div></td><td><div class=\"dni-plaintext\"><pre>1.91</pre></div></td><td><div class=\"dni-plaintext\"><pre>123</pre></div></td><td><div class=\"dni-plaintext\"><pre>&lt;null&gt;</pre></div></td><td><div class=\"dni-plaintext\"><pre>65.895</pre></div></td></tr><tr><td><i><div class=\"dni-plaintext\"><pre>1</pre></div></i></td><td>Charlotte</td><td><div class=\"dni-plaintext\"><pre>19</pre></div></td><td><div class=\"dni-plaintext\"><pre>1.62</pre></div></td><td><div class=\"dni-plaintext\"><pre>321</pre></div></td><td><div class=\"dni-plaintext\"><pre>&lt;null&gt;</pre></div></td><td><div class=\"dni-plaintext\"><pre>46.17</pre></div></td></tr><tr><td><i><div class=\"dni-plaintext\"><pre>2</pre></div></i></td><td>Henry</td><td><div class=\"dni-plaintext\"><pre>42</pre></div></td><td><div class=\"dni-plaintext\"><pre>1.72</pre></div></td><td><div class=\"dni-plaintext\"><pre>111</pre></div></td><td><div class=\"dni-plaintext\"><pre>&lt;null&gt;</pre></div></td><td><div class=\"dni-plaintext\"><pre>108.35999999999999</pre></div></td></tr><tr><td><i><div class=\"dni-plaintext\"><pre>3</pre></div></i></td><td>Amelia</td><td><div class=\"dni-plaintext\"><pre>64</pre></div></td><td><div class=\"dni-plaintext\"><pre>1.57</pre></div></td><td><div class=\"dni-plaintext\"><pre>121</pre></div></td><td><div class=\"dni-plaintext\"><pre>&lt;null&gt;</pre></div></td><td><div class=\"dni-plaintext\"><pre>150.72</pre></div></td></tr><tr><td><i><div class=\"dni-plaintext\"><pre>4</pre></div></i></td><td>Owen</td><td><div class=\"dni-plaintext\"><pre>35</pre></div></td><td><div class=\"dni-plaintext\"><pre>1.85</pre></div></td><td><div class=\"dni-plaintext\"><pre>131</pre></div></td><td><div class=\"dni-plaintext\"><pre>&lt;null&gt;</pre></div></td><td><div class=\"dni-plaintext\"><pre>97.125</pre></div></td></tr><tr><td><i><div class=\"dni-plaintext\"><pre>5</pre></div></i></td><td>Scott</td><td><div class=\"dni-plaintext\"><pre>36</pre></div></td><td><div class=\"dni-plaintext\"><pre>1.65</pre></div></td><td><div class=\"dni-plaintext\"><pre>178</pre></div></td><td><div class=\"dni-plaintext\"><pre>&lt;null&gt;</pre></div></td><td><div class=\"dni-plaintext\"><pre>89.1</pre></div></td></tr></tbody></table><style>\r\n",
       ".dni-code-hint {\r\n",
       "    font-style: italic;\r\n",
       "    overflow: hidden;\r\n",
       "    white-space: nowrap;\r\n",
       "}\r\n",
       ".dni-treeview {\r\n",
       "    white-space: nowrap;\r\n",
       "}\r\n",
       ".dni-treeview td {\r\n",
       "    vertical-align: top;\r\n",
       "    text-align: start;\r\n",
       "}\r\n",
       "details.dni-treeview {\r\n",
       "    padding-left: 1em;\r\n",
       "}\r\n",
       "table td {\r\n",
       "    text-align: start;\r\n",
       "}\r\n",
       "table tr { \r\n",
       "    vertical-align: top; \r\n",
       "    margin: 0em 0px;\r\n",
       "}\r\n",
       "table tr td pre \r\n",
       "{ \r\n",
       "    vertical-align: top !important; \r\n",
       "    margin: 0em 0px !important;\r\n",
       "} \r\n",
       "table th {\r\n",
       "    text-align: start;\r\n",
       "}\r\n",
       "</style>"
      ]
     },
     "metadata": {},
     "output_type": "display_data"
    }
   ],
   "source": [
    "string[] names = { \"Oliver\", \"Charlotte\", \"Henry\", \"Amelia\", \"Owen\" };\n",
    "int[] ages = { 23, 19, 42, 64, 35 };\n",
    "double[] heights = { 1.91, 1.62, 1.72, 1.57, 1.85 };\n",
    "DataFrameColumn[] columns = {\n",
    "    new StringDataFrameColumn(\"Name\", names),\n",
    "    new PrimitiveDataFrameColumn<int>(\"Age\", ages),\n",
    "    new PrimitiveDataFrameColumn<double>(\"Height\", heights)\n",
    "    };\n",
    "DataFrame df1 = new(columns);\n",
    "df1.Display();\n",
    "// ===========================================================================\n",
    "List<KeyValuePair<string, object>> newRowData = new()\n",
    "{\n",
    "    new KeyValuePair<string, object>(\"Name\", \"Scott\"),\n",
    "    new KeyValuePair<string, object>(\"Age\", 36),\n",
    "    new KeyValuePair<string, object>(\"Height\", 1.65),\n",
    "};\n",
    "df1.Append(newRowData, inPlace: true);\n",
    "df1.Display();\n",
    "// ===========================================================================\n",
    "int[] weights = { 123, 321, 111, 121, 131,178};\n",
    "PrimitiveDataFrameColumn<int> weightCol = new(\"Weight\", weights);\n",
    "df1.Columns.Add(weightCol);\n",
    "df1.Columns.Add(new PrimitiveDataFrameColumn<int>(\"Weight1\",df1.Rows.Count()));\n",
    "df1.Display();\n",
    "\n",
    "\n",
    "// ===========================================================================\n",
    "DataFrameColumn iqCol = df1[\"Age\"] * df1[\"Height\"] * 1.5;\n",
    "double[] iqs = Enumerable.Range(0, (int)iqCol.Length).Select(x => (double)iqCol[x]).ToArray();\n",
    "df1.Columns.Add(new PrimitiveDataFrameColumn<double>(\"IQ\", iqs));\n",
    "df1"
   ]
  },
  {
   "cell_type": "code",
   "execution_count": 9,
   "metadata": {
    "dotnet_interactive": {
     "language": "csharp"
    },
    "polyglot_notebook": {
     "kernelName": "csharp"
    },
    "vscode": {
     "languageId": "polyglot-notebook"
    }
   },
   "outputs": [
    {
     "ename": "Error",
     "evalue": "(2,18): error CS0246: 找不到類型或命名空間名稱 'MLContext' (是否遺漏了 using 指示詞或組件參考?)",
     "output_type": "error",
     "traceback": [
      "(2,18): error CS0246: 找不到類型或命名空間名稱 'MLContext' (是否遺漏了 using 指示詞或組件參考?)"
     ]
    }
   ],
   "source": [
    "var rand = new Random(0);\n",
    "var context =new MLContext(seed: 1);\n",
    "var x = Enumerable.Range(-10000, 10000).Select(_x => _x * 0.1f).ToArray();\n",
    "var y = x.Select(_x => 100 * _x + (rand.NextSingle() - 0.5f) * 10).ToArray();"
   ]
  },
  {
   "cell_type": "code",
   "execution_count": 10,
   "metadata": {
    "dotnet_interactive": {
     "language": "csharp"
    },
    "polyglot_notebook": {
     "kernelName": "csharp"
    },
    "vscode": {
     "languageId": "polyglot-notebook"
    }
   },
   "outputs": [
    {
     "name": "stdout",
     "output_type": "stream",
     "text": [
      "112\r\n"
     ]
    }
   ],
   "source": [
    "var a = new int[]{82, 2, 4, 3, 15, 6};\n",
    "Console.WriteLine(a.Sum());"
   ]
  },
  {
   "cell_type": "code",
   "execution_count": 22,
   "metadata": {
    "dotnet_interactive": {
     "language": "csharp"
    },
    "polyglot_notebook": {
     "kernelName": "csharp"
    },
    "vscode": {
     "languageId": "polyglot-notebook"
    }
   },
   "outputs": [
    {
     "name": "stdout",
     "output_type": "stream",
     "text": [
      "82\n",
      "4\n",
      "15\n",
      "6\n",
      "82\n",
      "15\n",
      "6\n",
      "4\n",
      "3\n",
      "2\n",
      "53047.5097243\n"
     ]
    }
   ],
   "source": [
    "a.Where(i => i > 3 && i != -999).ToList().ForEach(Console.WriteLine);\n",
    "a.OrderByDescending(m => m).ToList().ForEach(Console.WriteLine);\n",
    "var t = (TimeSpan)(DateTime.Now - DateTime.Today);\n",
    "Console.WriteLine(t.TotalSeconds);"
   ]
  },
  {
   "cell_type": "code",
   "execution_count": 24,
   "metadata": {
    "dotnet_interactive": {
     "language": "csharp"
    },
    "polyglot_notebook": {
     "kernelName": "csharp"
    },
    "vscode": {
     "languageId": "polyglot-notebook"
    }
   },
   "outputs": [
    {
     "data": {
      "text/html": [
       "<table><thead><tr><th><i>index</i></th><th>value</th></tr></thead><tbody><tr><td>0</td><td><details class=\"dni-treeview\"><summary><span class=\"dni-code-hint\"><code>Submission#26+HouseData</code></span></summary><div><table><thead><tr></tr></thead><tbody><tr><td>Size</td><td><div class=\"dni-plaintext\"><pre>1.1</pre></div></td></tr><tr><td>Price</td><td><div class=\"dni-plaintext\"><pre>1.2</pre></div></td></tr></tbody></table></div></details></td></tr><tr><td>1</td><td><details class=\"dni-treeview\"><summary><span class=\"dni-code-hint\"><code>Submission#26+HouseData</code></span></summary><div><table><thead><tr></tr></thead><tbody><tr><td>Size</td><td><div class=\"dni-plaintext\"><pre>1.9</pre></div></td></tr><tr><td>Price</td><td><div class=\"dni-plaintext\"><pre>2.3</pre></div></td></tr></tbody></table></div></details></td></tr><tr><td>2</td><td><details class=\"dni-treeview\"><summary><span class=\"dni-code-hint\"><code>Submission#26+HouseData</code></span></summary><div><table><thead><tr></tr></thead><tbody><tr><td>Size</td><td><div class=\"dni-plaintext\"><pre>2.8</pre></div></td></tr><tr><td>Price</td><td><div class=\"dni-plaintext\"><pre>3</pre></div></td></tr></tbody></table></div></details></td></tr><tr><td>3</td><td><details class=\"dni-treeview\"><summary><span class=\"dni-code-hint\"><code>Submission#26+HouseData</code></span></summary><div><table><thead><tr></tr></thead><tbody><tr><td>Size</td><td><div class=\"dni-plaintext\"><pre>3.4</pre></div></td></tr><tr><td>Price</td><td><div class=\"dni-plaintext\"><pre>3.7</pre></div></td></tr></tbody></table></div></details></td></tr></tbody></table><style>\r\n",
       ".dni-code-hint {\r\n",
       "    font-style: italic;\r\n",
       "    overflow: hidden;\r\n",
       "    white-space: nowrap;\r\n",
       "}\r\n",
       ".dni-treeview {\r\n",
       "    white-space: nowrap;\r\n",
       "}\r\n",
       ".dni-treeview td {\r\n",
       "    vertical-align: top;\r\n",
       "    text-align: start;\r\n",
       "}\r\n",
       "details.dni-treeview {\r\n",
       "    padding-left: 1em;\r\n",
       "}\r\n",
       "table td {\r\n",
       "    text-align: start;\r\n",
       "}\r\n",
       "table tr { \r\n",
       "    vertical-align: top; \r\n",
       "    margin: 0em 0px;\r\n",
       "}\r\n",
       "table tr td pre \r\n",
       "{ \r\n",
       "    vertical-align: top !important; \r\n",
       "    margin: 0em 0px !important;\r\n",
       "} \r\n",
       "table th {\r\n",
       "    text-align: start;\r\n",
       "}\r\n",
       "</style>"
      ]
     },
     "metadata": {},
     "output_type": "display_data"
    }
   ],
   "source": [
    "public class HouseData\n",
    "{\n",
    "    public float Size { get; set; }\n",
    "    public float Price { get; set; }\n",
    "}\n",
    "\n",
    "HouseData[] houseData = {\n",
    "    new HouseData() { Size = 1.1F, Price = 1.2F },\n",
    "    new HouseData() { Size = 1.9F, Price = 2.3F },\n",
    "    new HouseData() { Size = 2.8F, Price = 3.0F },\n",
    "    new HouseData() { Size = 3.4F, Price = 3.7F } };\n",
    "\n",
    "houseData.Where(x=>x.Price >=0).ToList()"
   ]
  },
  {
   "cell_type": "code",
   "execution_count": 19,
   "metadata": {
    "dotnet_interactive": {
     "language": "csharp"
    },
    "polyglot_notebook": {
     "kernelName": "csharp"
    },
    "vscode": {
     "languageId": "polyglot-notebook"
    }
   },
   "outputs": [
    {
     "data": {
      "text/html": [
       "<table><thead><tr><th><i>index</i></th><th>value</th></tr></thead><tbody><tr><td>0</td><td><details class=\"dni-treeview\"><summary><span class=\"dni-code-hint\"><code>Submission#21+Member</code></span></summary><div><table><thead><tr></tr></thead><tbody><tr><td>Id</td><td><div class=\"dni-plaintext\"><pre>1</pre></div></td></tr><tr><td>Name</td><td><div class=\"dni-plaintext\"><pre>Amy</pre></div></td></tr><tr><td>Age</td><td><div class=\"dni-plaintext\"><pre>18</pre></div></td></tr></tbody></table></div></details></td></tr><tr><td>1</td><td><details class=\"dni-treeview\"><summary><span class=\"dni-code-hint\"><code>Submission#21+Member</code></span></summary><div><table><thead><tr></tr></thead><tbody><tr><td>Id</td><td><div class=\"dni-plaintext\"><pre>2</pre></div></td></tr><tr><td>Name</td><td><div class=\"dni-plaintext\"><pre>Bob</pre></div></td></tr><tr><td>Age</td><td><div class=\"dni-plaintext\"><pre>54</pre></div></td></tr></tbody></table></div></details></td></tr><tr><td>2</td><td><details class=\"dni-treeview\"><summary><span class=\"dni-code-hint\"><code>Submission#21+Member</code></span></summary><div><table><thead><tr></tr></thead><tbody><tr><td>Id</td><td><div class=\"dni-plaintext\"><pre>3</pre></div></td></tr><tr><td>Name</td><td><div class=\"dni-plaintext\"><pre>Carol</pre></div></td></tr><tr><td>Age</td><td><div class=\"dni-plaintext\"><pre>27</pre></div></td></tr></tbody></table></div></details></td></tr></tbody></table><style>\r\n",
       ".dni-code-hint {\r\n",
       "    font-style: italic;\r\n",
       "    overflow: hidden;\r\n",
       "    white-space: nowrap;\r\n",
       "}\r\n",
       ".dni-treeview {\r\n",
       "    white-space: nowrap;\r\n",
       "}\r\n",
       ".dni-treeview td {\r\n",
       "    vertical-align: top;\r\n",
       "    text-align: start;\r\n",
       "}\r\n",
       "details.dni-treeview {\r\n",
       "    padding-left: 1em;\r\n",
       "}\r\n",
       "table td {\r\n",
       "    text-align: start;\r\n",
       "}\r\n",
       "table tr { \r\n",
       "    vertical-align: top; \r\n",
       "    margin: 0em 0px;\r\n",
       "}\r\n",
       "table tr td pre \r\n",
       "{ \r\n",
       "    vertical-align: top !important; \r\n",
       "    margin: 0em 0px !important;\r\n",
       "} \r\n",
       "table th {\r\n",
       "    text-align: start;\r\n",
       "}\r\n",
       "</style>"
      ]
     },
     "metadata": {},
     "output_type": "display_data"
    },
    {
     "name": "stdout",
     "output_type": "stream",
     "text": [
      "18\n",
      "54\n",
      "27\n"
     ]
    }
   ],
   "source": [
    "// List<string> numbers = new List<string>();\n",
    "public class Member\n",
    "{\n",
    "    // Declare three properties with get and set accessors\n",
    "    public int Id { get; set; }\n",
    "    public string Name { get; set; }\n",
    "    public int Age { get; set; }\n",
    "}\n",
    "\n",
    "// \"Alice\", \"Bob\", \"Charlie\"\n",
    "List<Member> Members = new List<Member> {};\n",
    "Members.Add(new Member { Id = 1, Name = \"Amy\", Age = 18 });\n",
    "Members.Add(new Member { Id = 2, Name = \"Bob\", Age = 54 });\n",
    "Members.Add(new Member { Id = 3, Name = \"Carol\", Age = 27 });\n",
    "\n",
    "Members.Display();\n",
    "\n",
    "foreach (var i in Members)\n",
    "{\n",
    "    Console.WriteLine(i.Age);\n",
    "}"
   ]
  },
  {
   "cell_type": "code",
   "execution_count": 31,
   "metadata": {
    "dotnet_interactive": {
     "language": "csharp"
    },
    "polyglot_notebook": {
     "kernelName": "csharp"
    },
    "vscode": {
     "languageId": "polyglot-notebook"
    }
   },
   "outputs": [
    {
     "data": {
      "text/html": [
       "<div class=\"dni-plaintext\"><pre>[ Alice, Bob, Charlie ]</pre></div><style>\r\n",
       ".dni-code-hint {\r\n",
       "    font-style: italic;\r\n",
       "    overflow: hidden;\r\n",
       "    white-space: nowrap;\r\n",
       "}\r\n",
       ".dni-treeview {\r\n",
       "    white-space: nowrap;\r\n",
       "}\r\n",
       ".dni-treeview td {\r\n",
       "    vertical-align: top;\r\n",
       "    text-align: start;\r\n",
       "}\r\n",
       "details.dni-treeview {\r\n",
       "    padding-left: 1em;\r\n",
       "}\r\n",
       "table td {\r\n",
       "    text-align: start;\r\n",
       "}\r\n",
       "table tr { \r\n",
       "    vertical-align: top; \r\n",
       "    margin: 0em 0px;\r\n",
       "}\r\n",
       "table tr td pre \r\n",
       "{ \r\n",
       "    vertical-align: top !important; \r\n",
       "    margin: 0em 0px !important;\r\n",
       "} \r\n",
       "table th {\r\n",
       "    text-align: start;\r\n",
       "}\r\n",
       "</style>"
      ]
     },
     "metadata": {},
     "output_type": "display_data"
    }
   ],
   "source": [
    "// Create a list of strings with initial elements\n",
    "List<string> names = new List<string> {\"Alice\", \"Bob\", \"Charlie\"};\n",
    "names"
   ]
  },
  {
   "cell_type": "code",
   "execution_count": 1,
   "metadata": {
    "dotnet_interactive": {
     "language": "csharp"
    },
    "polyglot_notebook": {
     "kernelName": "csharp"
    },
    "vscode": {
     "languageId": "polyglot-notebook"
    }
   },
   "outputs": [
    {
     "name": "stdout",
     "output_type": "stream",
     "text": [
      "test1\n",
      "test2\n",
      "test3\n",
      "True\n"
     ]
    },
    {
     "data": {
      "text/html": [
       "<details open=\"open\" class=\"dni-treeview\"><summary><span class=\"dni-code-hint\"><code>Submission#2+Coords</code></span></summary><div><table><thead><tr></tr></thead><tbody><tr><td>x</td><td><div class=\"dni-plaintext\"><pre>10</pre></div></td></tr><tr><td>y</td><td><div class=\"dni-plaintext\"><pre>10</pre></div></td></tr></tbody></table></div></details><style>\r\n",
       ".dni-code-hint {\r\n",
       "    font-style: italic;\r\n",
       "    overflow: hidden;\r\n",
       "    white-space: nowrap;\r\n",
       "}\r\n",
       ".dni-treeview {\r\n",
       "    white-space: nowrap;\r\n",
       "}\r\n",
       ".dni-treeview td {\r\n",
       "    vertical-align: top;\r\n",
       "    text-align: start;\r\n",
       "}\r\n",
       "details.dni-treeview {\r\n",
       "    padding-left: 1em;\r\n",
       "}\r\n",
       "table td {\r\n",
       "    text-align: start;\r\n",
       "}\r\n",
       "table tr { \r\n",
       "    vertical-align: top; \r\n",
       "    margin: 0em 0px;\r\n",
       "}\r\n",
       "table tr td pre \r\n",
       "{ \r\n",
       "    vertical-align: top !important; \r\n",
       "    margin: 0em 0px !important;\r\n",
       "} \r\n",
       "table th {\r\n",
       "    text-align: start;\r\n",
       "}\r\n",
       "</style>"
      ]
     },
     "metadata": {},
     "output_type": "display_data"
    }
   ],
   "source": [
    "var DicList = new Dictionary<String, String>();\n",
    "// DicList\n",
    "DicList.Add(\"s1\", \"test1\");\n",
    "DicList.Add(\"s2\", \"test2\");\n",
    "DicList.Add(\"s3\", \"test3\");\n",
    "// _DicList\n",
    "foreach (KeyValuePair<string, string> item in DicList) {\n",
    "    Console.WriteLine(item.Value);\n",
    "}\n",
    "Console.WriteLine( DicList.ContainsKey(\"s3\") );\n",
    "\n",
    "// DicList.TryGetValue(\"test3\", out value);\n",
    "\n",
    "public struct Coords\n",
    "{\n",
    "    public int x, y;\n",
    "\n",
    "    public Coords(int p1, int p2)\n",
    "    {\n",
    "        x = p1;\n",
    "        y = p2;\n",
    "    }\n",
    "}\n",
    "// Initialize:   \n",
    "Coords coords1 = new Coords();\n",
    "Coords coords2 = new Coords(10, 10);\n",
    "coords2"
   ]
  },
  {
   "cell_type": "markdown",
   "metadata": {},
   "source": [
    "# DateTime相關\n",
    "https://blog.darkthread.net/blog/get-ymd-between-two-dates/?fbclid=IwAR3QO85PenL5ZEuom4XMpwQNZAGGE0JYihOkqTsUFRjod7ZboLyxc6qpS0I\n",
    "\n",
    "https://blog.darkthread.net/blog/js-date-yyyymmdd-hhmmss/?fbclid=IwAR0vwC2Pj8Rlcpfz3tcCrAoWRFWzU6f5xiHgaereiPhwDSjiB8RsvfGYN1k"
   ]
  },
  {
   "cell_type": "code",
   "execution_count": null,
   "metadata": {
    "dotnet_interactive": {
     "language": "csharp"
    },
    "polyglot_notebook": {
     "kernelName": "csharp"
    },
    "vscode": {
     "languageId": "polyglot-notebook"
    }
   },
   "outputs": [],
   "source": [
    "DateTime.Now.ToString(\"HH:mm:ss\")\n",
    "\n",
    "DateTime i ;\n",
    "var bgn = new DateTime(2023, 3, 21, 13, 30, 25).ToString(\"HH:mm:ss\");\n",
    "DateTime.TryParse(bgn, out i);\n",
    "\n",
    "var bgn1 = new DateTime(2023, 3, 21, 13, 60, 25).ToString(\"HH:mm:ss\");\n",
    "DateTime.TryParse(bgn, out \"sfasdf\"); \n",
    "\n",
    "DateTime(bgn1) > DateTime(bgn)\n",
    "bgnyyyy/MM/dd \n",
    "\n",
    "bgn//.AddMinutes(90)\n",
    "new DateTime(2023, 7, 26, 15, 29, 30).Year\n",
    "new DateTime(2023, 7, 26, 15, 29, 30).Month\n",
    "new DateTime(2023, 7, 26, 15, 29, 30).Day"
   ]
  },
  {
   "cell_type": "code",
   "execution_count": 34,
   "metadata": {
    "dotnet_interactive": {
     "language": "csharp"
    },
    "polyglot_notebook": {
     "kernelName": "csharp"
    },
    "vscode": {
     "languageId": "polyglot-notebook"
    }
   },
   "outputs": [
    {
     "name": "stdout",
     "output_type": "stream",
     "text": [
      "2023/01/01 ~ 2024/02/01 共 1 年 1 個月又 0 天\n",
      "2010/01/15 ~ 2020/03/15 共 10 年 2 個月又 0 天\n",
      "2022/11/15 ~ 2023/01/21 共 0 年 2 個月又 6 天\n",
      "2023/02/28 ~ 2024/02/28 共 1 年 0 個月又 0 天\n",
      "2024/02/28 ~ 2025/02/28 共 1 年 0 個月又 0 天\n",
      "2021/05/15 ~ 2022/04/15 共 0 年 11 個月又 0 天\n",
      "2022/01/28 ~ 2022/03/01 共 0 年 1 個月又 1 天\n"
     ]
    }
   ],
   "source": [
    "(DateTime st, DateTime ed, int y, int m, int d) func(DateTime start, DateTime end){\n",
    "    \n",
    "    int years = (end.Year - start.Year);\n",
    "    int months = (end.Month - start.Month);\n",
    "    int days = (end.Day - start.Day);    \n",
    "\n",
    "    if (days < 0)\n",
    "    {\n",
    "        months--;\n",
    "        var lastMon = end.AddMonths(-1);\n",
    "        days += DateTime.DaysInMonth(lastMon.Year, lastMon.Month);\n",
    "    }\n",
    "\n",
    "    if (months < 0)\n",
    "    {\n",
    "        years--;\n",
    "        months += 12;\n",
    "    }\n",
    "    return (start, end, years, months, days);\n",
    "}\n",
    "\n",
    "var tests = new List<(DateTime st, DateTime ed)> {\n",
    "    (new DateTime(2023, 1, 1), new DateTime(2024, 2, 1)),\n",
    "    (new DateTime(2010, 1, 15), new DateTime(2020, 3, 15)),\n",
    "    (new DateTime(2022, 11, 15), new DateTime(2023, 1, 21)),\n",
    "    (new DateTime(2023, 2, 28), new DateTime(2024, 2, 28)),\n",
    "    (new DateTime(2024, 2, 28), new DateTime(2025, 2, 28)),\n",
    "    (new DateTime(2021, 5, 15), new DateTime(2022, 4, 15)),\n",
    "    (new DateTime(2022, 1, 28), new DateTime(2022, 3, 1))\t\n",
    "};\n",
    "\n",
    "foreach (var data in tests){\n",
    "    Print(func(data.st, data.ed));\n",
    "}\n",
    "\n",
    "void Print((DateTime from, DateTime to, int y, int m, int d) data) =>\n",
    "\tConsole.WriteLine($\"{data.from:yyyy/MM/dd} ~ {data.to:yyyy/MM/dd} 共 {data.y} 年 {data.m} 個月又 {data.d} 天\");"
   ]
  }
 ],
 "metadata": {
  "language_info": {
   "name": "python"
  },
  "orig_nbformat": 4
 },
 "nbformat": 4,
 "nbformat_minor": 2
}
